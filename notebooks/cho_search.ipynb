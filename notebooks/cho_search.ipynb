{
 "cells": [
  {
   "cell_type": "code",
   "execution_count": 31,
   "metadata": {},
   "outputs": [],
   "source": [
    "import pyarrow as pa\n",
    "import pyarrow.feather as feather\n",
    "import pyarrow.parquet as pq\n",
    "import pyarrow.compute as pc\n",
    "import numpy as np\n",
    "from pathlib import Path\n",
    "from rich.progress import track"
   ]
  },
  {
   "cell_type": "code",
   "execution_count": 2,
   "metadata": {},
   "outputs": [
    {
     "name": "stdout",
     "output_type": "stream",
     "text": [
      "-rw-rw-r--. 1 djs10 645div   257977993 Apr 20 11:51 /data/aiomics/massspec_cache/uniprot/cho/cho_uniprot_tryptic_2.parquet\n",
      "-rw-rw-r--. 1 djs10 645div   283786246 Apr 20 12:19 /data/aiomics/massspec_cache/uniprot/cho/cho_uniprot_tryptic_2_tmt.parquet\n",
      "-rw-r--r--. 1 djs10 645div 12269375854 May 25 14:13 /data/aiomics/massspec_cache/uniprot/cho/predicted_cho_uniprot_tryptic_2_0.parquet\n",
      "-rw-r--r--. 1 djs10 645div 12573970866 May 25 14:17 /data/aiomics/massspec_cache/uniprot/cho/predicted_cho_uniprot_tryptic_2_1.parquet\n",
      "-rw-r--r--. 1 djs10 645div 12844369481 May 25 14:21 /data/aiomics/massspec_cache/uniprot/cho/predicted_cho_uniprot_tryptic_2_2.parquet\n",
      "-rw-r--r--. 1 djs10 645div 12310726608 May 25 14:26 /data/aiomics/massspec_cache/uniprot/cho/predicted_cho_uniprot_tryptic_2_3.parquet\n",
      "-rw-r--r--. 1 djs10 645div 11927726552 May 25 14:30 /data/aiomics/massspec_cache/uniprot/cho/predicted_cho_uniprot_tryptic_2_4.parquet\n",
      "-rw-r--r--. 1 djs10 645div  9185134284 May 25 14:33 /data/aiomics/massspec_cache/uniprot/cho/predicted_cho_uniprot_tryptic_2_5.parquet\n",
      "-rw-rw-r--. 1 djs10 645div 29249339394 Apr 25 21:27 /data/aiomics/massspec_cache/uniprot/cho/predicted_cho_uniprot_tryptic_2_0.arrow\n",
      "-rw-rw-r--. 1 djs10 645div 29769728626 Apr 25 22:10 /data/aiomics/massspec_cache/uniprot/cho/predicted_cho_uniprot_tryptic_2_1.arrow\n",
      "-rw-rw-r--. 1 djs10 645div 30145136186 Apr 25 21:26 /data/aiomics/massspec_cache/uniprot/cho/predicted_cho_uniprot_tryptic_2_2.arrow\n",
      "-rw-rw-r--. 1 djs10 645div 29257910130 Apr 25 21:24 /data/aiomics/massspec_cache/uniprot/cho/predicted_cho_uniprot_tryptic_2_3.arrow\n",
      "-rw-rw-r--. 1 djs10 645div 29026097490 Apr 25 21:00 /data/aiomics/massspec_cache/uniprot/cho/predicted_cho_uniprot_tryptic_2_4.arrow\n",
      "-rw-rw-r--. 1 djs10 645div 21739170266 Apr 25 13:27 /data/aiomics/massspec_cache/uniprot/cho/predicted_cho_uniprot_tryptic_2_5.arrow\n"
     ]
    }
   ],
   "source": [
    "!ls -l /data/aiomics/massspec_cache/uniprot/cho/*.parquet\n",
    "!ls -l /data/aiomics/massspec_cache/uniprot/cho/*.arrow\n"
   ]
  },
  {
   "cell_type": "code",
   "execution_count": 17,
   "metadata": {},
   "outputs": [
    {
     "data": {
      "application/vnd.jupyter.widget-view+json": {
       "model_id": "2ce0b480c8714da3ab5337254cb5dc8b",
       "version_major": 2,
       "version_minor": 0
      },
      "text/plain": [
       "Output()"
      ]
     },
     "metadata": {},
     "output_type": "display_data"
    },
    {
     "data": {
      "text/html": [
       "<pre style=\"white-space:pre;overflow-x:auto;line-height:normal;font-family:Menlo,'DejaVu Sans Mono',consolas,'Courier New',monospace\"></pre>\n"
      ],
      "text/plain": []
     },
     "metadata": {},
     "output_type": "display_data"
    },
    {
     "data": {
      "text/html": [
       "<pre style=\"white-space:pre;overflow-x:auto;line-height:normal;font-family:Menlo,'DejaVu Sans Mono',consolas,'Courier New',monospace\">\n",
       "</pre>\n"
      ],
      "text/plain": [
       "\n"
      ]
     },
     "metadata": {},
     "output_type": "display_data"
    }
   ],
   "source": [
    "for input in track(Path('/data/search_asms2023/cho').glob('*.arrow')):\n",
    "    output = input.with_suffix('.parquet')\n",
    "    table = feather.read_table(input)\n",
    "    pq.write_table(table, output)"
   ]
  },
  {
   "cell_type": "code",
   "execution_count": 19,
   "metadata": {},
   "outputs": [
    {
     "data": {
      "text/plain": [
       "pyarrow.Table\n",
       "id: uint64\n",
       "instrument: string\n",
       "instrument_type: string\n",
       "instrument_model: string\n",
       "ion_mode: string\n",
       "ionization: string\n",
       "name: string\n",
       "synonyms: string\n",
       "scan: string\n",
       "collision_energy: double\n",
       "retention_time: double\n",
       "collision_gas: string\n",
       "insource_voltage: int64\n",
       "sample_inlet: string\n",
       "ev: double\n",
       "nce: double\n",
       "charge: int8\n",
       "precursor_mz: double\n",
       "exact_mass: double\n",
       "exact_mw: double\n",
       "annotations: large_list<item: struct<ion_type: dictionary<values=string, indices=int32, ordered=0>, product_charge: int8, isotope: uint8, ion_subtype: dictionary<values=string, indices=int32, ordered=0>, position: uint16, end_position: uint16, aa_before: dictionary<values=string, indices=int32, ordered=0>, aa_after: dictionary<values=string, indices=int32, ordered=0>, ptm_before: dictionary<values=string, indices=int32, ordered=0>, ptm_after: dictionary<values=string, indices=int32, ordered=0>>>\n",
       "  child 0, item: struct<ion_type: dictionary<values=string, indices=int32, ordered=0>, product_charge: int8, isotope: uint8, ion_subtype: dictionary<values=string, indices=int32, ordered=0>, position: uint16, end_position: uint16, aa_before: dictionary<values=string, indices=int32, ordered=0>, aa_after: dictionary<values=string, indices=int32, ordered=0>, ptm_before: dictionary<values=string, indices=int32, ordered=0>, ptm_after: dictionary<values=string, indices=int32, ordered=0>>\n",
       "      child 0, ion_type: dictionary<values=string, indices=int32, ordered=0>\n",
       "      child 1, product_charge: int8\n",
       "      child 2, isotope: uint8\n",
       "      child 3, ion_subtype: dictionary<values=string, indices=int32, ordered=0>\n",
       "      child 4, position: uint16\n",
       "      child 5, end_position: uint16\n",
       "      child 6, aa_before: dictionary<values=string, indices=int32, ordered=0>\n",
       "      child 7, aa_after: dictionary<values=string, indices=int32, ordered=0>\n",
       "      child 8, ptm_before: dictionary<values=string, indices=int32, ordered=0>\n",
       "      child 9, ptm_after: dictionary<values=string, indices=int32, ordered=0>\n",
       "spectrum_fp: large_list<item: uint8>\n",
       "  child 0, item: uint8\n",
       "spectrum_fp_count: int32\n",
       "hybrid_fp: large_list<item: float>\n",
       "  child 0, item: float\n",
       "set: dictionary<values=string, indices=int32, ordered=0>\n",
       "composition: dictionary<values=string, indices=int32, ordered=0>\n",
       "intensity: large_list<item: double>\n",
       "  child 0, item: double\n",
       "stddev: large_list<item: double>\n",
       "  child 0, item: double\n",
       "product_massinfo: struct<tolerance: double, tolerance_type: dictionary<values=string, indices=int32, ordered=0>, mass_type: dictionary<values=string, indices=int32, ordered=0>, neutral_loss: string, neutral_loss_charge: int64, evenly_spaced: bool>\n",
       "  child 0, tolerance: double\n",
       "  child 1, tolerance_type: dictionary<values=string, indices=int32, ordered=0>\n",
       "  child 2, mass_type: dictionary<values=string, indices=int32, ordered=0>\n",
       "  child 3, neutral_loss: string\n",
       "  child 4, neutral_loss_charge: int64\n",
       "  child 5, evenly_spaced: bool\n",
       "mz: large_list<item: double>\n",
       "  child 0, item: double\n",
       "precursor_intensity: double\n",
       "precursor_massinfo: struct<tolerance: double, tolerance_type: dictionary<values=string, indices=int32, ordered=0>, mass_type: dictionary<values=string, indices=int32, ordered=0>, neutral_loss: string, neutral_loss_charge: int64, evenly_spaced: bool>\n",
       "  child 0, tolerance: double\n",
       "  child 1, tolerance_type: dictionary<values=string, indices=int32, ordered=0>\n",
       "  child 2, mass_type: dictionary<values=string, indices=int32, ordered=0>\n",
       "  child 3, neutral_loss: string\n",
       "  child 4, neutral_loss_charge: int64\n",
       "  child 5, evenly_spaced: bool\n",
       "starts: large_list<item: double>\n",
       "  child 0, item: double\n",
       "stops: large_list<item: double>\n",
       "  child 0, item: double\n",
       "peptide: string\n",
       "peptide_len: int32\n",
       "peptide_type: dictionary<values=string, indices=int32, ordered=0>\n",
       "mod_names: large_list<item: int16>\n",
       "  child 0, item: int16\n",
       "mod_positions: large_list<item: int32>\n",
       "  child 0, item: int32\n",
       "protein_id: large_list<item: string>\n",
       "  child 0, item: string\n",
       "----\n",
       "id: [[0,1,2,3,4,...,131067,131068,131069,131070,131071],[131072,131073,131074,131075,131076,...,262139,262140,262141,262142,262143],...,[2752512,2752513,2752514,2752515,2752516,...,2883579,2883580,2883581,2883582,2883583],[2883584,2883585,2883586,2883587,2883588,...,2999995,2999996,2999997,2999998,2999999]]\n",
       "instrument: [[null,null,null,null,null,...,null,null,null,null,null],[null,null,null,null,null,...,null,null,null,null,null],...,[null,null,null,null,null,...,null,null,null,null,null],[null,null,null,null,null,...,null,null,null,null,null]]\n",
       "instrument_type: [[null,null,null,null,null,...,null,null,null,null,null],[null,null,null,null,null,...,null,null,null,null,null],...,[null,null,null,null,null,...,null,null,null,null,null],[null,null,null,null,null,...,null,null,null,null,null]]\n",
       "instrument_model: [[null,null,null,null,null,...,null,null,null,null,null],[null,null,null,null,null,...,null,null,null,null,null],...,[null,null,null,null,null,...,null,null,null,null,null],[null,null,null,null,null,...,null,null,null,null,null]]\n",
       "ion_mode: [[null,null,null,null,null,...,null,null,null,null,null],[null,null,null,null,null,...,null,null,null,null,null],...,[null,null,null,null,null,...,null,null,null,null,null],[null,null,null,null,null,...,null,null,null,null,null]]\n",
       "ionization: [[null,null,null,null,null,...,null,null,null,null,null],[null,null,null,null,null,...,null,null,null,null,null],...,[null,null,null,null,null,...,null,null,null,null,null],[null,null,null,null,null,...,null,null,null,null,null]]\n",
       "name: [[\"AAAVALHK/2_30.0\",\"AAAVALHK/2_1(1,A,Acetyl)_30.0\",\"AAAVALHK/3_30.0\",\"AAAVALHK/3_1(1,A,Acetyl)_30.0\",\"AAAVALHK/4_30.0\",...,\"MASDLEQLCSYVNEKIDNIK/2_3(9,C,Carbamidomethyl)(1,M,Oxidation)(1,M,Acetyl)_30.0\",\"MASDLEQLCSYVNEKIDNIK/3_1(9,C,Carbamidomethyl)_30.0\",\"MASDLEQLCSYVNEKIDNIK/3_2(9,C,Carbamidomethyl)(3,S,Phospho)_30.0\",\"MASDLEQLCSYVNEKIDNIK/3_2(9,C,Carbamidomethyl)(10,S,Phospho)_30.0\",\"MASDLEQLCSYVNEKIDNIK/3_2(9,C,Carbamidomethyl)(1,M,Oxidation)_30.0\"],[\"MASDLEQLCSYVNEKIDNIK/3_2(9,C,Carbamidomethyl)(1,M,Acetyl)_30.0\",\"MASDLEQLCSYVNEKIDNIK/3_3(9,C,Carbamidomethyl)(3,S,Phospho)(10,S,Phospho)_30.0\",\"MASDLEQLCSYVNEKIDNIK/3_3(9,C,Carbamidomethyl)(3,S,Phospho)(1,M,Oxidation)_30.0\",\"MASDLEQLCSYVNEKIDNIK/3_3(9,C,Carbamidomethyl)(3,S,Phospho)(1,M,Acetyl)_30.0\",\"MASDLEQLCSYVNEKIDNIK/3_3(9,C,Carbamidomethyl)(10,S,Phospho)(1,M,Oxidation)_30.0\",...,\"MDTLPPTVGDDVGKGAAPNVVYTYTGK/4_2(3,T,Phospho)(23,T,Phospho)_30.0\",\"MDTLPPTVGDDVGKGAAPNVVYTYTGK/4_2(3,T,Phospho)(25,T,Phospho)_30.0\",\"MDTLPPTVGDDVGKGAAPNVVYTYTGK/4_2(3,T,Phospho)(1,M,Oxidation)_30.0\",\"MDTLPPTVGDDVGKGAAPNVVYTYTGK/4_2(3,T,Phospho)(1,M,Acetyl)_30.0\",\"MDTLPPTVGDDVGKGAAPNVVYTYTGK/4_2(7,T,Phospho)(23,T,Phospho)_30.0\"],...,[\"DCNPTVTTESDQEVSCNFER/3_3(2,C,Carbamidomethyl)(16,C,Carbamidomethyl)(5,T,Phospho)_30.0\",\"DCNPTVTTESDQEVSCNFER/3_3(2,C,Carbamidomethyl)(16,C,Carbamidomethyl)(7,T,Phospho)_30.0\",\"DCNPTVTTESDQEVSCNFER/3_3(2,C,Carbamidomethyl)(16,C,Carbamidomethyl)(8,T,Phospho)_30.0\",\"DCNPTVTTESDQEVSCNFER/3_4(2,C,Carbamidomethyl)(16,C,Carbamidomethyl)(10,S,Phospho)(15,S,Phospho)_30.0\",\"DCNPTVTTESDQEVSCNFER/3_4(2,C,Carbamidomethyl)(16,C,Carbamidomethyl)(10,S,Phospho)(5,T,Phospho)_30.0\",...,\"DFVVGALILRSIGMHPDDIYAVIQIPGSR/4_1(28,S,Phospho)_30.0\",\"DFVVGALILRSIGMHPDDIYAVIQIPGSR/4_1(14,M,Oxidation)_30.0\",\"DFVVGALILRSIGMHPDDIYAVIQIPGSR/4_2(11,S,Phospho)(28,S,Phospho)_30.0\",\"DFVVGALILRSIGMHPDDIYAVIQIPGSR/4_2(11,S,Phospho)(14,M,Oxidation)_30.0\",\"DFVVGALILRSIGMHPDDIYAVIQIPGSR/4_2(28,S,Phospho)(14,M,Oxidation)_30.0\"],[\"DFVVKNMQTSESHPLR/3_30.0\",\"DFVVKNMQTSESHPLR/3_1(10,S,Phospho)_30.0\",\"DFVVKNMQTSESHPLR/3_1(12,S,Phospho)_30.0\",\"DFVVKNMQTSESHPLR/3_1(9,T,Phospho)_30.0\",\"DFVVKNMQTSESHPLR/3_1(7,M,Oxidation)_30.0\",...,\"DITLSIRPETHSPGMFSWFPILFPLK/4_2(5,S,Phospho)(10,T,Phospho)_30.0\",\"DITLSIRPETHSPGMFSWFPILFPLK/4_2(5,S,Phospho)(15,M,Oxidation)_30.0\",\"DITLSIRPETHSPGMFSWFPILFPLK/4_2(12,S,Phospho)(17,S,Phospho)_30.0\",\"DITLSIRPETHSPGMFSWFPILFPLK/4_2(12,S,Phospho)(3,T,Phospho)_30.0\",\"DITLSIRPETHSPGMFSWFPILFPLK/4_2(12,S,Phospho)(10,T,Phospho)_30.0\"]]\n",
       "synonyms: [[null,null,null,null,null,...,null,null,null,null,null],[null,null,null,null,null,...,null,null,null,null,null],...,[null,null,null,null,null,...,null,null,null,null,null],[null,null,null,null,null,...,null,null,null,null,null]]\n",
       "scan: [[null,null,null,null,null,...,null,null,null,null,null],[null,null,null,null,null,...,null,null,null,null,null],...,[null,null,null,null,null,...,null,null,null,null,null],[null,null,null,null,null,...,null,null,null,null,null]]\n",
       "collision_energy: [[null,null,null,null,null,...,null,null,null,null,null],[null,null,null,null,null,...,null,null,null,null,null],...,[null,null,null,null,null,...,null,null,null,null,null],[null,null,null,null,null,...,null,null,null,null,null]]\n",
       "..."
      ]
     },
     "execution_count": 19,
     "metadata": {},
     "output_type": "execute_result"
    }
   ],
   "source": [
    "table = pq.read_table(\"/data/aiomics/massspec_cache/uniprot/cho/predicted_cho_uniprot_tryptic_2_0.parquet\")\n",
    "table"
   ]
  },
  {
   "cell_type": "code",
   "execution_count": 49,
   "metadata": {},
   "outputs": [
    {
     "data": {
      "text/plain": [
       "pyarrow.Table\n",
       "id: uint64\n",
       "charge: int8\n",
       "ev: double\n",
       "instrument: string\n",
       "instrument_type: string\n",
       "instrument_model: string\n",
       "ion_mode: string\n",
       "ionization: string\n",
       "name: string\n",
       "synonyms: string\n",
       "scan: string\n",
       "nce: double\n",
       "collision_energy: double\n",
       "retention_time: double\n",
       "collision_gas: string\n",
       "insource_voltage: int64\n",
       "sample_inlet: string\n",
       "intensity: large_list<item: double>\n",
       "  child 0, item: double\n",
       "stddev: large_list<item: double>\n",
       "  child 0, item: double\n",
       "product_massinfo: struct<tolerance: double, tolerance_type: dictionary<values=string, indices=int32, ordered=0>, mass_type: dictionary<values=string, indices=int32, ordered=0>, neutral_loss: string, neutral_loss_charge: int64, evenly_spaced: bool>\n",
       "  child 0, tolerance: double\n",
       "  child 1, tolerance_type: dictionary<values=string, indices=int32, ordered=0>\n",
       "  child 2, mass_type: dictionary<values=string, indices=int32, ordered=0>\n",
       "  child 3, neutral_loss: string\n",
       "  child 4, neutral_loss_charge: int64\n",
       "  child 5, evenly_spaced: bool\n",
       "mz: large_list<item: double>\n",
       "  child 0, item: double\n",
       "precursor_intensity: double\n",
       "precursor_massinfo: struct<tolerance: double, tolerance_type: dictionary<values=string, indices=int32, ordered=0>, mass_type: dictionary<values=string, indices=int32, ordered=0>, neutral_loss: string, neutral_loss_charge: int64, evenly_spaced: bool>\n",
       "  child 0, tolerance: double\n",
       "  child 1, tolerance_type: dictionary<values=string, indices=int32, ordered=0>\n",
       "  child 2, mass_type: dictionary<values=string, indices=int32, ordered=0>\n",
       "  child 3, neutral_loss: string\n",
       "  child 4, neutral_loss_charge: int64\n",
       "  child 5, evenly_spaced: bool\n",
       "precursor_mz: double\n",
       "starts: large_list<item: double>\n",
       "  child 0, item: double\n",
       "stops: large_list<item: double>\n",
       "  child 0, item: double\n",
       "exact_mass: double\n",
       "exact_mw: double\n",
       "annotations: large_list<item: struct<ion_type: dictionary<values=string, indices=int32, ordered=0>, product_charge: int8, isotope: uint8, ion_subtype: dictionary<values=string, indices=int32, ordered=0>, position: uint16, end_position: uint16, aa_before: dictionary<values=string, indices=int32, ordered=0>, aa_after: dictionary<values=string, indices=int32, ordered=0>, ptm_before: dictionary<values=string, indices=int32, ordered=0>, ptm_after: dictionary<values=string, indices=int32, ordered=0>>>\n",
       "  child 0, item: struct<ion_type: dictionary<values=string, indices=int32, ordered=0>, product_charge: int8, isotope: uint8, ion_subtype: dictionary<values=string, indices=int32, ordered=0>, position: uint16, end_position: uint16, aa_before: dictionary<values=string, indices=int32, ordered=0>, aa_after: dictionary<values=string, indices=int32, ordered=0>, ptm_before: dictionary<values=string, indices=int32, ordered=0>, ptm_after: dictionary<values=string, indices=int32, ordered=0>>\n",
       "      child 0, ion_type: dictionary<values=string, indices=int32, ordered=0>\n",
       "      child 1, product_charge: int8\n",
       "      child 2, isotope: uint8\n",
       "      child 3, ion_subtype: dictionary<values=string, indices=int32, ordered=0>\n",
       "      child 4, position: uint16\n",
       "      child 5, end_position: uint16\n",
       "      child 6, aa_before: dictionary<values=string, indices=int32, ordered=0>\n",
       "      child 7, aa_after: dictionary<values=string, indices=int32, ordered=0>\n",
       "      child 8, ptm_before: dictionary<values=string, indices=int32, ordered=0>\n",
       "      child 9, ptm_after: dictionary<values=string, indices=int32, ordered=0>\n",
       "spectrum_fp: large_list<item: uint8>\n",
       "  child 0, item: uint8\n",
       "spectrum_fp_count: int32\n",
       "hybrid_fp: large_list<item: float>\n",
       "  child 0, item: float\n",
       "set: dictionary<values=string, indices=int32, ordered=0>\n",
       "composition: dictionary<values=string, indices=int32, ordered=0>\n",
       "peptide: string\n",
       "peptide_len: int32\n",
       "mod_names: large_list<item: int16>\n",
       "  child 0, item: int16\n",
       "mod_positions: large_list<item: int32>\n",
       "  child 0, item: int32\n",
       "peptide_type: dictionary<values=string, indices=int32, ordered=0>\n",
       "is_phospho: bool\n",
       "----\n",
       "id: [[24,40,41,62,63,...,2178287,2178295,2178296,2178309,2178315],[2178316,2178317,2178392,2178393,2178413,...,2448581,2448582,2448684,2448685,2448686]]\n",
       "charge: [[2,3,3,3,3,...,4,3,4,3,5],[6,2,3,4,2,...,2,3,4,5,2]]\n",
       "ev: [[60,42,56,20,27,...,6.250839233398e+12,null,4.668750762939e+12,null,null],[null,null,null,null,6.119956970215e+12,...,null,null,null,null,null]]\n",
       "instrument: [[null,null,null,null,null,...,null,null,null,null,null],[null,null,null,null,null,...,null,null,null,null,null]]\n",
       "instrument_type: [[null,null,null,null,null,...,null,null,null,null,null],[null,null,null,null,null,...,null,null,null,null,null]]\n",
       "instrument_model: [[null,null,null,null,null,...,null,null,null,null,null],[null,null,null,null,null,...,null,null,null,null,null]]\n",
       "ion_mode: [[null,null,null,null,null,...,null,null,null,null,null],[null,null,null,null,null,...,null,null,null,null,null]]\n",
       "ionization: [[null,null,null,null,null,...,null,null,null,null,null],[null,null,null,null,null,...,null,null,null,null,null]]\n",
       "name: [[\"AAADLGTEAGVQQLLCTVR/2_1(15,C,CAM)\",\"AAAEVGINSETIVKPASISEEELLSSIR/3\",\"AAAEVGINSETIVKPASISEEELLSSIR/3\",\"AAAHVQGLVHVASR/3\",\"AAAHVQGLVHVASR/3\",...,\"LQAETGVTISQVDEETFSVFAPTPSAMHEAR/4_2(0,L,TMT)(26,M,Oxidation)\",\"LQAEWHDSDWILSVPAK/3_2(0,L,TMT)(16,K,TMT)\",\"LQAEWHDSDWILSVPAK/4_2(0,L,TMT)(16,K,TMT)\",\"LQAFGNECSIEQMEHVR/3_2(0,L,TMT)(7,C,CAM)\",\"LQAGADLHAPLDHGATLLHVAAANGFSEAAALLLEHR/5_1(0,L,TMT)\"],[\"LQAGADLHAPLDHGATLLHVAAANGFSEAAALLLEHR/6_1(0,L,TMT)\",\"LQAGDAPSVGGSC/2_2(0,L,TMT)(12,C,CAM)\",\"LQALPAGQVFNSSSGTQVLVIPSQDDHVLEVSVT/3_1(0,L,TMT)\",\"LQALPAGQVFNSSSGTQVLVIPSQDDHVLEVSVT/4_1(0,L,TMT)\",\"LQALVNSLCAGQSP/2_2(0,L,TMT)(8,C,CAM)\",...,\"YYSADINLCVVPNK/2_3(0,Y,TMT)(8,C,CAM)(13,K,TMT)\",\"YYSADINLCVVPNK/3_3(0,Y,TMT)(8,C,CAM)(13,K,TMT)\",\"YYTPYQEHVALHAPIK/4_2(0,Y,TMT)(15,K,TMT)\",\"YYTPYQEHVALHAPISTAPGWEPPDDPDTGSECSHPEVSPSPR/5_2(0,Y,TMT)(32,C,CAM)\",\"YYTQAGGTLGSFGM/2_1(0,Y,TMT)\"]]\n",
       "synonyms: [[null,null,null,null,null,...,null,null,null,null,null],[null,null,null,null,null,...,null,null,null,null,null]]\n",
       "..."
      ]
     },
     "execution_count": 49,
     "metadata": {},
     "output_type": "execute_result"
    }
   ],
   "source": [
    "query_table = pq.read_table(\"/home/djs10/gitlab/masskit/masskit_ext/build/release/src/search/test.parquet\")\n",
    "query_table"
   ]
  },
  {
   "cell_type": "code",
   "execution_count": 50,
   "metadata": {},
   "outputs": [],
   "source": [
    "mods = query_table[\"mod_names\"]\n",
    "np_mods = mods.combine_chunks().to_numpy(zero_copy_only=False)\n",
    "mask = pa.array(~np.array([ np.any(x==737) for x in np_mods ]))"
   ]
  },
  {
   "cell_type": "code",
   "execution_count": 56,
   "metadata": {},
   "outputs": [],
   "source": [
    "new_table = query_table.filter(mask)\n",
    "pq.write_table(new_table,\"/home/djs10/gitlab/masskit/masskit_ext/build/release/src/search/test_filtered.parquet\")"
   ]
  },
  {
   "cell_type": "code",
   "execution_count": 54,
   "metadata": {},
   "outputs": [
    {
     "data": {
      "text/plain": [
       "143044"
      ]
     },
     "execution_count": 54,
     "metadata": {},
     "output_type": "execute_result"
    }
   ],
   "source": [
    "len(query_table)"
   ]
  },
  {
   "cell_type": "code",
   "execution_count": 55,
   "metadata": {},
   "outputs": [
    {
     "data": {
      "text/plain": [
       "116548"
      ]
     },
     "execution_count": 55,
     "metadata": {},
     "output_type": "execute_result"
    }
   ],
   "source": [
    "len(new_table)"
   ]
  },
  {
   "cell_type": "code",
   "execution_count": null,
   "metadata": {},
   "outputs": [],
   "source": []
  }
 ],
 "metadata": {
  "kernelspec": {
   "display_name": "masskit",
   "language": "python",
   "name": "python3"
  },
  "language_info": {
   "codemirror_mode": {
    "name": "ipython",
    "version": 3
   },
   "file_extension": ".py",
   "mimetype": "text/x-python",
   "name": "python",
   "nbconvert_exporter": "python",
   "pygments_lexer": "ipython3",
   "version": "3.11.3"
  },
  "orig_nbformat": 4
 },
 "nbformat": 4,
 "nbformat_minor": 2
}
