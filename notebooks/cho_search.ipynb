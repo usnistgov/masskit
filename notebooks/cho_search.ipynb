{
 "cells": [
  {
   "cell_type": "code",
   "execution_count": 1,
   "metadata": {},
   "outputs": [],
   "source": [
    "import pyarrow as pa\n",
    "import pyarrow.feather as feather\n",
    "import pyarrow.parquet as pq\n",
    "import pyarrow.compute as pc\n",
    "import numpy as np\n",
    "from pyarrow import csv\n",
    "from pathlib import Path\n",
    "from rich.progress import track"
   ]
  },
  {
   "cell_type": "code",
   "execution_count": 2,
   "metadata": {},
   "outputs": [
    {
     "name": "stdout",
     "output_type": "stream",
     "text": [
      "-rw-rw-r--. 1 djs10 645div   257977993 Apr 20 11:51 /data/aiomics/massspec_cache/uniprot/cho/cho_uniprot_tryptic_2.parquet\n",
      "-rw-rw-r--. 1 djs10 645div   283786246 Apr 20 12:19 /data/aiomics/massspec_cache/uniprot/cho/cho_uniprot_tryptic_2_tmt.parquet\n",
      "-rw-r--r--. 1 djs10 645div 12269375854 May 25 14:13 /data/aiomics/massspec_cache/uniprot/cho/predicted_cho_uniprot_tryptic_2_0.parquet\n",
      "-rw-r--r--. 1 djs10 645div 12573970866 May 25 14:17 /data/aiomics/massspec_cache/uniprot/cho/predicted_cho_uniprot_tryptic_2_1.parquet\n",
      "-rw-r--r--. 1 djs10 645div 12844369481 May 25 14:21 /data/aiomics/massspec_cache/uniprot/cho/predicted_cho_uniprot_tryptic_2_2.parquet\n",
      "-rw-r--r--. 1 djs10 645div 12310726608 May 25 14:26 /data/aiomics/massspec_cache/uniprot/cho/predicted_cho_uniprot_tryptic_2_3.parquet\n",
      "-rw-r--r--. 1 djs10 645div 11927726552 May 25 14:30 /data/aiomics/massspec_cache/uniprot/cho/predicted_cho_uniprot_tryptic_2_4.parquet\n",
      "-rw-r--r--. 1 djs10 645div  9185134284 May 25 14:33 /data/aiomics/massspec_cache/uniprot/cho/predicted_cho_uniprot_tryptic_2_5.parquet\n",
      "-rw-rw-r--. 1 djs10 645div 29249339394 Apr 25 21:27 /data/aiomics/massspec_cache/uniprot/cho/predicted_cho_uniprot_tryptic_2_0.arrow\n",
      "-rw-rw-r--. 1 djs10 645div 29769728626 Apr 25 22:10 /data/aiomics/massspec_cache/uniprot/cho/predicted_cho_uniprot_tryptic_2_1.arrow\n",
      "-rw-rw-r--. 1 djs10 645div 30145136186 Apr 25 21:26 /data/aiomics/massspec_cache/uniprot/cho/predicted_cho_uniprot_tryptic_2_2.arrow\n",
      "-rw-rw-r--. 1 djs10 645div 29257910130 Apr 25 21:24 /data/aiomics/massspec_cache/uniprot/cho/predicted_cho_uniprot_tryptic_2_3.arrow\n",
      "-rw-rw-r--. 1 djs10 645div 29026097490 Apr 25 21:00 /data/aiomics/massspec_cache/uniprot/cho/predicted_cho_uniprot_tryptic_2_4.arrow\n",
      "-rw-rw-r--. 1 djs10 645div 21739170266 Apr 25 13:27 /data/aiomics/massspec_cache/uniprot/cho/predicted_cho_uniprot_tryptic_2_5.arrow\n"
     ]
    }
   ],
   "source": [
    "!ls -l /data/aiomics/massspec_cache/uniprot/cho/*.parquet\n",
    "!ls -l /data/aiomics/massspec_cache/uniprot/cho/*.arrow"
   ]
  },
  {
   "cell_type": "code",
   "execution_count": null,
   "metadata": {},
   "outputs": [],
   "source": [
    "for input in track(Path('/data/search_asms2023/cho').glob('*.arrow')):\n",
    "    output = input.with_suffix('.parquet')\n",
    "    table = feather.read_table(input)\n",
    "    pq.write_table(table, output)"
   ]
  },
  {
   "cell_type": "code",
   "execution_count": null,
   "metadata": {},
   "outputs": [],
   "source": [
    "table = pq.read_table(\"/data/aiomics/massspec_cache/uniprot/cho/predicted_cho_uniprot_tryptic_2_0.parquet\")\n",
    "table"
   ]
  },
  {
   "cell_type": "code",
   "execution_count": 2,
   "metadata": {},
   "outputs": [
    {
     "data": {
      "text/plain": [
       "pyarrow.Table\n",
       "id: uint64\n",
       "charge: int8\n",
       "ev: double\n",
       "instrument: string\n",
       "instrument_type: string\n",
       "instrument_model: string\n",
       "ion_mode: string\n",
       "ionization: string\n",
       "name: string\n",
       "synonyms: string\n",
       "scan: string\n",
       "nce: double\n",
       "collision_energy: double\n",
       "retention_time: double\n",
       "collision_gas: string\n",
       "insource_voltage: int64\n",
       "sample_inlet: string\n",
       "intensity: large_list<item: double>\n",
       "  child 0, item: double\n",
       "stddev: large_list<item: double>\n",
       "  child 0, item: double\n",
       "product_massinfo: struct<tolerance: double, tolerance_type: dictionary<values=string, indices=int32, ordered=0>, mass_type: dictionary<values=string, indices=int32, ordered=0>, neutral_loss: string, neutral_loss_charge: int64, evenly_spaced: bool>\n",
       "  child 0, tolerance: double\n",
       "  child 1, tolerance_type: dictionary<values=string, indices=int32, ordered=0>\n",
       "  child 2, mass_type: dictionary<values=string, indices=int32, ordered=0>\n",
       "  child 3, neutral_loss: string\n",
       "  child 4, neutral_loss_charge: int64\n",
       "  child 5, evenly_spaced: bool\n",
       "mz: large_list<item: double>\n",
       "  child 0, item: double\n",
       "precursor_intensity: double\n",
       "precursor_massinfo: struct<tolerance: double, tolerance_type: dictionary<values=string, indices=int32, ordered=0>, mass_type: dictionary<values=string, indices=int32, ordered=0>, neutral_loss: string, neutral_loss_charge: int64, evenly_spaced: bool>\n",
       "  child 0, tolerance: double\n",
       "  child 1, tolerance_type: dictionary<values=string, indices=int32, ordered=0>\n",
       "  child 2, mass_type: dictionary<values=string, indices=int32, ordered=0>\n",
       "  child 3, neutral_loss: string\n",
       "  child 4, neutral_loss_charge: int64\n",
       "  child 5, evenly_spaced: bool\n",
       "precursor_mz: double\n",
       "starts: large_list<item: double>\n",
       "  child 0, item: double\n",
       "stops: large_list<item: double>\n",
       "  child 0, item: double\n",
       "exact_mass: double\n",
       "exact_mw: double\n",
       "annotations: large_list<item: struct<ion_type: dictionary<values=string, indices=int32, ordered=0>, product_charge: int8, isotope: uint8, ion_subtype: dictionary<values=string, indices=int32, ordered=0>, position: uint16, end_position: uint16, aa_before: dictionary<values=string, indices=int32, ordered=0>, aa_after: dictionary<values=string, indices=int32, ordered=0>, ptm_before: dictionary<values=string, indices=int32, ordered=0>, ptm_after: dictionary<values=string, indices=int32, ordered=0>>>\n",
       "  child 0, item: struct<ion_type: dictionary<values=string, indices=int32, ordered=0>, product_charge: int8, isotope: uint8, ion_subtype: dictionary<values=string, indices=int32, ordered=0>, position: uint16, end_position: uint16, aa_before: dictionary<values=string, indices=int32, ordered=0>, aa_after: dictionary<values=string, indices=int32, ordered=0>, ptm_before: dictionary<values=string, indices=int32, ordered=0>, ptm_after: dictionary<values=string, indices=int32, ordered=0>>\n",
       "      child 0, ion_type: dictionary<values=string, indices=int32, ordered=0>\n",
       "      child 1, product_charge: int8\n",
       "      child 2, isotope: uint8\n",
       "      child 3, ion_subtype: dictionary<values=string, indices=int32, ordered=0>\n",
       "      child 4, position: uint16\n",
       "      child 5, end_position: uint16\n",
       "      child 6, aa_before: dictionary<values=string, indices=int32, ordered=0>\n",
       "      child 7, aa_after: dictionary<values=string, indices=int32, ordered=0>\n",
       "      child 8, ptm_before: dictionary<values=string, indices=int32, ordered=0>\n",
       "      child 9, ptm_after: dictionary<values=string, indices=int32, ordered=0>\n",
       "spectrum_fp: large_list<item: uint8>\n",
       "  child 0, item: uint8\n",
       "spectrum_fp_count: int32\n",
       "hybrid_fp: large_list<item: float>\n",
       "  child 0, item: float\n",
       "set: dictionary<values=string, indices=int32, ordered=0>\n",
       "composition: dictionary<values=string, indices=int32, ordered=0>\n",
       "peptide: string\n",
       "peptide_len: int32\n",
       "mod_names: large_list<item: int16>\n",
       "  child 0, item: int16\n",
       "mod_positions: large_list<item: int32>\n",
       "  child 0, item: int32\n",
       "peptide_type: dictionary<values=string, indices=int32, ordered=0>\n",
       "is_phospho: bool\n",
       "----\n",
       "id: [[24,40,41,62,63,...,2178287,2178295,2178296,2178309,2178315],[2178316,2178317,2178392,2178393,2178413,...,2448581,2448582,2448684,2448685,2448686]]\n",
       "charge: [[2,3,3,3,3,...,4,3,4,3,5],[6,2,3,4,2,...,2,3,4,5,2]]\n",
       "ev: [[60,42,56,20,27,...,6.250839233398e+12,null,4.668750762939e+12,null,null],[null,null,null,null,6.119956970215e+12,...,null,null,null,null,null]]\n",
       "instrument: [[null,null,null,null,null,...,null,null,null,null,null],[null,null,null,null,null,...,null,null,null,null,null]]\n",
       "instrument_type: [[null,null,null,null,null,...,null,null,null,null,null],[null,null,null,null,null,...,null,null,null,null,null]]\n",
       "instrument_model: [[null,null,null,null,null,...,null,null,null,null,null],[null,null,null,null,null,...,null,null,null,null,null]]\n",
       "ion_mode: [[null,null,null,null,null,...,null,null,null,null,null],[null,null,null,null,null,...,null,null,null,null,null]]\n",
       "ionization: [[null,null,null,null,null,...,null,null,null,null,null],[null,null,null,null,null,...,null,null,null,null,null]]\n",
       "name: [[\"AAADLGTEAGVQQLLCTVR/2_1(15,C,CAM)\",\"AAAEVGINSETIVKPASISEEELLSSIR/3\",\"AAAEVGINSETIVKPASISEEELLSSIR/3\",\"AAAHVQGLVHVASR/3\",\"AAAHVQGLVHVASR/3\",...,\"LQAETGVTISQVDEETFSVFAPTPSAMHEAR/4_2(0,L,TMT)(26,M,Oxidation)\",\"LQAEWHDSDWILSVPAK/3_2(0,L,TMT)(16,K,TMT)\",\"LQAEWHDSDWILSVPAK/4_2(0,L,TMT)(16,K,TMT)\",\"LQAFGNECSIEQMEHVR/3_2(0,L,TMT)(7,C,CAM)\",\"LQAGADLHAPLDHGATLLHVAAANGFSEAAALLLEHR/5_1(0,L,TMT)\"],[\"LQAGADLHAPLDHGATLLHVAAANGFSEAAALLLEHR/6_1(0,L,TMT)\",\"LQAGDAPSVGGSC/2_2(0,L,TMT)(12,C,CAM)\",\"LQALPAGQVFNSSSGTQVLVIPSQDDHVLEVSVT/3_1(0,L,TMT)\",\"LQALPAGQVFNSSSGTQVLVIPSQDDHVLEVSVT/4_1(0,L,TMT)\",\"LQALVNSLCAGQSP/2_2(0,L,TMT)(8,C,CAM)\",...,\"YYSADINLCVVPNK/2_3(0,Y,TMT)(8,C,CAM)(13,K,TMT)\",\"YYSADINLCVVPNK/3_3(0,Y,TMT)(8,C,CAM)(13,K,TMT)\",\"YYTPYQEHVALHAPIK/4_2(0,Y,TMT)(15,K,TMT)\",\"YYTPYQEHVALHAPISTAPGWEPPDDPDTGSECSHPEVSPSPR/5_2(0,Y,TMT)(32,C,CAM)\",\"YYTQAGGTLGSFGM/2_1(0,Y,TMT)\"]]\n",
       "synonyms: [[null,null,null,null,null,...,null,null,null,null,null],[null,null,null,null,null,...,null,null,null,null,null]]\n",
       "..."
      ]
     },
     "execution_count": 2,
     "metadata": {},
     "output_type": "execute_result"
    }
   ],
   "source": [
    "query_table = pq.read_table(\"/home/djs10/asms2023/test.parquet\")\n",
    "query_table"
   ]
  },
  {
   "cell_type": "code",
   "execution_count": 4,
   "metadata": {},
   "outputs": [
    {
     "data": {
      "text/plain": [
       "143044"
      ]
     },
     "execution_count": 4,
     "metadata": {},
     "output_type": "execute_result"
    }
   ],
   "source": [
    "len(query_table)"
   ]
  },
  {
   "cell_type": "code",
   "execution_count": 3,
   "metadata": {},
   "outputs": [
    {
     "data": {
      "text/plain": [
       "116548"
      ]
     },
     "execution_count": 3,
     "metadata": {},
     "output_type": "execute_result"
    }
   ],
   "source": [
    "mods = query_table[\"mod_names\"]\n",
    "np_mods = mods.combine_chunks().to_numpy(zero_copy_only=False)\n",
    "mask = pa.array(~np.array([ np.any(x==737) for x in np_mods ]))\n",
    "no_tmt_table = query_table.filter(mask)\n",
    "len(no_tmt_table)"
   ]
  },
  {
   "cell_type": "code",
   "execution_count": 12,
   "metadata": {},
   "outputs": [
    {
     "data": {
      "text/plain": [
       "110374"
      ]
     },
     "execution_count": 12,
     "metadata": {},
     "output_type": "execute_result"
    }
   ],
   "source": [
    "cho_names = csv.read_csv('/home/djs10/asms2023/cho_names_uniq.txt',read_options=csv.ReadOptions(column_names=['name']), parse_options=csv.ParseOptions(delimiter='\\t'))\n",
    "len(cho_names)"
   ]
  },
  {
   "cell_type": "code",
   "execution_count": 18,
   "metadata": {},
   "outputs": [
    {
     "name": "stdout",
     "output_type": "stream",
     "text": [
      "8819 107729\n"
     ]
    },
    {
     "data": {
      "text/plain": [
       "8819"
      ]
     },
     "execution_count": 18,
     "metadata": {},
     "output_type": "execute_result"
    }
   ],
   "source": [
    "cho_set = set(cho_names['name'].to_pylist())\n",
    "cho_mask = [x in cho_set for x in no_tmt_table['name'].to_pylist()]\n",
    "print(cho_mask.count(True),cho_mask.count(False))\n",
    "cho_table = no_tmt_table.filter(cho_mask)\n",
    "len(cho_table)"
   ]
  },
  {
   "cell_type": "code",
   "execution_count": 19,
   "metadata": {},
   "outputs": [],
   "source": [
    "\n",
    "pq.write_table(cho_table,\"/home/djs10/asms2023/test_filtered.parquet\")"
   ]
  },
  {
   "cell_type": "code",
   "execution_count": 3,
   "metadata": {},
   "outputs": [
    {
     "name": "stdout",
     "output_type": "stream",
     "text": [
      " Volume in drive D is Data\n",
      " Volume Serial Number is 3E64-D3CD\n",
      "\n",
      " Directory of d:\\nist\\asms2023\\library\n",
      "\n",
      "04/25/2023  08:27 PM    29,249,339,394 predicted_cho_uniprot_tryptic_2_0.arrow\n",
      "04/25/2023  09:10 PM    29,769,728,626 predicted_cho_uniprot_tryptic_2_1.arrow\n",
      "04/25/2023  08:26 PM    30,145,136,186 predicted_cho_uniprot_tryptic_2_2.arrow\n",
      "04/25/2023  08:24 PM    29,257,910,130 predicted_cho_uniprot_tryptic_2_3.arrow\n",
      "04/25/2023  08:00 PM    29,026,097,490 predicted_cho_uniprot_tryptic_2_4.arrow\n",
      "04/25/2023  12:27 PM    21,739,170,266 predicted_cho_uniprot_tryptic_2_5.arrow\n",
      "               6 File(s) 169,187,382,092 bytes\n",
      "               0 Dir(s)  1,764,818,427,904 bytes free\n"
     ]
    }
   ],
   "source": [
    "!dir d:\\nist\\asms2023\\library\\*.arrow"
   ]
  },
  {
   "cell_type": "code",
   "execution_count": 2,
   "metadata": {},
   "outputs": [
    {
     "name": "stdout",
     "output_type": "stream",
     "text": [
      "reading /data/aiomics/massspec_cache/uniprot/cho/predicted_cho_uniprot_tryptic_2_0.arrow...done.\n",
      "reading /data/aiomics/massspec_cache/uniprot/cho/predicted_cho_uniprot_tryptic_2_1.arrow...done.\n",
      "reading /data/aiomics/massspec_cache/uniprot/cho/predicted_cho_uniprot_tryptic_2_2.arrow...done.\n",
      "reading /data/aiomics/massspec_cache/uniprot/cho/predicted_cho_uniprot_tryptic_2_3.arrow...done.\n",
      "reading /data/aiomics/massspec_cache/uniprot/cho/predicted_cho_uniprot_tryptic_2_4.arrow...done.\n",
      "reading /data/aiomics/massspec_cache/uniprot/cho/predicted_cho_uniprot_tryptic_2_5.arrow...done.\n"
     ]
    }
   ],
   "source": [
    "# Read in all the arrow files, sort them (within the batch), then concatenate them into a single table\n",
    "tables = []\n",
    "for part in range(6):\n",
    "   #dir_name = \"D:/nist/asms2023/library/\"\n",
    "   dir_name = \"/data/aiomics/massspec_cache/uniprot/cho\"\n",
    "   fname = f\"{dir_name}/predicted_cho_uniprot_tryptic_2_{part}.arrow\"\n",
    "   print(f\"reading {fname}...\", end=\"\")\n",
    "   with pa.memory_map(fname, 'rb') as source:\n",
    "      iTable = pa.ipc.open_file(source).read_all()\n",
    "   jTable = iTable.drop_columns(['starts','stops'])\n",
    "   tables.append(jTable.sort_by('precursor_mz'))\n",
    "   print(\"done.\")\n",
    "big_table = pa.concat_tables(tables)"
   ]
  },
  {
   "cell_type": "code",
   "execution_count": 3,
   "metadata": {},
   "outputs": [],
   "source": [
    "# Write the semi-sorted batches as a single feather file. Does it compress by default?\n",
    "#dir_name = \"D:/nist/asms2023/library/no_ss\"\n",
    "dir_name = \"/data/aiomics/massspec_cache/uniprot/cho/no_ss\"\n",
    "fname = f\"{dir_name}/predicted_cho_uniprot_tryptic_2_semi_sorted.feather\"\n",
    "with open(fname, 'wb') as f:\n",
    "    feather.write_feather(big_table, f)"
   ]
  },
  {
   "cell_type": "code",
   "execution_count": 2,
   "metadata": {},
   "outputs": [
    {
     "data": {
      "text/plain": [
       "17113904"
      ]
     },
     "execution_count": 2,
     "metadata": {},
     "output_type": "execute_result"
    }
   ],
   "source": [
    "# Load in the feather file from a memory map. Not the same as the arrow file, maybe it's compressed?\n",
    "#dir_name = \"D:/nist/asms2023/library/no_ss\"\n",
    "dir_name = \"/data/aiomics/massspec_cache/uniprot/cho/no_ss\"\n",
    "fname = f\"{dir_name}/predicted_cho_uniprot_tryptic_2_semi_sorted.feather\"\n",
    "with pa.memory_map(fname, 'rb') as source:\n",
    "    big_table = pa.ipc.open_file(source).read_all()\n",
    "len(big_table)"
   ]
  },
  {
   "cell_type": "code",
   "execution_count": 7,
   "metadata": {},
   "outputs": [
    {
     "data": {
      "text/plain": [
       "(17113904, 38)"
      ]
     },
     "execution_count": 7,
     "metadata": {},
     "output_type": "execute_result"
    }
   ],
   "source": [
    "big_table.get_total_buffer_size()/(1024*1024*1024)\n",
    "big_table.shape"
   ]
  },
  {
   "cell_type": "code",
   "execution_count": 3,
   "metadata": {},
   "outputs": [
    {
     "data": {
      "text/plain": [
       "65536"
      ]
     },
     "execution_count": 3,
     "metadata": {},
     "output_type": "execute_result"
    }
   ],
   "source": [
    "big_table.to_batches()[0].num_rows"
   ]
  },
  {
   "cell_type": "code",
   "execution_count": 4,
   "metadata": {},
   "outputs": [
    {
     "data": {
      "text/plain": [
       "263"
      ]
     },
     "execution_count": 4,
     "metadata": {},
     "output_type": "execute_result"
    }
   ],
   "source": [
    "len(big_table.to_batches())"
   ]
  },
  {
   "cell_type": "code",
   "execution_count": 5,
   "metadata": {},
   "outputs": [
    {
     "data": {
      "text/plain": [
       "<pyarrow.lib.ChunkedArray object at 0x7f4aa3612980>\n",
       "[\n",
       "  [\n",
       "    15000000,\n",
       "    15000001,\n",
       "    15000002,\n",
       "    15000003,\n",
       "    15000004,\n",
       "    ...\n",
       "    5999999,\n",
       "    17113900,\n",
       "    17113901,\n",
       "    17113902,\n",
       "    17113903\n",
       "  ]\n",
       "]"
      ]
     },
     "execution_count": 5,
     "metadata": {},
     "output_type": "execute_result"
    }
   ],
   "source": [
    "# Get the index that will sort the whole array \n",
    "sortidx = pc.array_sort_indices(big_table['precursor_mz'])\n",
    "sortidx"
   ]
  },
  {
   "cell_type": "code",
   "execution_count": 21,
   "metadata": {},
   "outputs": [
    {
     "data": {
      "text/plain": [
       "17110000"
      ]
     },
     "execution_count": 21,
     "metadata": {},
     "output_type": "execute_result"
    }
   ],
   "source": [
    "list(range(0,len(sortidx),5000))[-1]"
   ]
  },
  {
   "cell_type": "code",
   "execution_count": 6,
   "metadata": {},
   "outputs": [
    {
     "data": {
      "text/plain": [
       "3904"
      ]
     },
     "execution_count": 6,
     "metadata": {},
     "output_type": "execute_result"
    }
   ],
   "source": [
    "len(sortidx.slice(17110000,5000))"
   ]
  },
  {
   "cell_type": "code",
   "execution_count": 7,
   "metadata": {},
   "outputs": [
    {
     "name": "stdout",
     "output_type": "stream",
     "text": [
      "Wrote batch 0:65536\n",
      "Wrote batch 65536:131072\n",
      "Wrote batch 131072:196608\n",
      "Wrote batch 196608:262144\n",
      "Wrote batch 262144:327680\n",
      "Wrote batch 327680:393216\n",
      "Wrote batch 393216:458752\n",
      "Wrote batch 458752:524288\n",
      "Wrote batch 524288:589824\n",
      "Wrote batch 589824:655360\n",
      "Wrote batch 655360:720896\n",
      "Wrote batch 720896:786432\n",
      "Wrote batch 786432:851968\n",
      "Wrote batch 851968:917504\n",
      "Wrote batch 917504:983040\n",
      "Wrote batch 983040:1048576\n",
      "Wrote batch 1048576:1114112\n",
      "Wrote batch 1114112:1179648\n",
      "Wrote batch 1179648:1245184\n",
      "Wrote batch 1245184:1310720\n",
      "Wrote batch 1310720:1376256\n",
      "Wrote batch 1376256:1441792\n",
      "Wrote batch 1441792:1507328\n",
      "Wrote batch 1507328:1572864\n",
      "Wrote batch 1572864:1638400\n",
      "Wrote batch 1638400:1703936\n",
      "Wrote batch 1703936:1769472\n",
      "Wrote batch 1769472:1835008\n",
      "Wrote batch 1835008:1900544\n",
      "Wrote batch 1900544:1966080\n",
      "Wrote batch 1966080:2031616\n",
      "Wrote batch 2031616:2097152\n",
      "Wrote batch 2097152:2162688\n",
      "Wrote batch 2162688:2228224\n",
      "Wrote batch 2228224:2293760\n",
      "Wrote batch 2293760:2359296\n",
      "Wrote batch 2359296:2424832\n",
      "Wrote batch 2424832:2490368\n",
      "Wrote batch 2490368:2555904\n",
      "Wrote batch 2555904:2621440\n",
      "Wrote batch 2621440:2686976\n",
      "Wrote batch 2686976:2752512\n",
      "Wrote batch 2752512:2818048\n",
      "Wrote batch 2818048:2883584\n",
      "Wrote batch 2883584:2949120\n",
      "Wrote batch 2949120:3014656\n",
      "Wrote batch 3014656:3080192\n",
      "Wrote batch 3080192:3145728\n",
      "Wrote batch 3145728:3211264\n",
      "Wrote batch 3211264:3276800\n",
      "Wrote batch 3276800:3342336\n",
      "Wrote batch 3342336:3407872\n",
      "Wrote batch 3407872:3473408\n",
      "Wrote batch 3473408:3538944\n",
      "Wrote batch 3538944:3604480\n",
      "Wrote batch 3604480:3670016\n",
      "Wrote batch 3670016:3735552\n",
      "Wrote batch 3735552:3801088\n",
      "Wrote batch 3801088:3866624\n",
      "Wrote batch 3866624:3932160\n",
      "Wrote batch 3932160:3997696\n",
      "Wrote batch 3997696:4063232\n",
      "Wrote batch 4063232:4128768\n",
      "Wrote batch 4128768:4194304\n",
      "Wrote batch 4194304:4259840\n",
      "Wrote batch 4259840:4325376\n",
      "Wrote batch 4325376:4390912\n",
      "Wrote batch 4390912:4456448\n",
      "Wrote batch 4456448:4521984\n",
      "Wrote batch 4521984:4587520\n",
      "Wrote batch 4587520:4653056\n",
      "Wrote batch 4653056:4718592\n",
      "Wrote batch 4718592:4784128\n",
      "Wrote batch 4784128:4849664\n",
      "Wrote batch 4849664:4915200\n",
      "Wrote batch 4915200:4980736\n",
      "Wrote batch 4980736:5046272\n",
      "Wrote batch 5046272:5111808\n",
      "Wrote batch 5111808:5177344\n",
      "Wrote batch 5177344:5242880\n",
      "Wrote batch 5242880:5308416\n",
      "Wrote batch 5308416:5373952\n",
      "Wrote batch 5373952:5439488\n",
      "Wrote batch 5439488:5505024\n",
      "Wrote batch 5505024:5570560\n",
      "Wrote batch 5570560:5636096\n",
      "Wrote batch 5636096:5701632\n",
      "Wrote batch 5701632:5767168\n",
      "Wrote batch 5767168:5832704\n",
      "Wrote batch 5832704:5898240\n",
      "Wrote batch 5898240:5963776\n",
      "Wrote batch 5963776:6029312\n",
      "Wrote batch 6029312:6094848\n",
      "Wrote batch 6094848:6160384\n",
      "Wrote batch 6160384:6225920\n",
      "Wrote batch 6225920:6291456\n",
      "Wrote batch 6291456:6356992\n",
      "Wrote batch 6356992:6422528\n",
      "Wrote batch 6422528:6488064\n",
      "Wrote batch 6488064:6553600\n",
      "Wrote batch 6553600:6619136\n",
      "Wrote batch 6619136:6684672\n",
      "Wrote batch 6684672:6750208\n",
      "Wrote batch 6750208:6815744\n",
      "Wrote batch 6815744:6881280\n",
      "Wrote batch 6881280:6946816\n",
      "Wrote batch 6946816:7012352\n",
      "Wrote batch 7012352:7077888\n",
      "Wrote batch 7077888:7143424\n",
      "Wrote batch 7143424:7208960\n",
      "Wrote batch 7208960:7274496\n",
      "Wrote batch 7274496:7340032\n",
      "Wrote batch 7340032:7405568\n",
      "Wrote batch 7405568:7471104\n",
      "Wrote batch 7471104:7536640\n",
      "Wrote batch 7536640:7602176\n",
      "Wrote batch 7602176:7667712\n",
      "Wrote batch 7667712:7733248\n",
      "Wrote batch 7733248:7798784\n",
      "Wrote batch 7798784:7864320\n",
      "Wrote batch 7864320:7929856\n",
      "Wrote batch 7929856:7995392\n",
      "Wrote batch 7995392:8060928\n",
      "Wrote batch 8060928:8126464\n",
      "Wrote batch 8126464:8192000\n",
      "Wrote batch 8192000:8257536\n",
      "Wrote batch 8257536:8323072\n",
      "Wrote batch 8323072:8388608\n",
      "Wrote batch 8388608:8454144\n",
      "Wrote batch 8454144:8519680\n",
      "Wrote batch 8519680:8585216\n",
      "Wrote batch 8585216:8650752\n",
      "Wrote batch 8650752:8716288\n",
      "Wrote batch 8716288:8781824\n",
      "Wrote batch 8781824:8847360\n",
      "Wrote batch 8847360:8912896\n",
      "Wrote batch 8912896:8978432\n",
      "Wrote batch 8978432:9043968\n",
      "Wrote batch 9043968:9109504\n",
      "Wrote batch 9109504:9175040\n",
      "Wrote batch 9175040:9240576\n",
      "Wrote batch 9240576:9306112\n",
      "Wrote batch 9306112:9371648\n",
      "Wrote batch 9371648:9437184\n",
      "Wrote batch 9437184:9502720\n",
      "Wrote batch 9502720:9568256\n",
      "Wrote batch 9568256:9633792\n",
      "Wrote batch 9633792:9699328\n",
      "Wrote batch 9699328:9764864\n",
      "Wrote batch 9764864:9830400\n",
      "Wrote batch 9830400:9895936\n",
      "Wrote batch 9895936:9961472\n",
      "Wrote batch 9961472:10027008\n",
      "Wrote batch 10027008:10092544\n",
      "Wrote batch 10092544:10158080\n",
      "Wrote batch 10158080:10223616\n",
      "Wrote batch 10223616:10289152\n",
      "Wrote batch 10289152:10354688\n",
      "Wrote batch 10354688:10420224\n",
      "Wrote batch 10420224:10485760\n",
      "Wrote batch 10485760:10551296\n",
      "Wrote batch 10551296:10616832\n",
      "Wrote batch 10616832:10682368\n",
      "Wrote batch 10682368:10747904\n",
      "Wrote batch 10747904:10813440\n",
      "Wrote batch 10813440:10878976\n",
      "Wrote batch 10878976:10944512\n",
      "Wrote batch 10944512:11010048\n",
      "Wrote batch 11010048:11075584\n",
      "Wrote batch 11075584:11141120\n",
      "Wrote batch 11141120:11206656\n",
      "Wrote batch 11206656:11272192\n",
      "Wrote batch 11272192:11337728\n",
      "Wrote batch 11337728:11403264\n",
      "Wrote batch 11403264:11468800\n",
      "Wrote batch 11468800:11534336\n",
      "Wrote batch 11534336:11599872\n",
      "Wrote batch 11599872:11665408\n",
      "Wrote batch 11665408:11730944\n",
      "Wrote batch 11730944:11796480\n",
      "Wrote batch 11796480:11862016\n",
      "Wrote batch 11862016:11927552\n",
      "Wrote batch 11927552:11993088\n",
      "Wrote batch 11993088:12058624\n",
      "Wrote batch 12058624:12124160\n",
      "Wrote batch 12124160:12189696\n",
      "Wrote batch 12189696:12255232\n",
      "Wrote batch 12255232:12320768\n",
      "Wrote batch 12320768:12386304\n",
      "Wrote batch 12386304:12451840\n",
      "Wrote batch 12451840:12517376\n",
      "Wrote batch 12517376:12582912\n",
      "Wrote batch 12582912:12648448\n",
      "Wrote batch 12648448:12713984\n",
      "Wrote batch 12713984:12779520\n",
      "Wrote batch 12779520:12845056\n",
      "Wrote batch 12845056:12910592\n",
      "Wrote batch 12910592:12976128\n",
      "Wrote batch 12976128:13041664\n",
      "Wrote batch 13041664:13107200\n",
      "Wrote batch 13107200:13172736\n",
      "Wrote batch 13172736:13238272\n",
      "Wrote batch 13238272:13303808\n",
      "Wrote batch 13303808:13369344\n",
      "Wrote batch 13369344:13434880\n",
      "Wrote batch 13434880:13500416\n",
      "Wrote batch 13500416:13565952\n",
      "Wrote batch 13565952:13631488\n",
      "Wrote batch 13631488:13697024\n",
      "Wrote batch 13697024:13762560\n",
      "Wrote batch 13762560:13828096\n",
      "Wrote batch 13828096:13893632\n",
      "Wrote batch 13893632:13959168\n",
      "Wrote batch 13959168:14024704\n",
      "Wrote batch 14024704:14090240\n",
      "Wrote batch 14090240:14155776\n",
      "Wrote batch 14155776:14221312\n",
      "Wrote batch 14221312:14286848\n",
      "Wrote batch 14286848:14352384\n",
      "Wrote batch 14352384:14417920\n",
      "Wrote batch 14417920:14483456\n",
      "Wrote batch 14483456:14548992\n",
      "Wrote batch 14548992:14614528\n",
      "Wrote batch 14614528:14680064\n",
      "Wrote batch 14680064:14745600\n",
      "Wrote batch 14745600:14811136\n",
      "Wrote batch 14811136:14876672\n",
      "Wrote batch 14876672:14942208\n",
      "Wrote batch 14942208:15007744\n",
      "Wrote batch 15007744:15073280\n",
      "Wrote batch 15073280:15138816\n",
      "Wrote batch 15138816:15204352\n",
      "Wrote batch 15204352:15269888\n",
      "Wrote batch 15269888:15335424\n",
      "Wrote batch 15335424:15400960\n",
      "Wrote batch 15400960:15466496\n",
      "Wrote batch 15466496:15532032\n",
      "Wrote batch 15532032:15597568\n",
      "Wrote batch 15597568:15663104\n",
      "Wrote batch 15663104:15728640\n",
      "Wrote batch 15728640:15794176\n",
      "Wrote batch 15794176:15859712\n",
      "Wrote batch 15859712:15925248\n",
      "Wrote batch 15925248:15990784\n",
      "Wrote batch 15990784:16056320\n",
      "Wrote batch 16056320:16121856\n",
      "Wrote batch 16121856:16187392\n",
      "Wrote batch 16187392:16252928\n",
      "Wrote batch 16252928:16318464\n",
      "Wrote batch 16318464:16384000\n",
      "Wrote batch 16384000:16449536\n",
      "Wrote batch 16449536:16515072\n",
      "Wrote batch 16515072:16580608\n",
      "Wrote batch 16580608:16646144\n",
      "Wrote batch 16646144:16711680\n",
      "Wrote batch 16711680:16777216\n",
      "Wrote batch 16777216:16842752\n",
      "Wrote batch 16842752:16908288\n",
      "Wrote batch 16908288:16973824\n",
      "Wrote batch 16973824:17039360\n",
      "Wrote batch 17039360:17104896\n",
      "Wrote batch 17104896:17113904\n"
     ]
    }
   ],
   "source": [
    "# Extract the batches in sorted order and write them to an arrow file\n",
    "batch_size=65536\n",
    "#dir_name = \"D:/nist/asms2023/library/no_ss\"\n",
    "dir_name = \"/data/aiomics/massspec_cache/uniprot/cho/no_ss\"\n",
    "fname = f\"{dir_name}/predicted_cho_uniprot_tryptic_2.arrow\"\n",
    "with pa.OSFile(fname, 'wb') as sink:\n",
    "   with pa.ipc.new_file(sink, big_table.schema) as writer:\n",
    "    for start in range(0,len(sortidx),batch_size):\n",
    "        subset = sortidx.slice(start,batch_size)\n",
    "        batch = big_table.take(subset)\n",
    "        writer.write(batch)\n",
    "        print(f\"Wrote batch {start}:{start+len(batch)}\")"
   ]
  },
  {
   "cell_type": "code",
   "execution_count": 4,
   "metadata": {},
   "outputs": [
    {
     "ename": "",
     "evalue": "",
     "output_type": "error",
     "traceback": [
      "\u001b[1;31mCanceled future for execute_request message before replies were done"
     ]
    },
    {
     "ename": "",
     "evalue": "",
     "output_type": "error",
     "traceback": [
      "\u001b[1;31mThe Kernel crashed while executing code in the the current cell or a previous cell. Please review the code in the cell(s) to identify a possible cause of the failure. Click <a href='https://aka.ms/vscodeJupyterKernelCrash'>here</a> for more info. View Jupyter <a href='command:jupyter.viewOutput'>log</a> for further details."
     ]
    }
   ],
   "source": [
    "# Even though this fits into memory, it crashes trying to sort the whole thing at once\n",
    "sorted = big_table.take(sortidx)\n",
    "sorted"
   ]
  },
  {
   "cell_type": "code",
   "execution_count": 8,
   "metadata": {},
   "outputs": [],
   "source": [
    "# Read in the sorted arrow file, and write out a parquet file\n",
    "dir_name = \"/data/aiomics/massspec_cache/uniprot/cho/no_ss\"\n",
    "fname = f\"{dir_name}/predicted_cho_uniprot_tryptic_2.arrow\"\n",
    "with pa.memory_map(fname, 'rb') as source:\n",
    "    table = pa.ipc.open_file(source).read_all()\n",
    "outname = f\"{dir_name}/predicted_cho_uniprot_tryptic_2.parquet\"\n",
    "pq.write_table(table, outname, row_group_size=10000)"
   ]
  },
  {
   "cell_type": "code",
   "execution_count": null,
   "metadata": {},
   "outputs": [],
   "source": []
  }
 ],
 "metadata": {
  "kernelspec": {
   "display_name": "masskit",
   "language": "python",
   "name": "python3"
  },
  "language_info": {
   "codemirror_mode": {
    "name": "ipython",
    "version": 3
   },
   "file_extension": ".py",
   "mimetype": "text/x-python",
   "name": "python",
   "nbconvert_exporter": "python",
   "pygments_lexer": "ipython3",
   "version": "3.11.3"
  },
  "orig_nbformat": 4
 },
 "nbformat": 4,
 "nbformat_minor": 2
}
