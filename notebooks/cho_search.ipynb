{
 "cells": [
  {
   "cell_type": "code",
   "execution_count": 6,
   "metadata": {},
   "outputs": [],
   "source": [
    "import pyarrow as pa\n",
    "import pyarrow.feather as feather\n",
    "import pyarrow.parquet as pq\n",
    "import pyarrow.compute as pc\n",
    "import numpy as np\n",
    "from pyarrow import csv\n",
    "from pathlib import Path\n",
    "from rich.progress import track"
   ]
  },
  {
   "cell_type": "code",
   "execution_count": null,
   "metadata": {},
   "outputs": [],
   "source": [
    "!ls -l /data/aiomics/massspec_cache/uniprot/cho/*.parquet\n",
    "!ls -l /data/aiomics/massspec_cache/uniprot/cho/*.arrow\n"
   ]
  },
  {
   "cell_type": "code",
   "execution_count": null,
   "metadata": {},
   "outputs": [],
   "source": [
    "for input in track(Path('/data/search_asms2023/cho').glob('*.arrow')):\n",
    "    output = input.with_suffix('.parquet')\n",
    "    table = feather.read_table(input)\n",
    "    pq.write_table(table, output)"
   ]
  },
  {
   "cell_type": "code",
   "execution_count": null,
   "metadata": {},
   "outputs": [],
   "source": [
    "table = pq.read_table(\"/data/aiomics/massspec_cache/uniprot/cho/predicted_cho_uniprot_tryptic_2_0.parquet\")\n",
    "table"
   ]
  },
  {
   "cell_type": "code",
   "execution_count": 2,
   "metadata": {},
   "outputs": [
    {
     "data": {
      "text/plain": [
       "pyarrow.Table\n",
       "id: uint64\n",
       "charge: int8\n",
       "ev: double\n",
       "instrument: string\n",
       "instrument_type: string\n",
       "instrument_model: string\n",
       "ion_mode: string\n",
       "ionization: string\n",
       "name: string\n",
       "synonyms: string\n",
       "scan: string\n",
       "nce: double\n",
       "collision_energy: double\n",
       "retention_time: double\n",
       "collision_gas: string\n",
       "insource_voltage: int64\n",
       "sample_inlet: string\n",
       "intensity: large_list<item: double>\n",
       "  child 0, item: double\n",
       "stddev: large_list<item: double>\n",
       "  child 0, item: double\n",
       "product_massinfo: struct<tolerance: double, tolerance_type: dictionary<values=string, indices=int32, ordered=0>, mass_type: dictionary<values=string, indices=int32, ordered=0>, neutral_loss: string, neutral_loss_charge: int64, evenly_spaced: bool>\n",
       "  child 0, tolerance: double\n",
       "  child 1, tolerance_type: dictionary<values=string, indices=int32, ordered=0>\n",
       "  child 2, mass_type: dictionary<values=string, indices=int32, ordered=0>\n",
       "  child 3, neutral_loss: string\n",
       "  child 4, neutral_loss_charge: int64\n",
       "  child 5, evenly_spaced: bool\n",
       "mz: large_list<item: double>\n",
       "  child 0, item: double\n",
       "precursor_intensity: double\n",
       "precursor_massinfo: struct<tolerance: double, tolerance_type: dictionary<values=string, indices=int32, ordered=0>, mass_type: dictionary<values=string, indices=int32, ordered=0>, neutral_loss: string, neutral_loss_charge: int64, evenly_spaced: bool>\n",
       "  child 0, tolerance: double\n",
       "  child 1, tolerance_type: dictionary<values=string, indices=int32, ordered=0>\n",
       "  child 2, mass_type: dictionary<values=string, indices=int32, ordered=0>\n",
       "  child 3, neutral_loss: string\n",
       "  child 4, neutral_loss_charge: int64\n",
       "  child 5, evenly_spaced: bool\n",
       "precursor_mz: double\n",
       "starts: large_list<item: double>\n",
       "  child 0, item: double\n",
       "stops: large_list<item: double>\n",
       "  child 0, item: double\n",
       "exact_mass: double\n",
       "exact_mw: double\n",
       "annotations: large_list<item: struct<ion_type: dictionary<values=string, indices=int32, ordered=0>, product_charge: int8, isotope: uint8, ion_subtype: dictionary<values=string, indices=int32, ordered=0>, position: uint16, end_position: uint16, aa_before: dictionary<values=string, indices=int32, ordered=0>, aa_after: dictionary<values=string, indices=int32, ordered=0>, ptm_before: dictionary<values=string, indices=int32, ordered=0>, ptm_after: dictionary<values=string, indices=int32, ordered=0>>>\n",
       "  child 0, item: struct<ion_type: dictionary<values=string, indices=int32, ordered=0>, product_charge: int8, isotope: uint8, ion_subtype: dictionary<values=string, indices=int32, ordered=0>, position: uint16, end_position: uint16, aa_before: dictionary<values=string, indices=int32, ordered=0>, aa_after: dictionary<values=string, indices=int32, ordered=0>, ptm_before: dictionary<values=string, indices=int32, ordered=0>, ptm_after: dictionary<values=string, indices=int32, ordered=0>>\n",
       "      child 0, ion_type: dictionary<values=string, indices=int32, ordered=0>\n",
       "      child 1, product_charge: int8\n",
       "      child 2, isotope: uint8\n",
       "      child 3, ion_subtype: dictionary<values=string, indices=int32, ordered=0>\n",
       "      child 4, position: uint16\n",
       "      child 5, end_position: uint16\n",
       "      child 6, aa_before: dictionary<values=string, indices=int32, ordered=0>\n",
       "      child 7, aa_after: dictionary<values=string, indices=int32, ordered=0>\n",
       "      child 8, ptm_before: dictionary<values=string, indices=int32, ordered=0>\n",
       "      child 9, ptm_after: dictionary<values=string, indices=int32, ordered=0>\n",
       "spectrum_fp: large_list<item: uint8>\n",
       "  child 0, item: uint8\n",
       "spectrum_fp_count: int32\n",
       "hybrid_fp: large_list<item: float>\n",
       "  child 0, item: float\n",
       "set: dictionary<values=string, indices=int32, ordered=0>\n",
       "composition: dictionary<values=string, indices=int32, ordered=0>\n",
       "peptide: string\n",
       "peptide_len: int32\n",
       "mod_names: large_list<item: int16>\n",
       "  child 0, item: int16\n",
       "mod_positions: large_list<item: int32>\n",
       "  child 0, item: int32\n",
       "peptide_type: dictionary<values=string, indices=int32, ordered=0>\n",
       "is_phospho: bool\n",
       "----\n",
       "id: [[24,40,41,62,63,...,2178287,2178295,2178296,2178309,2178315],[2178316,2178317,2178392,2178393,2178413,...,2448581,2448582,2448684,2448685,2448686]]\n",
       "charge: [[2,3,3,3,3,...,4,3,4,3,5],[6,2,3,4,2,...,2,3,4,5,2]]\n",
       "ev: [[60,42,56,20,27,...,6.250839233398e+12,null,4.668750762939e+12,null,null],[null,null,null,null,6.119956970215e+12,...,null,null,null,null,null]]\n",
       "instrument: [[null,null,null,null,null,...,null,null,null,null,null],[null,null,null,null,null,...,null,null,null,null,null]]\n",
       "instrument_type: [[null,null,null,null,null,...,null,null,null,null,null],[null,null,null,null,null,...,null,null,null,null,null]]\n",
       "instrument_model: [[null,null,null,null,null,...,null,null,null,null,null],[null,null,null,null,null,...,null,null,null,null,null]]\n",
       "ion_mode: [[null,null,null,null,null,...,null,null,null,null,null],[null,null,null,null,null,...,null,null,null,null,null]]\n",
       "ionization: [[null,null,null,null,null,...,null,null,null,null,null],[null,null,null,null,null,...,null,null,null,null,null]]\n",
       "name: [[\"AAADLGTEAGVQQLLCTVR/2_1(15,C,CAM)\",\"AAAEVGINSETIVKPASISEEELLSSIR/3\",\"AAAEVGINSETIVKPASISEEELLSSIR/3\",\"AAAHVQGLVHVASR/3\",\"AAAHVQGLVHVASR/3\",...,\"LQAETGVTISQVDEETFSVFAPTPSAMHEAR/4_2(0,L,TMT)(26,M,Oxidation)\",\"LQAEWHDSDWILSVPAK/3_2(0,L,TMT)(16,K,TMT)\",\"LQAEWHDSDWILSVPAK/4_2(0,L,TMT)(16,K,TMT)\",\"LQAFGNECSIEQMEHVR/3_2(0,L,TMT)(7,C,CAM)\",\"LQAGADLHAPLDHGATLLHVAAANGFSEAAALLLEHR/5_1(0,L,TMT)\"],[\"LQAGADLHAPLDHGATLLHVAAANGFSEAAALLLEHR/6_1(0,L,TMT)\",\"LQAGDAPSVGGSC/2_2(0,L,TMT)(12,C,CAM)\",\"LQALPAGQVFNSSSGTQVLVIPSQDDHVLEVSVT/3_1(0,L,TMT)\",\"LQALPAGQVFNSSSGTQVLVIPSQDDHVLEVSVT/4_1(0,L,TMT)\",\"LQALVNSLCAGQSP/2_2(0,L,TMT)(8,C,CAM)\",...,\"YYSADINLCVVPNK/2_3(0,Y,TMT)(8,C,CAM)(13,K,TMT)\",\"YYSADINLCVVPNK/3_3(0,Y,TMT)(8,C,CAM)(13,K,TMT)\",\"YYTPYQEHVALHAPIK/4_2(0,Y,TMT)(15,K,TMT)\",\"YYTPYQEHVALHAPISTAPGWEPPDDPDTGSECSHPEVSPSPR/5_2(0,Y,TMT)(32,C,CAM)\",\"YYTQAGGTLGSFGM/2_1(0,Y,TMT)\"]]\n",
       "synonyms: [[null,null,null,null,null,...,null,null,null,null,null],[null,null,null,null,null,...,null,null,null,null,null]]\n",
       "..."
      ]
     },
     "execution_count": 2,
     "metadata": {},
     "output_type": "execute_result"
    }
   ],
   "source": [
    "query_table = pq.read_table(\"/home/djs10/asms2023/test.parquet\")\n",
    "query_table"
   ]
  },
  {
   "cell_type": "code",
   "execution_count": 4,
   "metadata": {},
   "outputs": [
    {
     "data": {
      "text/plain": [
       "143044"
      ]
     },
     "execution_count": 4,
     "metadata": {},
     "output_type": "execute_result"
    }
   ],
   "source": [
    "len(query_table)"
   ]
  },
  {
   "cell_type": "code",
   "execution_count": 3,
   "metadata": {},
   "outputs": [
    {
     "data": {
      "text/plain": [
       "116548"
      ]
     },
     "execution_count": 3,
     "metadata": {},
     "output_type": "execute_result"
    }
   ],
   "source": [
    "mods = query_table[\"mod_names\"]\n",
    "np_mods = mods.combine_chunks().to_numpy(zero_copy_only=False)\n",
    "mask = pa.array(~np.array([ np.any(x==737) for x in np_mods ]))\n",
    "no_tmt_table = query_table.filter(mask)\n",
    "len(no_tmt_table)"
   ]
  },
  {
   "cell_type": "code",
   "execution_count": 12,
   "metadata": {},
   "outputs": [
    {
     "data": {
      "text/plain": [
       "110374"
      ]
     },
     "execution_count": 12,
     "metadata": {},
     "output_type": "execute_result"
    }
   ],
   "source": [
    "cho_names = csv.read_csv('/home/djs10/asms2023/cho_names_uniq.txt',read_options=csv.ReadOptions(column_names=['name']), parse_options=csv.ParseOptions(delimiter='\\t'))\n",
    "len(cho_names)"
   ]
  },
  {
   "cell_type": "code",
   "execution_count": 18,
   "metadata": {},
   "outputs": [
    {
     "name": "stdout",
     "output_type": "stream",
     "text": [
      "8819 107729\n"
     ]
    },
    {
     "data": {
      "text/plain": [
       "8819"
      ]
     },
     "execution_count": 18,
     "metadata": {},
     "output_type": "execute_result"
    }
   ],
   "source": [
    "cho_set = set(cho_names['name'].to_pylist())\n",
    "cho_mask = [x in cho_set for x in no_tmt_table['name'].to_pylist()]\n",
    "print(cho_mask.count(True),cho_mask.count(False))\n",
    "cho_table = no_tmt_table.filter(cho_mask)\n",
    "len(cho_table)"
   ]
  },
  {
   "cell_type": "code",
   "execution_count": 19,
   "metadata": {},
   "outputs": [],
   "source": [
    "\n",
    "pq.write_table(cho_table,\"/home/djs10/asms2023/test_filtered.parquet\")"
   ]
  },
  {
   "cell_type": "code",
   "execution_count": null,
   "metadata": {},
   "outputs": [],
   "source": []
  }
 ],
 "metadata": {
  "kernelspec": {
   "display_name": "masskit",
   "language": "python",
   "name": "python3"
  },
  "language_info": {
   "codemirror_mode": {
    "name": "ipython",
    "version": 3
   },
   "file_extension": ".py",
   "mimetype": "text/x-python",
   "name": "python",
   "nbconvert_exporter": "python",
   "pygments_lexer": "ipython3",
   "version": "3.11.3"
  },
  "orig_nbformat": 4
 },
 "nbformat": 4,
 "nbformat_minor": 2
}
