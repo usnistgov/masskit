{
 "cells": [
  {
   "cell_type": "code",
   "execution_count": 1,
   "metadata": {},
   "outputs": [],
   "source": [
    "import pyarrow as pa\n",
    "import pyarrow.feather as feather\n",
    "import pyarrow.parquet as pq\n",
    "import pyarrow.compute as pc\n",
    "import numpy as np\n",
    "from pyarrow import csv\n",
    "from pathlib import Path\n",
    "from rich.progress import track"
   ]
  },
  {
   "cell_type": "code",
   "execution_count": 2,
   "metadata": {},
   "outputs": [
    {
     "name": "stderr",
     "output_type": "stream",
     "text": [
      "'ls' is not recognized as an internal or external command,\n",
      "operable program or batch file.\n",
      "'ls' is not recognized as an internal or external command,\n",
      "operable program or batch file.\n"
     ]
    }
   ],
   "source": [
    "!ls -l /data/aiomics/massspec_cache/uniprot/cho/*.parquet\n",
    "!ls -l /data/aiomics/massspec_cache/uniprot/cho/*.arrow"
   ]
  },
  {
   "cell_type": "code",
   "execution_count": null,
   "metadata": {},
   "outputs": [],
   "source": [
    "for input in track(Path('/data/search_asms2023/cho').glob('*.arrow')):\n",
    "    output = input.with_suffix('.parquet')\n",
    "    table = feather.read_table(input)\n",
    "    pq.write_table(table, output)"
   ]
  },
  {
   "cell_type": "code",
   "execution_count": null,
   "metadata": {},
   "outputs": [],
   "source": [
    "table = pq.read_table(\"/data/aiomics/massspec_cache/uniprot/cho/predicted_cho_uniprot_tryptic_2_0.parquet\")\n",
    "table"
   ]
  },
  {
   "cell_type": "code",
   "execution_count": 2,
   "metadata": {},
   "outputs": [
    {
     "data": {
      "text/plain": [
       "pyarrow.Table\n",
       "id: uint64\n",
       "charge: int8\n",
       "ev: double\n",
       "instrument: string\n",
       "instrument_type: string\n",
       "instrument_model: string\n",
       "ion_mode: string\n",
       "ionization: string\n",
       "name: string\n",
       "synonyms: string\n",
       "scan: string\n",
       "nce: double\n",
       "collision_energy: double\n",
       "retention_time: double\n",
       "collision_gas: string\n",
       "insource_voltage: int64\n",
       "sample_inlet: string\n",
       "intensity: large_list<item: double>\n",
       "  child 0, item: double\n",
       "stddev: large_list<item: double>\n",
       "  child 0, item: double\n",
       "product_massinfo: struct<tolerance: double, tolerance_type: dictionary<values=string, indices=int32, ordered=0>, mass_type: dictionary<values=string, indices=int32, ordered=0>, neutral_loss: string, neutral_loss_charge: int64, evenly_spaced: bool>\n",
       "  child 0, tolerance: double\n",
       "  child 1, tolerance_type: dictionary<values=string, indices=int32, ordered=0>\n",
       "  child 2, mass_type: dictionary<values=string, indices=int32, ordered=0>\n",
       "  child 3, neutral_loss: string\n",
       "  child 4, neutral_loss_charge: int64\n",
       "  child 5, evenly_spaced: bool\n",
       "mz: large_list<item: double>\n",
       "  child 0, item: double\n",
       "precursor_intensity: double\n",
       "precursor_massinfo: struct<tolerance: double, tolerance_type: dictionary<values=string, indices=int32, ordered=0>, mass_type: dictionary<values=string, indices=int32, ordered=0>, neutral_loss: string, neutral_loss_charge: int64, evenly_spaced: bool>\n",
       "  child 0, tolerance: double\n",
       "  child 1, tolerance_type: dictionary<values=string, indices=int32, ordered=0>\n",
       "  child 2, mass_type: dictionary<values=string, indices=int32, ordered=0>\n",
       "  child 3, neutral_loss: string\n",
       "  child 4, neutral_loss_charge: int64\n",
       "  child 5, evenly_spaced: bool\n",
       "precursor_mz: double\n",
       "starts: large_list<item: double>\n",
       "  child 0, item: double\n",
       "stops: large_list<item: double>\n",
       "  child 0, item: double\n",
       "exact_mass: double\n",
       "exact_mw: double\n",
       "annotations: large_list<item: struct<ion_type: dictionary<values=string, indices=int32, ordered=0>, product_charge: int8, isotope: uint8, ion_subtype: dictionary<values=string, indices=int32, ordered=0>, position: uint16, end_position: uint16, aa_before: dictionary<values=string, indices=int32, ordered=0>, aa_after: dictionary<values=string, indices=int32, ordered=0>, ptm_before: dictionary<values=string, indices=int32, ordered=0>, ptm_after: dictionary<values=string, indices=int32, ordered=0>>>\n",
       "  child 0, item: struct<ion_type: dictionary<values=string, indices=int32, ordered=0>, product_charge: int8, isotope: uint8, ion_subtype: dictionary<values=string, indices=int32, ordered=0>, position: uint16, end_position: uint16, aa_before: dictionary<values=string, indices=int32, ordered=0>, aa_after: dictionary<values=string, indices=int32, ordered=0>, ptm_before: dictionary<values=string, indices=int32, ordered=0>, ptm_after: dictionary<values=string, indices=int32, ordered=0>>\n",
       "      child 0, ion_type: dictionary<values=string, indices=int32, ordered=0>\n",
       "      child 1, product_charge: int8\n",
       "      child 2, isotope: uint8\n",
       "      child 3, ion_subtype: dictionary<values=string, indices=int32, ordered=0>\n",
       "      child 4, position: uint16\n",
       "      child 5, end_position: uint16\n",
       "      child 6, aa_before: dictionary<values=string, indices=int32, ordered=0>\n",
       "      child 7, aa_after: dictionary<values=string, indices=int32, ordered=0>\n",
       "      child 8, ptm_before: dictionary<values=string, indices=int32, ordered=0>\n",
       "      child 9, ptm_after: dictionary<values=string, indices=int32, ordered=0>\n",
       "spectrum_fp: large_list<item: uint8>\n",
       "  child 0, item: uint8\n",
       "spectrum_fp_count: int32\n",
       "hybrid_fp: large_list<item: float>\n",
       "  child 0, item: float\n",
       "set: dictionary<values=string, indices=int32, ordered=0>\n",
       "composition: dictionary<values=string, indices=int32, ordered=0>\n",
       "peptide: string\n",
       "peptide_len: int32\n",
       "mod_names: large_list<item: int16>\n",
       "  child 0, item: int16\n",
       "mod_positions: large_list<item: int32>\n",
       "  child 0, item: int32\n",
       "peptide_type: dictionary<values=string, indices=int32, ordered=0>\n",
       "is_phospho: bool\n",
       "----\n",
       "id: [[24,40,41,62,63,...,2178287,2178295,2178296,2178309,2178315],[2178316,2178317,2178392,2178393,2178413,...,2448581,2448582,2448684,2448685,2448686]]\n",
       "charge: [[2,3,3,3,3,...,4,3,4,3,5],[6,2,3,4,2,...,2,3,4,5,2]]\n",
       "ev: [[60,42,56,20,27,...,6.250839233398e+12,null,4.668750762939e+12,null,null],[null,null,null,null,6.119956970215e+12,...,null,null,null,null,null]]\n",
       "instrument: [[null,null,null,null,null,...,null,null,null,null,null],[null,null,null,null,null,...,null,null,null,null,null]]\n",
       "instrument_type: [[null,null,null,null,null,...,null,null,null,null,null],[null,null,null,null,null,...,null,null,null,null,null]]\n",
       "instrument_model: [[null,null,null,null,null,...,null,null,null,null,null],[null,null,null,null,null,...,null,null,null,null,null]]\n",
       "ion_mode: [[null,null,null,null,null,...,null,null,null,null,null],[null,null,null,null,null,...,null,null,null,null,null]]\n",
       "ionization: [[null,null,null,null,null,...,null,null,null,null,null],[null,null,null,null,null,...,null,null,null,null,null]]\n",
       "name: [[\"AAADLGTEAGVQQLLCTVR/2_1(15,C,CAM)\",\"AAAEVGINSETIVKPASISEEELLSSIR/3\",\"AAAEVGINSETIVKPASISEEELLSSIR/3\",\"AAAHVQGLVHVASR/3\",\"AAAHVQGLVHVASR/3\",...,\"LQAETGVTISQVDEETFSVFAPTPSAMHEAR/4_2(0,L,TMT)(26,M,Oxidation)\",\"LQAEWHDSDWILSVPAK/3_2(0,L,TMT)(16,K,TMT)\",\"LQAEWHDSDWILSVPAK/4_2(0,L,TMT)(16,K,TMT)\",\"LQAFGNECSIEQMEHVR/3_2(0,L,TMT)(7,C,CAM)\",\"LQAGADLHAPLDHGATLLHVAAANGFSEAAALLLEHR/5_1(0,L,TMT)\"],[\"LQAGADLHAPLDHGATLLHVAAANGFSEAAALLLEHR/6_1(0,L,TMT)\",\"LQAGDAPSVGGSC/2_2(0,L,TMT)(12,C,CAM)\",\"LQALPAGQVFNSSSGTQVLVIPSQDDHVLEVSVT/3_1(0,L,TMT)\",\"LQALPAGQVFNSSSGTQVLVIPSQDDHVLEVSVT/4_1(0,L,TMT)\",\"LQALVNSLCAGQSP/2_2(0,L,TMT)(8,C,CAM)\",...,\"YYSADINLCVVPNK/2_3(0,Y,TMT)(8,C,CAM)(13,K,TMT)\",\"YYSADINLCVVPNK/3_3(0,Y,TMT)(8,C,CAM)(13,K,TMT)\",\"YYTPYQEHVALHAPIK/4_2(0,Y,TMT)(15,K,TMT)\",\"YYTPYQEHVALHAPISTAPGWEPPDDPDTGSECSHPEVSPSPR/5_2(0,Y,TMT)(32,C,CAM)\",\"YYTQAGGTLGSFGM/2_1(0,Y,TMT)\"]]\n",
       "synonyms: [[null,null,null,null,null,...,null,null,null,null,null],[null,null,null,null,null,...,null,null,null,null,null]]\n",
       "..."
      ]
     },
     "execution_count": 2,
     "metadata": {},
     "output_type": "execute_result"
    }
   ],
   "source": [
    "query_table = pq.read_table(\"/home/djs10/asms2023/test.parquet\")\n",
    "query_table"
   ]
  },
  {
   "cell_type": "code",
   "execution_count": 4,
   "metadata": {},
   "outputs": [
    {
     "data": {
      "text/plain": [
       "143044"
      ]
     },
     "execution_count": 4,
     "metadata": {},
     "output_type": "execute_result"
    }
   ],
   "source": [
    "len(query_table)"
   ]
  },
  {
   "cell_type": "code",
   "execution_count": 3,
   "metadata": {},
   "outputs": [
    {
     "data": {
      "text/plain": [
       "116548"
      ]
     },
     "execution_count": 3,
     "metadata": {},
     "output_type": "execute_result"
    }
   ],
   "source": [
    "mods = query_table[\"mod_names\"]\n",
    "np_mods = mods.combine_chunks().to_numpy(zero_copy_only=False)\n",
    "mask = pa.array(~np.array([ np.any(x==737) for x in np_mods ]))\n",
    "no_tmt_table = query_table.filter(mask)\n",
    "len(no_tmt_table)"
   ]
  },
  {
   "cell_type": "code",
   "execution_count": 12,
   "metadata": {},
   "outputs": [
    {
     "data": {
      "text/plain": [
       "110374"
      ]
     },
     "execution_count": 12,
     "metadata": {},
     "output_type": "execute_result"
    }
   ],
   "source": [
    "cho_names = csv.read_csv('/home/djs10/asms2023/cho_names_uniq.txt',read_options=csv.ReadOptions(column_names=['name']), parse_options=csv.ParseOptions(delimiter='\\t'))\n",
    "len(cho_names)"
   ]
  },
  {
   "cell_type": "code",
   "execution_count": 18,
   "metadata": {},
   "outputs": [
    {
     "name": "stdout",
     "output_type": "stream",
     "text": [
      "8819 107729\n"
     ]
    },
    {
     "data": {
      "text/plain": [
       "8819"
      ]
     },
     "execution_count": 18,
     "metadata": {},
     "output_type": "execute_result"
    }
   ],
   "source": [
    "cho_set = set(cho_names['name'].to_pylist())\n",
    "cho_mask = [x in cho_set for x in no_tmt_table['name'].to_pylist()]\n",
    "print(cho_mask.count(True),cho_mask.count(False))\n",
    "cho_table = no_tmt_table.filter(cho_mask)\n",
    "len(cho_table)"
   ]
  },
  {
   "cell_type": "code",
   "execution_count": 19,
   "metadata": {},
   "outputs": [],
   "source": [
    "\n",
    "pq.write_table(cho_table,\"/home/djs10/asms2023/test_filtered.parquet\")"
   ]
  },
  {
   "cell_type": "code",
   "execution_count": 3,
   "metadata": {},
   "outputs": [
    {
     "name": "stdout",
     "output_type": "stream",
     "text": [
      " Volume in drive D is Data\n",
      " Volume Serial Number is 3E64-D3CD\n",
      "\n",
      " Directory of d:\\nist\\asms2023\\library\n",
      "\n",
      "04/25/2023  08:27 PM    29,249,339,394 predicted_cho_uniprot_tryptic_2_0.arrow\n",
      "04/25/2023  09:10 PM    29,769,728,626 predicted_cho_uniprot_tryptic_2_1.arrow\n",
      "04/25/2023  08:26 PM    30,145,136,186 predicted_cho_uniprot_tryptic_2_2.arrow\n",
      "04/25/2023  08:24 PM    29,257,910,130 predicted_cho_uniprot_tryptic_2_3.arrow\n",
      "04/25/2023  08:00 PM    29,026,097,490 predicted_cho_uniprot_tryptic_2_4.arrow\n",
      "04/25/2023  12:27 PM    21,739,170,266 predicted_cho_uniprot_tryptic_2_5.arrow\n",
      "               6 File(s) 169,187,382,092 bytes\n",
      "               0 Dir(s)  1,764,818,427,904 bytes free\n"
     ]
    }
   ],
   "source": [
    "!dir d:\\nist\\asms2023\\library\\*.arrow"
   ]
  },
  {
   "cell_type": "code",
   "execution_count": 2,
   "metadata": {},
   "outputs": [
    {
     "name": "stdout",
     "output_type": "stream",
     "text": [
      "reading D:/nist/asms2023/library//predicted_cho_uniprot_tryptic_2_0.arrow...done.\n",
      "reading D:/nist/asms2023/library//predicted_cho_uniprot_tryptic_2_1.arrow...done.\n",
      "reading D:/nist/asms2023/library//predicted_cho_uniprot_tryptic_2_2.arrow...done.\n",
      "reading D:/nist/asms2023/library//predicted_cho_uniprot_tryptic_2_3.arrow...done.\n",
      "reading D:/nist/asms2023/library//predicted_cho_uniprot_tryptic_2_4.arrow...done.\n",
      "reading D:/nist/asms2023/library//predicted_cho_uniprot_tryptic_2_5.arrow...done.\n"
     ]
    }
   ],
   "source": [
    "tables = []\n",
    "for part in range(6):\n",
    "   dir_name = \"D:/nist/asms2023/library/\"\n",
    "   fname = f\"{dir_name}/predicted_cho_uniprot_tryptic_2_{part}.arrow\"\n",
    "   print(f\"reading {fname}...\", end=\"\")\n",
    "   with pa.memory_map(fname, 'rb') as source:\n",
    "      iTable = pa.ipc.open_file(source).read_all()\n",
    "   jTable = iTable.drop_columns(['starts','stops'])\n",
    "   tables.append(jTable)\n",
    "   print(\"done.\")\n",
    "big_table = pa.concat_tables(tables)"
   ]
  },
  {
   "cell_type": "code",
   "execution_count": 17,
   "metadata": {},
   "outputs": [],
   "source": [
    "\n",
    "dir_name = \"D:/nist/asms2023/library/no_ss\"\n",
    "fname = f\"{dir_name}/predicted_cho_uniprot_tryptic_2.feather\"\n",
    "with open(fname, 'wb') as f:\n",
    "    feather.write_feather(big_table, f)"
   ]
  },
  {
   "cell_type": "code",
   "execution_count": 2,
   "metadata": {},
   "outputs": [],
   "source": [
    "dir_name = \"D:/nist/asms2023/library/no_ss\"\n",
    "fname = f\"{dir_name}/predicted_cho_uniprot_tryptic_2.feather\"\n",
    "with pa.memory_map(fname, 'rb') as source:\n",
    "    table = pa.ipc.open_file(source).read_all()\n",
    "len(table)"
   ]
  },
  {
   "cell_type": "code",
   "execution_count": 7,
   "metadata": {},
   "outputs": [
    {
     "data": {
      "text/plain": [
       "(17113904, 38)"
      ]
     },
     "execution_count": 7,
     "metadata": {},
     "output_type": "execute_result"
    }
   ],
   "source": [
    "big_table.get_total_buffer_size()/(1024*1024*1024)\n",
    "big_table.shape"
   ]
  },
  {
   "cell_type": "code",
   "execution_count": 9,
   "metadata": {},
   "outputs": [
    {
     "data": {
      "text/plain": [
       "5000"
      ]
     },
     "execution_count": 9,
     "metadata": {},
     "output_type": "execute_result"
    }
   ],
   "source": [
    "big_table.to_batches()[0].num_rows"
   ]
  },
  {
   "cell_type": "code",
   "execution_count": 10,
   "metadata": {},
   "outputs": [
    {
     "data": {
      "text/plain": [
       "3423"
      ]
     },
     "execution_count": 10,
     "metadata": {},
     "output_type": "execute_result"
    }
   ],
   "source": [
    "len(big_table.to_batches())"
   ]
  },
  {
   "cell_type": "code",
   "execution_count": 14,
   "metadata": {},
   "outputs": [
    {
     "data": {
      "text/plain": [
       "<pyarrow.lib.ChunkedArray object at 0x0000023B872F3C20>\n",
       "[\n",
       "  [\n",
       "    16499348,\n",
       "    15894044,\n",
       "    16499347,\n",
       "    15894043,\n",
       "    16499346,\n",
       "    ...\n",
       "    3556980,\n",
       "    15835053,\n",
       "    15835086,\n",
       "    15835087,\n",
       "    15835089\n",
       "  ]\n",
       "]"
      ]
     },
     "execution_count": 14,
     "metadata": {},
     "output_type": "execute_result"
    }
   ],
   "source": [
    "sortidx = pc.array_sort_indices(big_table['precursor_mz'])\n",
    "sortidx"
   ]
  },
  {
   "cell_type": "code",
   "execution_count": 21,
   "metadata": {},
   "outputs": [
    {
     "data": {
      "text/plain": [
       "17110000"
      ]
     },
     "execution_count": 21,
     "metadata": {},
     "output_type": "execute_result"
    }
   ],
   "source": [
    "list(range(0,len(sortidx),5000))[-1]"
   ]
  },
  {
   "cell_type": "code",
   "execution_count": 23,
   "metadata": {},
   "outputs": [
    {
     "data": {
      "text/plain": [
       "3904"
      ]
     },
     "execution_count": 23,
     "metadata": {},
     "output_type": "execute_result"
    }
   ],
   "source": [
    "len(sortidx.slice(17110000,5000))"
   ]
  },
  {
   "cell_type": "code",
   "execution_count": 24,
   "metadata": {},
   "outputs": [],
   "source": [
    "dir_name = \"D:/nist/asms2023/library/no_ss\"\n",
    "fname = f\"{dir_name}/predicted_cho_uniprot_tryptic_2.arrow\"\n",
    "with pa.OSFile(fname, 'wb') as sink:\n",
    "   with pa.ipc.new_file(sink, big_table.schema) as writer:\n",
    "    for start in range(0,len(sortidx),5000):\n",
    "        subset = sortidx.slice(start,5000)\n",
    "        batch = big_table.take(subset)\n",
    "        writer.write(batch)\n",
    "        print(f\"Wrote batch {start}:{start+len(batch)}\")"
   ]
  },
  {
   "cell_type": "code",
   "execution_count": null,
   "metadata": {},
   "outputs": [],
   "source": []
  }
 ],
 "metadata": {
  "kernelspec": {
   "display_name": "masskit",
   "language": "python",
   "name": "python3"
  },
  "language_info": {
   "codemirror_mode": {
    "name": "ipython",
    "version": 3
   },
   "file_extension": ".py",
   "mimetype": "text/x-python",
   "name": "python",
   "nbconvert_exporter": "python",
   "pygments_lexer": "ipython3",
   "version": "3.9.16"
  },
  "orig_nbformat": 4
 },
 "nbformat": 4,
 "nbformat_minor": 2
}
