{
 "cells": [
  {
   "cell_type": "code",
   "execution_count": 11,
   "metadata": {},
   "outputs": [],
   "source": [
    "import pyarrow as pa\n",
    "import pyarrow.parquet as pq\n",
    "import pyarrow.compute as pc\n",
    "import json\n",
    "from matplotlib_venn import venn2_unweighted, venn3_unweighted"
   ]
  },
  {
   "cell_type": "code",
   "execution_count": 2,
   "metadata": {},
   "outputs": [
    {
     "name": "stdout",
     "output_type": "stream",
     "text": [
      "Attempting to find or download data files:\n",
      "Using cache file C:\\Users\\slottad\\.masskit_cache\\pubchem\\pubchem-wiki.json\n",
      "Using cache file C:\\Users\\slottad\\.masskit_cache\\pubchem\\CID-InChI-Key.gz\n",
      "Using cache file C:\\Users\\slottad\\.masskit_cache\\pubchem\\CID-Patent.gz\n",
      "Using cache file C:\\Users\\slottad\\.masskit_cache\\pubchem\\CID-PMID.gz\n"
     ]
    }
   ],
   "source": [
    "#!cd\n",
    "!python ../src/masskit/apps/process/libraries/pubchem_links.py"
   ]
  },
  {
   "cell_type": "code",
   "execution_count": 3,
   "metadata": {},
   "outputs": [
    {
     "data": {
      "text/plain": [
       "[pyarrow.Table\n",
       " id: uint64\n",
       " name: string\n",
       " inchi_key: string\n",
       " inchi_key_orig: string\n",
       " ----\n",
       " id: [[1,2,3,4,5,...,4997,4998,4999,5000,5001],[5002,5003,5004,5005,5006,...,9997,9998,9999,10000,10001],...,[340009,340010,340011,340012,340013,...,345004,345005,345006,345007,345008],[345009,345010,345011,345012,345013,...,347101,347102,347103,347104,347105]]\n",
       " name: [[\"Hydrogen\",\"Deuterium\",\"Diazirine\",\"Methane, diazo-\",\"Ketene\",...,\"Pentafluoropropionamide, N-allyl-N-(3-methylbutyl)-\",\"5-Bromo-2-cyclopentylamino-3-nitropyridine\",\"4H-1-Benzopyran-4-one, 5-hydroxy-2-methyl-7-(2-propenyloxy)-\",\"3,4'-Dimethyl-2,3'-dioxobicyclohexyl-5-ene-3,4'-dicarboxylic acid, dimethyl ester\",\"Eudesma-4(14),7(11)-dien-8-one\"],[\"2-Diallylamino-N-phenyl-2-thioxo-acetamide\",\"Allyl-(4,6-di-piperidin-1-yl-[1,3,5]triazin-2-yl)-amine\",\"Cyclopropanecarboxamide, N-[7-(cyclopropylcarbonyl)-2,3-dihydro-1,4-benzodioxin-6-yl]-\",\"Acetamide, 2-(cyclohexylamino)-N-(5,6,7,8-tetrahydro-2-methyl-4-oxo[1]benzothieno[2,3-d]pyrimidin-3(4H)-yl)-\",\"Allyl pentabromophenyl ether\",...,\"2-Butene-1,4-diol, 2-[2-[(1R,2R,8aR)-decahydro-1-hydroxy-2,5,5,8a-tetramethyl-1-naphthalenyl]ethyl]-, diacetate\",\".alpha.-l-Rhamnofuranosylbromide, 5-O-acetyl-2,3-O-(ethylboranediyl)-\",\"1-Acetyl-4-bromo-3(5)-trimethyl-5(3)-methylpyrazole\",\"1-(2,5-Dimethylfuran-3-yl)-4,4,4-trifluorobutane-1,3-dione\",\"Dimethyl-1,2-oxazol-3-amine, N,N-bis(trifluoroacetyl)-\"],...,[\"3-[5-(4-Fluorophenyl)-1-(tetrahydrofuran-2-ylmethyl)-1H-pyrrol-2-yl]propanoic acid, TMS\",\"Antibiotic OM 173.alpha.2, TMS derivative\",\"3,4-Dihydroisoquinolin-7-ol, 6-methoxy-1-[3-benzyloxy-4-methoxyphenyl]\",\"N,N'-Dicarbethoxy-N-[2,4-diamino-6-[p-toluidino]-5-pyrimidinyl]hydrazine\",\"Polmacoxib, N,N-bis-methyl\",...,\"L-Valine, N-[N,O-bis(2,4-dinitrophenyl)-L-tyrosyl]-, methyl ester\",\"Pyrano[3,2-a]xanthen-12(1H)-one, 2,3-dihydro-5,9,11-trihydroxy-3,3-dimethyl-6,8-bis(3-methylbutyl)-\",\"2H,8H-Benzo[1,2-b:3,4-b']dipyran, 6-(3,3-diphenyl-2-propenyl)-3,4,9,10-tetrahydro-5-methoxy-2,2,8,8-tetramethyl-\",\"Trinaphthoquinone, (5H,6H,11H,12H,17H,18H-trinaphthylene-5,6,11,12,17,18-hexaone)\",\"trans-4-((2-(Butylamino)-5-(5-(morpholinomethyl)pyridin-2-yl)pyrimidin-4-yl)amino)cyclohexanol, 2Me derivative\"],[\"7-Bromo-5-(2-chloro-phenyl)-3-(4-methoxy-benzylidene)-1,3-dihydro-benzo[e][1,4]diazepin-2-one\",\"Silane, dimethyl(3,4,5-trichlorophenoxy)tetradecyloxy-\",\"4-(3-Bromophenoxy)-2,3-diphenyl-1-naphthalenol\",\"Acetic acid, 4,4,6a,8a,11,12,14b-heptamethyl-13-oxo-1,2,3,4,4a,5,6,6a,7,8,8a,9,10,11,12,12a,13,14,14a,14b-eicosahydropicen-3-yl este\",\"Lanosta-7,9(11)-dien-3-ol, acetate, (3.beta.,13.alpha.,14.beta.,17.alpha.)-\",...,\"2-(3,8,13,18-Tetraethyl-8-hydroxy-2,7,12,17-tetramethyl-7,8-dihydro-21H,23H-porphinyl-7)methyl-3,8,13,18-tetraethyl-7,12,17-trimethyl-2,3-epoxy-21H,23H-porphine\",\"2,4,6-Tris(perfluorononyl)-1,3,5-triazine\",\"Ferrocene, decakis(phenylmethyl)-\",\"1,3,5,2,4,6-Triazatriphosphorine, 2,2',2''-(2,2,4,4,6,6-hexamethyl-1,3,5,2,4,6-triazatristannine-1,3,5-triyl)tris[2,4,4,6,6-pentafluoro-2,2,4,4,6,6-hexahydro-\",\"Osmium, dodecacarbonyltetra-.mu.3-oxotetra-\"]]\n",
       " inchi_key: [[\"UFHFLCQGNIYNRP-UHFFFAOYSA-N\",\"UFHFLCQGNIYNRP-VVKOMZTBSA-N\",\"GKVDXUXIAHWQIK-UHFFFAOYSA-N\",\"YXHKONLOYHBTNS-UHFFFAOYSA-N\",\"CCGKOQOJPYTBIH-UHFFFAOYSA-N\",...,\"OASOQVZVFQXZDW-UHFFFAOYSA-N\",\"HWETUADXWHBETB-UHFFFAOYSA-N\",\"GURQIFKECNQBNG-UHFFFAOYSA-N\",\"WBIMYHKVRDRNQQ-UHFFFAOYSA-N\",\"NKGSEACIYQINQJ-UHFFFAOYSA-N\"],[\"FALXBGCJGBKXJO-UHFFFAOYSA-N\",\"UMJVZCVBNCCICF-UHFFFAOYSA-N\",\"CNYSFIBHJUXJQQ-UHFFFAOYSA-N\",\"WRWWASSCGYTXDG-UHFFFAOYSA-N\",\"VCNJVIWFSMCZPE-UHFFFAOYSA-N\",...,\"JQINEPQZPDQNNV-KIJWPISYSA-N\",\"ASZJQHNKELKRRY-UHFFFAOYSA-N\",\"KLKPLRILKDZPGX-UHFFFAOYSA-N\",\"BHOMEGVDWHEJTQ-UHFFFAOYSA-N\",\"NCPXWSPQOXQBRX-UHFFFAOYSA-N\"],...,[\"HUZVLVFZYDKGJE-UHFFFAOYSA-N\",\"LJIHFCKOYAJQKV-HKKFXGGESA-N\",\"MSVYXSAGLVLURQ-UHFFFAOYSA-N\",\"LCOQWCRTIJOSEF-UHFFFAOYSA-N\",\"KNAWXSIEZZILSJ-UHFFFAOYSA-N\",...,\"RZEQTKISYDIZLJ-OFVILXPXSA-N\",\"LGIBPRSKKXFYGE-UHFFFAOYSA-N\",\"DKUBYQYCXOOBLI-UHFFFAOYSA-N\",\"ROOIWDXDWBSWMS-UHFFFAOYSA-N\",\"XVBLGWUAFAETKY-HZCBDIJESA-N\"],[\"CNVGRDSTKZVUSG-CIAFOILYSA-N\",\"SCVFHTXFNJKYBO-UHFFFAOYSA-N\",\"BQLRAAUUULGZEL-UHFFFAOYSA-N\",\"IXVQPZMBZBFEQY-UHFFFAOYSA-N\",\"FGNFBQUIVUFRIF-KMDRULEYSA-N\",...,\"NXEMGQYTFNGWAN-DPEYOYHGSA-N\",\"RTAZGRONMASOMW-UHFFFAOYSA-N\",\"LPVMUQWNZBXNCP-UHFFFAOYSA-N\",\"DEHDFTYHLAAZCU-UHFFFAOYSA-N\",\"NAHUXSLJIJPCOB-UHFFFAOYSA-N\"]]\n",
       " inchi_key_orig: [[\"UFHFLCQGNIYNRP-UHFFFAOYSA-N\",\"UFHFLCQGNIYNRP-VVKOMZTBSA-N\",\"GKVDXUXIAHWQIK-UHFFFAOYSA-N\",\"YXHKONLOYHBTNS-UHFFFAOYSA-N\",\"CCGKOQOJPYTBIH-UHFFFAOYSA-N\",...,\"OASOQVZVFQXZDW-UHFFFAOYSA-N\",\"HWETUADXWHBETB-UHFFFAOYSA-N\",\"GURQIFKECNQBNG-UHFFFAOYSA-N\",\"WBIMYHKVRDRNQQ-UHFFFAOYSA-N\",\"NKGSEACIYQINQJ-UHFFFAOYSA-N\"],[\"FALXBGCJGBKXJO-UHFFFAOYSA-N\",\"UMJVZCVBNCCICF-UHFFFAOYSA-N\",\"CNYSFIBHJUXJQQ-UHFFFAOYSA-N\",\"WRWWASSCGYTXDG-UHFFFAOYSA-N\",\"VCNJVIWFSMCZPE-UHFFFAOYSA-N\",...,\"JQINEPQZPDQNNV-KIJWPISYSA-N\",\"ASZJQHNKELKRRY-UHFFFAOYSA-N\",\"KLKPLRILKDZPGX-UHFFFAOYSA-N\",\"BHOMEGVDWHEJTQ-UHFFFAOYSA-N\",\"NCPXWSPQOXQBRX-UHFFFAOYSA-N\"],...,[\"HUZVLVFZYDKGJE-UHFFFAOYSA-N\",\"LJIHFCKOYAJQKV-HKKFXGGESA-N\",\"MSVYXSAGLVLURQ-UHFFFAOYSA-N\",\"LCOQWCRTIJOSEF-UHFFFAOYSA-N\",\"KNAWXSIEZZILSJ-UHFFFAOYSA-N\",...,\"RZEQTKISYDIZLJ-OFVILXPXSA-N\",\"LGIBPRSKKXFYGE-UHFFFAOYSA-N\",\"DKUBYQYCXOOBLI-UHFFFAOYSA-N\",\"ROOIWDXDWBSWMS-UHFFFAOYSA-N\",\"XVBLGWUAFAETKY-HZCBDIJESA-N\"],[\"CNVGRDSTKZVUSG-CIAFOILYSA-N\",\"SCVFHTXFNJKYBO-UHFFFAOYSA-N\",\"BQLRAAUUULGZEL-UHFFFAOYSA-N\",\"IXVQPZMBZBFEQY-UHFFFAOYSA-N\",\"FGNFBQUIVUFRIF-KMDRULEYSA-N\",...,\"NXEMGQYTFNGWAN-DPEYOYHGSA-N\",\"RTAZGRONMASOMW-UHFFFAOYSA-N\",\"LPVMUQWNZBXNCP-UHFFFAOYSA-N\",\"DEHDFTYHLAAZCU-UHFFFAOYSA-N\",\"NAHUXSLJIJPCOB-UHFFFAOYSA-N\"]],\n",
       " pyarrow.Table\n",
       " id: uint64\n",
       " name: string\n",
       " inchi_key: string\n",
       " inchi_key_orig: string\n",
       " ----\n",
       " id: [[1,2,3,4,5,...,4996,4997,4998,4999,5000],[5001,5002,5003,5004,5005,...,9996,9997,9998,9999,10000],...,[40001,40002,40003,40004,40005,...,44996,44997,44998,44999,45000],[45001,45002,45003,45004,45005,...,46950,46951,46952,46953,46954]]\n",
       " name: [[\"3-Bromo-N,N,1-trimethyl-1H-1,2,4-triazol-5-amine\",\"Methanamine, N,N-difluoro-\",\"Sulfuric acid, dimethyl ester\",\"N,N-Dimethyl-2-pyridinamine\",\"Diazene, dimethyl-\",...,\"Formamide, N,N-dimethyl-\",\"2-Methylaminomethyl-1,3-dioxolane\",\"Propanamide\",\"Propanamide, 3,3'-thiobis-\",\"Propanamide, 3,3'-thiobis-\"],[\"Alanylglycine, TMS\",\"Benzenemethanol, .alpha.-[(methylamino)methyl]-\",\"(R)-(-)-Phenylephrine, bis(trimethylsilyl) ether\",\"Succinamic acid\",\"Meglumine\",...,\"Decanoic acid, 1,1a,1b,4,4a,5,7a,7b,8,9-decahydro-4a,7b-dihydroxy-3-(hydroxymethyl)-1,1,6,8-tetramethyl-5-oxo-9aH-cyclopropa[3,4]benz[1,2-e]azulene-9,9a-diyl ester, [1aR-(1a.alpha.,1b.beta.,4a.beta.,7a.alpha.,7b.alpha.,8.alpha.,9.beta.,9a.alpha.)]-\",\"Nonanoic acid\",\"Nonanoic acid\",\".beta.-D-Ribopyranoside, methyl\",\"Octyl-.beta.-D-glucopyranoside\"],...,[\"Capsaicin, TMS\",\"Capsaicin, TMS\",\"Capsaicin, TMS\",\"o-Methoxymandelic acid, 2TMS derivative\",\"Benzenepropanoic acid, 3-methoxy-.alpha.,4-bis[(trimethylsilyl)oxy]-, trimethylsilyl ester\",...,\"Vanillyl alcohol, 2TMS derivative\",\"Estra-1,3,5(10)-trien-17-one, 3-methoxy-1-methyl-\",\"Norethindrone\",\"4H-1-Benzopyran-4-one, 5-hydroxy-7-methoxy-2-(4-methoxyphenyl)-\",\"Gibbane-1,10-dicarboxylic acid, 4a-hydroxy-1-methyl-8-methylene-, 1,4a-lactone, 10-methyl ester, (1.alpha.,4a.alpha.,4b.beta.,10.beta.)-\"],[\"N-Desmethylflunitrazepam\",\"p-Benzoquinone, 2,5-dibromo-3,6-dihydroxy-\",\"Pregnenolone, 3-trifluoroacetate (ester)\",\"3,7-Dichloroquinoline-8-carboxylic acid, trimethylsilyl ester\",\"2,3,4,5-Tetrachloro-6-(trichloromethyl)pyridine\",...,\"Hematoxylin, 5TMS derivative\",\"2-(Diphenylamino)-4,6-bis[2,2,2-trifluoro-1,1-bis(trifluoromethyl)ethyl]-1,3,5-triazine\",\"1,3,5,7-Cyclooctatetraene, 1,2,3,4,5,6,7,8-octaphenyl-\",\"1,3,5,7-Tetrakis(trimethylsilyl)-2,2,6,6-tetrakis-(trimethylsilylamino)spiro[3,3]trisilazane\",\"1,3,5-Trimethyl-2,4,6-tris(3,5-di-tert-butyl-4-hydroxybenzyl)-benzene\"]]\n",
       " inchi_key: [[\"QPGCLRNPGBADMD-UHFFFAOYSA-N\",\"KTNJOGGUCNTDHY-UHFFFAOYSA-N\",\"VAYGXNSJCAHWJZ-UHFFFAOYSA-N\",\"PSHKMPUSSFXUIA-UHFFFAOYSA-N\",\"JCCAVOLDXDEODY-ONEGZZNKSA-N\",...,\"ZMXDDKWLCZADIW-UHFFFAOYSA-N\",\"ZCCPVTVGEQLONB-UHFFFAOYSA-N\",\"QLNJFJADRCOGBJ-UHFFFAOYSA-N\",\"GNAYFTGREAJJLY-UHFFFAOYSA-N\",\"GNAYFTGREAJJLY-UHFFFAOYSA-N\"],[\"OIKROLCDGDKWOB-LURJTMIESA-N\",\"ZCTYHONEGJTYQV-UHFFFAOYSA-N\",\"NQSSUVWEPFXLBN-HNNXBMFYSA-N\",\"JDVPQXZIJDEHAN-UHFFFAOYSA-N\",\"MBBZMMPHUWSWHV-UHFFFAOYSA-N\",...,\"DGOSGFYDFDYMCW-UHFFFAOYSA-N\",\"FBUKVWPVBMHYJY-UHFFFAOYSA-N\",\"FBUKVWPVBMHYJY-UHFFFAOYSA-N\",\"ZBDGHWFPLXXWRD-KVTDHHQDSA-N\",\"HEGSGKPQLMEBJL-RKQHYHRCSA-N\"],...,[\"IWBARWJSEWMOJH-PKNBQFBNSA-N\",\"IWBARWJSEWMOJH-PKNBQFBNSA-N\",\"IWBARWJSEWMOJH-PKNBQFBNSA-N\",\"AXAHAFRCRQFTMF-UHFFFAOYSA-N\",\"AXGULIYEKPVHPG-UHFFFAOYSA-N\",...,\"ZBFHUPIBELOLII-UHFFFAOYSA-N\",\"MMQXXBVYUZGAKI-YLAKUSLOSA-N\",\"VIKNJXKGJWUCNN-XGXHKTLJSA-N\",\"LZERJKGWTQYMBB-UHFFFAOYSA-N\",\"GKRMJALKMNRHGF-UHFFFAOYSA-N\"],[\"KNGIGRDYBQPXKQ-UHFFFAOYSA-N\",\"GMZWPTALVQRAFV-UHFFFAOYSA-N\",\"XMFYUFNYYIKKQW-KAFUMNDRSA-N\",\"JDVKVDVHSOTTPW-UHFFFAOYSA-N\",\"YMBFWRZKTZICHS-UHFFFAOYSA-N\",...,\"CFAQAGCVXBLKID-QCENPCRXSA-N\",\"GVIFQNVKYTUWRR-UHFFFAOYSA-N\",\"ZJTWLLZRWYEWSI-RFYBJXQJSA-N\",\"ZBCIYGMTVRLWAX-UHFFFAOYSA-N\",\"VSAWBBYYMBQKIK-UHFFFAOYSA-N\"]]\n",
       " inchi_key_orig: [[\"QPGCLRNPGBADMD-UHFFFAOYSA-N\",\"KTNJOGGUCNTDHY-UHFFFAOYSA-N\",\"VAYGXNSJCAHWJZ-UHFFFAOYSA-N\",\"PSHKMPUSSFXUIA-UHFFFAOYSA-N\",\"JCCAVOLDXDEODY-ONEGZZNKSA-N\",...,\"ZMXDDKWLCZADIW-UHFFFAOYSA-N\",\"ZCCPVTVGEQLONB-UHFFFAOYSA-N\",\"QLNJFJADRCOGBJ-UHFFFAOYSA-N\",\"GNAYFTGREAJJLY-UHFFFAOYSA-N\",\"GNAYFTGREAJJLY-UHFFFAOYSA-N\"],[\"OIKROLCDGDKWOB-LURJTMIESA-N\",\"ZCTYHONEGJTYQV-UHFFFAOYSA-N\",\"NQSSUVWEPFXLBN-HNNXBMFYSA-N\",\"JDVPQXZIJDEHAN-UHFFFAOYSA-N\",\"MBBZMMPHUWSWHV-UHFFFAOYSA-N\",...,\"DGOSGFYDFDYMCW-UHFFFAOYSA-N\",\"FBUKVWPVBMHYJY-UHFFFAOYSA-N\",\"FBUKVWPVBMHYJY-UHFFFAOYSA-N\",\"ZBDGHWFPLXXWRD-KVTDHHQDSA-N\",\"HEGSGKPQLMEBJL-RKQHYHRCSA-N\"],...,[\"IWBARWJSEWMOJH-PKNBQFBNSA-N\",\"IWBARWJSEWMOJH-PKNBQFBNSA-N\",\"IWBARWJSEWMOJH-PKNBQFBNSA-N\",\"AXAHAFRCRQFTMF-UHFFFAOYSA-N\",\"AXGULIYEKPVHPG-UHFFFAOYSA-N\",...,\"ZBFHUPIBELOLII-UHFFFAOYSA-N\",\"MMQXXBVYUZGAKI-YLAKUSLOSA-N\",\"VIKNJXKGJWUCNN-XGXHKTLJSA-N\",\"LZERJKGWTQYMBB-UHFFFAOYSA-N\",\"GKRMJALKMNRHGF-UHFFFAOYSA-N\"],[\"KNGIGRDYBQPXKQ-UHFFFAOYSA-N\",\"GMZWPTALVQRAFV-UHFFFAOYSA-N\",\"XMFYUFNYYIKKQW-KAFUMNDRSA-N\",\"JDVKVDVHSOTTPW-UHFFFAOYSA-N\",\"YMBFWRZKTZICHS-UHFFFAOYSA-N\",...,\"CFAQAGCVXBLKID-QCENPCRXSA-N\",\"GVIFQNVKYTUWRR-UHFFFAOYSA-N\",\"ZJTWLLZRWYEWSI-RFYBJXQJSA-N\",\"ZBCIYGMTVRLWAX-UHFFFAOYSA-N\",\"VSAWBBYYMBQKIK-UHFFFAOYSA-N\"]],\n",
       " pyarrow.Table\n",
       " id: uint64\n",
       " name: string\n",
       " inchi_key: string\n",
       " inchi_key_orig: string\n",
       " ----\n",
       " id: [[1,2,3,4,5,...,4996,4997,4998,4999,5000],[5001,5002,5003,5004,5005,...,9996,9997,9998,9999,10000],...,[170003,170004,170005,170006,170007,...,174998,174999,175000,175001,175002],[175003,175004,175005,175006,175007,...,178002,178003,178004,178005,178006]]\n",
       " name: [[\"5-Bromo-1-methyl-1H-indazol-3-amine\",\"2,6-Dibromo-5-ethoxy-3-pyridinamine\",\"tert-Butyl 4-[5-bromo-3-(methoxycarbonyl)-2-pyridinyl]-1-piperazinecarboxylate\",\"7-(Chloromethyl)-3-methyl-5H-[1,3]thiazolo[3,2-a]pyrimidin-5-one\",\"7-(Chloromethyl)-2,3-dimethyl-5H-[1,3]thiazolo[3,2-a]pyrimidin-5-one\",...,\"Benzoic acid, 2-(methylamino)-\",\"4-Bromo-1-methyl-1H-pyrrole-2-carboxylic acid, Me derivative\",\"5-Fluoro-1,3-dimethyl-1H-indole-2-carboxylic acid, Me derivative\",\"4-Chloro-2,5-dimethylphenol, methyl ether\",\"Benzenemethanol, .alpha.,.alpha.,4-trimethyl-\"],[\"2-Cyclohexen-1-ol, 2-methyl-5-(1-methylethenyl)-, cis-\",\"trans-Carveol\",\"4-Isopropylcyclohexa-1,3-dienecarbaldehyde\",\"4-Fluoro-3-(4-methyl-1-piperazinyl)benzaldehyde\",\"1-(5-methyl-2-furanyl)-1,2-propandione\",...,\"(R,E)-5-Cyclopentyl-N-methoxy-N-methyl-4-(2,2,2-trifluoroacetamido)pent-2-enamide\",\"5-Bromo-N-(3-methoxyphenyl)-2-furamide, N-methyl-\",\"16,17-Dihydroxy-7-kauranone\",\"Diclosulam\",\"Florasulam\"],...,[\"4-(2,3-Dihydroxypropyl)-3-methoxyphenyl .beta.-D-glucopyranoside, 6TMS\",\"4-(2,3-Dihydroxypropyl)-3-methoxyphenyl .beta.-D-glucopyranoside, hexaacetate\",\"4-(2,3-Dihydroxypropyl)-3-methoxyphenyl .beta.-D-glucopyranoside, hexamethyl ether\",\"4-(2,3-Dihydroxypropyl)-3-methoxyphenyl .beta.-D-glucopyranoside, 6TFA derivative\",\"2-Furanacetic acid, 2,5-dihydro-5-oxo-3-(1,2,3,4-tetrahydro-7-hydroxy-6-methoxy-2,3-dimethyl-1-naphthalenyl)-, 2TMS\",...,\"3-(5-Chloro-2-hydroxyphenyl)-N-(4-isopropoxybenzyl)-3-phenylpropanamide, O-acetyl\",\"3-(5-Chloro-2-hydroxyphenyl)-N-(4-isopropoxybenzyl)-3-phenylpropanamide, N,O-bis-methyl\",\"N-(2-(Cyclohexylthio)ethyl)-4-methyl-3-(N-(p-tolyl)sulfamoyl)benzamide, N,N'-bis-methyl\",\"4,6-Di-1-pyrrolidinyl-N-[3-(trifluoromethyl)phenyl]-1,3,5-triazin-2-amine, TMS\",\"4,6-Di-1-pyrrolidinyl-N-[3-(trifluoromethyl)phenyl]-1,3,5-triazin-2-amine, N-methyl\"],[\"4,6-Di-1-pyrrolidinyl-N-[3-(trifluoromethyl)phenyl]-1,3,5-triazin-2-amine, N-trifluoroacetyl\",\"Methyl 2-chloro-5-[(2,3-dihydro-1,4-benzodioxin-2-ylcarbonyl)amino]benzoate, TMS\",\"(Methyl 2-chloro-5-[(2,3-dihydro-1,4-benzodioxin-2-ylcarbonyl)amino]benzoate), N-trifluoroacetyl\",\"5-Bromo-2-methoxy-3-methyl-N-{4-[4-(methylsulfonyl)-1-piperazinyl]phenyl}benzamide, N-methyl\",\"4-Chloro-3-ethoxy-N-(4-ethylphenyl)benzenesulfonamide, TMS\",...,\"2-Methyl-3-butene-2-thiol\",\"Methyl 3-hydroxycholest-5-en-26-oate, TMS derivative\",\"2-Methyl-3-oxovaleric acid, O,O'-bis(trimethylsilyl)-\",\"3-Hydroxy-3-(4'-hydroxy-3'-methoxyphenyl)propionic acid, tri-TMS\",\"2-Propylpentanoic acid, 2,3,4,6-tetra(trimethylsilyl)-1-glucopyranoside\"]]\n",
       " inchi_key: [[\"BKBSBRJIGMVBFM-UHFFFAOYSA-N\",\"JBYDYHKAHAUMOL-UHFFFAOYSA-N\",\"YOCDALHJYLXODI-UHFFFAOYSA-N\",\"CTOHNLKENNHCNA-UHFFFAOYSA-N\",\"HLZAYTBCQHKUMI-UHFFFAOYSA-N\",...,\"WVMBPWMAQDVZCM-UHFFFAOYSA-N\",\"XYZFZMSLKMPMGW-UHFFFAOYSA-N\",\"NCLPCTSNTZOXSF-UHFFFAOYSA-N\",\"PDOPWXBXJAMQLL-UHFFFAOYSA-N\",\"XLPDVYGDNRIQFV-UHFFFAOYSA-N\"],[\"BAVONGHXFVOKBV-NXEZZACHSA-N\",\"BAVONGHXFVOKBV-ZJUUUORDSA-N\",\"MKVBITWQDIIUMF-UHFFFAOYSA-N\",\"LKLSDLACNUEQLH-UHFFFAOYSA-N\",\"SNZHDDIHWUADMV-UHFFFAOYSA-N\",...,\"KVUFWMKCDFSVGF-AEZGRPFRSA-N\",\"NUOKQPBTEBLSJY-UHFFFAOYSA-N\",\"CNEAFYADRZPYEP-UGCNJCKESA-N\",\"QNXAVFXEJCPCJO-UHFFFAOYSA-N\",\"QZXATCCPQKOEIH-UHFFFAOYSA-N\"],...,[\"YOFAHNFDEXBRJS-ZJWYOKNESA-N\",\"BGDNPLVBBYPMRT-HQKAVCLOSA-N\",\"IGDYFWLQEXFUHM-RPAXGWLXSA-N\",\"DWHQWIAOTLCDHV-CINVCKRMSA-N\",\"XGCLPRSUZFCMEB-UHFFFAOYSA-N\",...,\"NNBHXVRTSUUURT-UHFFFAOYSA-N\",\"FQTIXFBBZWAUAZ-UHFFFAOYSA-N\",\"ZTYQSVPBNYYQNY-UHFFFAOYSA-N\",\"IHOYBJKIPAPGTN-UHFFFAOYSA-N\",\"AFAANTVZCCCIND-UHFFFAOYSA-N\"],[\"BXQYIECNDQMVNS-UHFFFAOYSA-N\",\"LKTASVZCLMWLFN-UHFFFAOYSA-N\",\"YYMAJQMHBWLIHV-UHFFFAOYSA-N\",\"XFAZVQAOCGJGFW-UHFFFAOYSA-N\",\"CICRMTRNYCTWBK-UHFFFAOYSA-N\",...,\"ZKDRFRZNMQYWPD-HWKANZROSA-N\",\"DNXGNXYNSBCWGX-PMVQGDQUSA-N\",\"LXAIQDVPXKOIGO-KHPPLWFESA-N\",\"QCMUGKOFXVYNCF-UHFFFAOYSA-N\",\"OVXMRISJDUWFKB-UHFFFAOYSA-N\"]]\n",
       " inchi_key_orig: [[\"BKBSBRJIGMVBFM-UHFFFAOYSA-N\",\"JBYDYHKAHAUMOL-UHFFFAOYSA-N\",\"YOCDALHJYLXODI-UHFFFAOYSA-N\",\"CTOHNLKENNHCNA-UHFFFAOYSA-N\",\"HLZAYTBCQHKUMI-UHFFFAOYSA-N\",...,\"WVMBPWMAQDVZCM-UHFFFAOYSA-N\",\"XYZFZMSLKMPMGW-UHFFFAOYSA-N\",\"NCLPCTSNTZOXSF-UHFFFAOYSA-N\",\"PDOPWXBXJAMQLL-UHFFFAOYSA-N\",\"XLPDVYGDNRIQFV-UHFFFAOYSA-N\"],[\"BAVONGHXFVOKBV-NXEZZACHSA-N\",\"BAVONGHXFVOKBV-ZJUUUORDSA-N\",\"MKVBITWQDIIUMF-UHFFFAOYSA-N\",\"LKLSDLACNUEQLH-UHFFFAOYSA-N\",\"SNZHDDIHWUADMV-UHFFFAOYSA-N\",...,\"KVUFWMKCDFSVGF-AEZGRPFRSA-N\",\"NUOKQPBTEBLSJY-UHFFFAOYSA-N\",\"CNEAFYADRZPYEP-UGCNJCKESA-N\",\"QNXAVFXEJCPCJO-UHFFFAOYSA-N\",\"QZXATCCPQKOEIH-UHFFFAOYSA-N\"],...,[\"YOFAHNFDEXBRJS-ZJWYOKNESA-N\",\"BGDNPLVBBYPMRT-HQKAVCLOSA-N\",\"IGDYFWLQEXFUHM-RPAXGWLXSA-N\",\"DWHQWIAOTLCDHV-CINVCKRMSA-N\",\"XGCLPRSUZFCMEB-UHFFFAOYSA-N\",...,\"NNBHXVRTSUUURT-UHFFFAOYSA-N\",\"FQTIXFBBZWAUAZ-UHFFFAOYSA-N\",\"ZTYQSVPBNYYQNY-UHFFFAOYSA-N\",\"IHOYBJKIPAPGTN-UHFFFAOYSA-N\",\"AFAANTVZCCCIND-UHFFFAOYSA-N\"],[\"BXQYIECNDQMVNS-UHFFFAOYSA-N\",\"LKTASVZCLMWLFN-UHFFFAOYSA-N\",\"YYMAJQMHBWLIHV-UHFFFAOYSA-N\",\"XFAZVQAOCGJGFW-UHFFFAOYSA-N\",\"CICRMTRNYCTWBK-UHFFFAOYSA-N\",...,\"ZKDRFRZNMQYWPD-HWKANZROSA-N\",\"DNXGNXYNSBCWGX-PMVQGDQUSA-N\",\"LXAIQDVPXKOIGO-KHPPLWFESA-N\",\"QCMUGKOFXVYNCF-UHFFFAOYSA-N\",\"OVXMRISJDUWFKB-UHFFFAOYSA-N\"]],\n",
       " pyarrow.Table\n",
       " id: uint64\n",
       " name: string\n",
       " inchi_key: string\n",
       " inchi_key_orig: string\n",
       " ----\n",
       " id: [[3485117,3485117,3485118,3485118,3485119,...,3579356,3579357,3579357,3579358,3579358],[3579359,3579359,3579360,3579360,3579361,...,3583150,3583151,3583151,3583152,3583152],[3583153,3583153,3583154,3583154,3583166,...,3584292,3584293,3584293,3584294,3584294]]\n",
       " name: [[\"Dibutyl phthalate\",\"Dibutyl phthalate\",\"Dibutyl phthalate\",\"Dibutyl phthalate\",\"Dibutyl phthalate\",...,\"2-Methoxy-5-methylaniline\",\"2-Methoxy-5-methylaniline\",\"2-Methoxy-5-methylaniline\",\"2-Methoxy-5-methylaniline\",\"2-Methoxy-5-methylaniline\"],[\"2-Methoxy-5-methylaniline\",\"2-Methoxy-5-methylaniline\",\"2-Methoxy-5-methylaniline\",\"2-Methoxy-5-methylaniline\",\"2-Methoxy-5-methylaniline\",...,\"Decamethyltetrasiloxane\",\"Decamethyltetrasiloxane\",\"Decamethyltetrasiloxane\",\"Decamethyltetrasiloxane\",\"Decamethyltetrasiloxane\"],[\"Decamethyltetrasiloxane\",\"Decamethyltetrasiloxane\",\"Decamethyltetrasiloxane\",\"Decamethyltetrasiloxane\",\"Octamethyltrisiloxane\",...,\"2-[(E)-2-(4-Pyridinyl)ethenyl]pyridine\",\"2-[(E)-2-(4-Pyridinyl)ethenyl]pyridine\",\"2-[(E)-2-(4-Pyridinyl)ethenyl]pyridine\",\"2-[(E)-2-(4-Pyridinyl)ethenyl]pyridine\",\"2-[(E)-2-(4-Pyridinyl)ethenyl]pyridine\"]]\n",
       " inchi_key: [[\"DOIRQSBPFJWKBE-UHFFFAOYSA-N\",\"DOIRQSBPFJWKBE-UHFFFAOYSA-N\",\"DOIRQSBPFJWKBE-UHFFFAOYSA-N\",\"DOIRQSBPFJWKBE-UHFFFAOYSA-N\",\"DOIRQSBPFJWKBE-UHFFFAOYSA-N\",...,\"WXWCDTXEKCVRRO-UHFFFAOYSA-N\",\"WXWCDTXEKCVRRO-UHFFFAOYSA-N\",\"WXWCDTXEKCVRRO-UHFFFAOYSA-N\",\"WXWCDTXEKCVRRO-UHFFFAOYSA-N\",\"WXWCDTXEKCVRRO-UHFFFAOYSA-N\"],[\"WXWCDTXEKCVRRO-UHFFFAOYSA-N\",\"WXWCDTXEKCVRRO-UHFFFAOYSA-N\",\"WXWCDTXEKCVRRO-UHFFFAOYSA-N\",\"WXWCDTXEKCVRRO-UHFFFAOYSA-N\",\"WXWCDTXEKCVRRO-UHFFFAOYSA-N\",...,\"YFCGDEUVHLPRCZ-UHFFFAOYSA-N\",\"YFCGDEUVHLPRCZ-UHFFFAOYSA-N\",\"YFCGDEUVHLPRCZ-UHFFFAOYSA-N\",\"YFCGDEUVHLPRCZ-UHFFFAOYSA-N\",\"YFCGDEUVHLPRCZ-UHFFFAOYSA-N\"],[\"YFCGDEUVHLPRCZ-UHFFFAOYSA-N\",\"YFCGDEUVHLPRCZ-UHFFFAOYSA-N\",\"YFCGDEUVHLPRCZ-UHFFFAOYSA-N\",\"YFCGDEUVHLPRCZ-UHFFFAOYSA-N\",\"CXQXSVUQTKDNFP-UHFFFAOYSA-N\",...,\"RETWYDZOYDJBIX-SNAWJCMRSA-N\",\"RETWYDZOYDJBIX-SNAWJCMRSA-N\",\"RETWYDZOYDJBIX-SNAWJCMRSA-N\",\"RETWYDZOYDJBIX-SNAWJCMRSA-N\",\"RETWYDZOYDJBIX-SNAWJCMRSA-N\"]]\n",
       " inchi_key_orig: [[\"DOIRQSBPFJWKBE-UHFFFAOYSA-N\",\"DOIRQSBPFJWKBE-UHFFFAOYSA-N\",\"DOIRQSBPFJWKBE-UHFFFAOYSA-N\",\"DOIRQSBPFJWKBE-UHFFFAOYSA-N\",\"DOIRQSBPFJWKBE-UHFFFAOYSA-N\",...,\"WXWCDTXEKCVRRO-UHFFFAOYSA-N\",\"WXWCDTXEKCVRRO-UHFFFAOYSA-N\",\"WXWCDTXEKCVRRO-UHFFFAOYSA-N\",\"WXWCDTXEKCVRRO-UHFFFAOYSA-N\",\"WXWCDTXEKCVRRO-UHFFFAOYSA-N\"],[\"WXWCDTXEKCVRRO-UHFFFAOYSA-N\",\"WXWCDTXEKCVRRO-UHFFFAOYSA-N\",\"WXWCDTXEKCVRRO-UHFFFAOYSA-N\",\"WXWCDTXEKCVRRO-UHFFFAOYSA-N\",\"WXWCDTXEKCVRRO-UHFFFAOYSA-N\",...,\"YFCGDEUVHLPRCZ-UHFFFAOYSA-N\",\"YFCGDEUVHLPRCZ-UHFFFAOYSA-N\",\"YFCGDEUVHLPRCZ-UHFFFAOYSA-N\",\"YFCGDEUVHLPRCZ-UHFFFAOYSA-N\",\"YFCGDEUVHLPRCZ-UHFFFAOYSA-N\"],[\"YFCGDEUVHLPRCZ-UHFFFAOYSA-N\",\"YFCGDEUVHLPRCZ-UHFFFAOYSA-N\",\"YFCGDEUVHLPRCZ-UHFFFAOYSA-N\",\"YFCGDEUVHLPRCZ-UHFFFAOYSA-N\",\"CXQXSVUQTKDNFP-UHFFFAOYSA-N\",...,\"RETWYDZOYDJBIX-SNAWJCMRSA-N\",\"RETWYDZOYDJBIX-SNAWJCMRSA-N\",\"RETWYDZOYDJBIX-SNAWJCMRSA-N\",\"RETWYDZOYDJBIX-SNAWJCMRSA-N\",\"RETWYDZOYDJBIX-SNAWJCMRSA-N\"]],\n",
       " pyarrow.Table\n",
       " id: uint64\n",
       " name: string\n",
       " inchi_key: string\n",
       " inchi_key_orig: string\n",
       " ----\n",
       " id: [[1035166,1035166,1035167,1035167,1035168,...,1056510,1056511,1056511,1056512,1056512],[1056513,1056513,1056514,1056514,1056515,...,1059108,1059109,1059109,1059110,1059110],...,[4656454,4656454,4656455,4656455,4656456,...,3559730,3559731,3559731,3559732,3559732],[3559733,3559733,3559734,3559734,3559735,...,4657187,4657188,4657188,4657189,4657189]]\n",
       " name: [[\"1',3'-Bis[1,2-dilinoleoyl-sn-glycero-3-phospho]-sn-glycerol\",\"1',3'-Bis[1,2-dilinoleoyl-sn-glycero-3-phospho]-sn-glycerol\",\"1',3'-Bis[1,2-dilinoleoyl-sn-glycero-3-phospho]-sn-glycerol\",\"1',3'-Bis[1,2-dilinoleoyl-sn-glycero-3-phospho]-sn-glycerol\",\"1',3'-Bis[1,2-dilinoleoyl-sn-glycero-3-phospho]-sn-glycerol\",...,\"4-Hydroxybenzoic acid\",\"4-Hydroxybenzoic acid\",\"4-Hydroxybenzoic acid\",\"4-Hydroxybenzoic acid\",\"4-Hydroxybenzoic acid\"],[\"4-Hydroxybenzoic acid\",\"4-Hydroxybenzoic acid\",\"4-Hydroxybenzoic acid\",\"4-Hydroxybenzoic acid\",\"4-Hydroxybenzoic acid\",...,\"Tropic acid\",\"Tropic acid\",\"Tropic acid\",\"Tropic acid\",\"Tropic acid\"],...,[\"Podoverin A\",\"Podoverin A\",\"Podoverin A\",\"Podoverin A\",\"Podoverin A\",...,\"Bradykinin\",\"Bradykinin\",\"Bradykinin\",\"Bradykinin\",\"Bradykinin\"],[\"Bradykinin\",\"Bradykinin\",\"Bradykinin\",\"Bradykinin\",\"Bradykinin\",...,\"N,N-Diethyl-4-fluorobenzenesulfonamide\",\"N,N-Diethyl-4-fluorobenzenesulfonamide\",\"N,N-Diethyl-4-fluorobenzenesulfonamide\",\"N,N-Diethyl-4-fluorobenzenesulfonamide\",\"N,N-Diethyl-4-fluorobenzenesulfonamide\"]]\n",
       " inchi_key: [[\"LSHJMDWWJIYXEM-XGJIDDIWSA-N\",\"LSHJMDWWJIYXEM-XGJIDDIWSA-N\",\"LSHJMDWWJIYXEM-XGJIDDIWSA-N\",\"LSHJMDWWJIYXEM-XGJIDDIWSA-N\",\"LSHJMDWWJIYXEM-XGJIDDIWSA-N\",...,\"FJKROLUGYXJWQN-UHFFFAOYSA-N\",\"FJKROLUGYXJWQN-UHFFFAOYSA-N\",\"FJKROLUGYXJWQN-UHFFFAOYSA-N\",\"FJKROLUGYXJWQN-UHFFFAOYSA-N\",\"FJKROLUGYXJWQN-UHFFFAOYSA-N\"],[\"FJKROLUGYXJWQN-UHFFFAOYSA-N\",\"FJKROLUGYXJWQN-UHFFFAOYSA-N\",\"FJKROLUGYXJWQN-UHFFFAOYSA-N\",\"FJKROLUGYXJWQN-UHFFFAOYSA-N\",\"FJKROLUGYXJWQN-UHFFFAOYSA-N\",...,\"JACRWUWPXAESPB-UHFFFAOYSA-N\",\"JACRWUWPXAESPB-UHFFFAOYSA-N\",\"JACRWUWPXAESPB-UHFFFAOYSA-N\",\"JACRWUWPXAESPB-UHFFFAOYSA-N\",\"JACRWUWPXAESPB-UHFFFAOYSA-N\"],...,[\"MGFXFQXRHGAKQN-UHFFFAOYSA-N\",\"MGFXFQXRHGAKQN-UHFFFAOYSA-N\",\"MGFXFQXRHGAKQN-UHFFFAOYSA-N\",\"MGFXFQXRHGAKQN-UHFFFAOYSA-N\",\"MGFXFQXRHGAKQN-UHFFFAOYSA-N\",...,\"QXZGBUJJYSLZLT-FDISYFBBSA-N\",\"QXZGBUJJYSLZLT-FDISYFBBSA-N\",\"QXZGBUJJYSLZLT-FDISYFBBSA-N\",\"QXZGBUJJYSLZLT-FDISYFBBSA-N\",\"QXZGBUJJYSLZLT-FDISYFBBSA-N\"],[\"QXZGBUJJYSLZLT-FDISYFBBSA-N\",\"QXZGBUJJYSLZLT-FDISYFBBSA-N\",\"QXZGBUJJYSLZLT-FDISYFBBSA-N\",\"QXZGBUJJYSLZLT-FDISYFBBSA-N\",\"QXZGBUJJYSLZLT-FDISYFBBSA-N\",...,\"RQOUFSQZCQYRKK-UHFFFAOYSA-N\",\"RQOUFSQZCQYRKK-UHFFFAOYSA-N\",\"RQOUFSQZCQYRKK-UHFFFAOYSA-N\",\"RQOUFSQZCQYRKK-UHFFFAOYSA-N\",\"RQOUFSQZCQYRKK-UHFFFAOYSA-N\"]]\n",
       " inchi_key_orig: [[\"LSHJMDWWJIYXEM-XGJIDDIWSA-N\",\"LSHJMDWWJIYXEM-XGJIDDIWSA-N\",\"LSHJMDWWJIYXEM-XGJIDDIWSA-N\",\"LSHJMDWWJIYXEM-XGJIDDIWSA-N\",\"LSHJMDWWJIYXEM-XGJIDDIWSA-N\",...,\"FJKROLUGYXJWQN-UHFFFAOYSA-N\",\"FJKROLUGYXJWQN-UHFFFAOYSA-N\",\"FJKROLUGYXJWQN-UHFFFAOYSA-N\",\"FJKROLUGYXJWQN-UHFFFAOYSA-N\",\"FJKROLUGYXJWQN-UHFFFAOYSA-N\"],[\"FJKROLUGYXJWQN-UHFFFAOYSA-N\",\"FJKROLUGYXJWQN-UHFFFAOYSA-N\",\"FJKROLUGYXJWQN-UHFFFAOYSA-N\",\"FJKROLUGYXJWQN-UHFFFAOYSA-N\",\"FJKROLUGYXJWQN-UHFFFAOYSA-N\",...,\"JACRWUWPXAESPB-UHFFFAOYSA-N\",\"JACRWUWPXAESPB-UHFFFAOYSA-N\",\"JACRWUWPXAESPB-UHFFFAOYSA-N\",\"JACRWUWPXAESPB-UHFFFAOYSA-N\",\"JACRWUWPXAESPB-UHFFFAOYSA-N\"],...,[\"MGFXFQXRHGAKQN-UHFFFAOYSA-N\",\"MGFXFQXRHGAKQN-UHFFFAOYSA-N\",\"MGFXFQXRHGAKQN-UHFFFAOYSA-N\",\"MGFXFQXRHGAKQN-UHFFFAOYSA-N\",\"MGFXFQXRHGAKQN-UHFFFAOYSA-N\",...,\"QXZGBUJJYSLZLT-FDISYFBBSA-N\",\"QXZGBUJJYSLZLT-FDISYFBBSA-N\",\"QXZGBUJJYSLZLT-FDISYFBBSA-N\",\"QXZGBUJJYSLZLT-FDISYFBBSA-N\",\"QXZGBUJJYSLZLT-FDISYFBBSA-N\"],[\"QXZGBUJJYSLZLT-FDISYFBBSA-N\",\"QXZGBUJJYSLZLT-FDISYFBBSA-N\",\"QXZGBUJJYSLZLT-FDISYFBBSA-N\",\"QXZGBUJJYSLZLT-FDISYFBBSA-N\",\"QXZGBUJJYSLZLT-FDISYFBBSA-N\",...,\"RQOUFSQZCQYRKK-UHFFFAOYSA-N\",\"RQOUFSQZCQYRKK-UHFFFAOYSA-N\",\"RQOUFSQZCQYRKK-UHFFFAOYSA-N\",\"RQOUFSQZCQYRKK-UHFFFAOYSA-N\",\"RQOUFSQZCQYRKK-UHFFFAOYSA-N\"]],\n",
       " pyarrow.Table\n",
       " id: uint64\n",
       " name: string\n",
       " inchi_key: string\n",
       " inchi_key_orig: string\n",
       " ----\n",
       " id: [[1000001,1000001,1000002,1000002,1000003,...,1006771,1006772,1006772,1006773,1006773],[1006774,1006774,1006775,1006775,1006776,...,1025307,1025310,1025310,1025312,1025312],...,[3769402,3769402,3769403,3769403,3769404,...,3516950,3516951,3516951,3516952,3516952],[3516953,3516953,3516954,3516954,3516955,...,4657173,4657174,4657174,4657175,4657175]]\n",
       " name: [[\"3-Hydroxy-3-(2-(2-hydroxyphenyl)-2-oxoethyl)-1,3-dihydro-2H-indol-2-one\",\"3-Hydroxy-3-(2-(2-hydroxyphenyl)-2-oxoethyl)-1,3-dihydro-2H-indol-2-one\",\"5-(4-Ethoxybenzylidene)-2-(4-morpholinyl)-1,3-thiazol-4(5H)-one\",\"5-(4-Ethoxybenzylidene)-2-(4-morpholinyl)-1,3-thiazol-4(5H)-one\",\"1-(4-Nitro)-3-((2-(3-methylphenoxy)ethyl)amino)phenyl)pyrrolidine\",...,\"2-Methylbutyrylcarnitine, butyl ester\",\"Carnitine, butyl ester\",\"Carnitine, butyl ester\",\"Betamethasone\",\"Betamethasone\"],[\"Roquefortine C\",\"Roquefortine C\",\"Scytalone\",\"Scytalone\",\"Terrein\",...,\"Nicergoline\",\"Nicergoline\",\"Nicergoline\",\"Nicergoline\",\"Nicergoline\"],...,[\"NP-024204\",\"NP-024204\",\"Butanedioic acid, 2-hexylidene-3-methyl-, (2E)-\",\"Butanedioic acid, 2-hexylidene-3-methyl-, (2E)-\",\"Butanedioic acid, 2-hexylidene-3-methyl-, (2E)-\",...,\"Angiotensin II, human\",\"Angiotensin II, human\",\"Angiotensin II, human\",\"Angiotensin II, human\",\"Angiotensin II, human\"],[\"Angiotensin II, human\",\"Angiotensin II, human\",\"Angiotensin II, human\",\"Angiotensin II, human\",\"Angiotensin II, human\",...,\"N,N-Diethyl-4-fluorobenzenesulfonamide\",\"N,N-Diethyl-4-fluorobenzenesulfonamide\",\"N,N-Diethyl-4-fluorobenzenesulfonamide\",\"N,N-Diethyl-4-fluorobenzenesulfonamide\",\"N,N-Diethyl-4-fluorobenzenesulfonamide\"]]\n",
       " inchi_key: [[\"UAEJHGCEFAFLIJ-UHFFFAOYSA-N\",\"UAEJHGCEFAFLIJ-UHFFFAOYSA-N\",\"SYKSUKDZLCWNCF-KAMYIIQDSA-N\",\"SYKSUKDZLCWNCF-KAMYIIQDSA-N\",\"RELAVOSJWNLNKA-UHFFFAOYSA-N\",...,\"VXMTYMSHSJNVRE-UHFFFAOYSA-N\",\"PXRHJFJRFYHVGV-UHFFFAOYSA-N\",\"PXRHJFJRFYHVGV-UHFFFAOYSA-N\",\"UREBDLICKHMUKA-DVTGEIKXSA-N\",\"UREBDLICKHMUKA-DVTGEIKXSA-N\"],[\"SPWSUFUPTSJWNG-LIMLNZRCSA-N\",\"SPWSUFUPTSJWNG-LIMLNZRCSA-N\",\"RTWVXIIKUFSDJB-UHFFFAOYSA-N\",\"RTWVXIIKUFSDJB-UHFFFAOYSA-N\",\"MHOOPNKRBMHHEC-HZIBQTDNSA-N\",...,\"YSEXMKHXIOCEJA-UHFFFAOYSA-N\",\"YSEXMKHXIOCEJA-UHFFFAOYSA-N\",\"YSEXMKHXIOCEJA-UHFFFAOYSA-N\",\"YSEXMKHXIOCEJA-UHFFFAOYSA-N\",\"YSEXMKHXIOCEJA-UHFFFAOYSA-N\"],...,[\"WPQLFRBTDZPTHH-PBUVFVDJSA-N\",\"WPQLFRBTDZPTHH-PBUVFVDJSA-N\",\"YTUQECDNJQCQAE-VQHVLOKHSA-N\",\"YTUQECDNJQCQAE-VQHVLOKHSA-N\",\"YTUQECDNJQCQAE-VQHVLOKHSA-N\",...,\"CZGUSIXMZVURDU-JZXHSEFVSA-N\",\"CZGUSIXMZVURDU-JZXHSEFVSA-N\",\"CZGUSIXMZVURDU-JZXHSEFVSA-N\",\"CZGUSIXMZVURDU-JZXHSEFVSA-N\",\"CZGUSIXMZVURDU-JZXHSEFVSA-N\"],[\"CZGUSIXMZVURDU-JZXHSEFVSA-N\",\"CZGUSIXMZVURDU-JZXHSEFVSA-N\",\"CZGUSIXMZVURDU-JZXHSEFVSA-N\",\"CZGUSIXMZVURDU-JZXHSEFVSA-N\",\"CZGUSIXMZVURDU-JZXHSEFVSA-N\",...,\"RQOUFSQZCQYRKK-UHFFFAOYSA-N\",\"RQOUFSQZCQYRKK-UHFFFAOYSA-N\",\"RQOUFSQZCQYRKK-UHFFFAOYSA-N\",\"RQOUFSQZCQYRKK-UHFFFAOYSA-N\",\"RQOUFSQZCQYRKK-UHFFFAOYSA-N\"]]\n",
       " inchi_key_orig: [[\"UAEJHGCEFAFLIJ-UHFFFAOYSA-N\",\"UAEJHGCEFAFLIJ-UHFFFAOYSA-N\",\"SYKSUKDZLCWNCF-KAMYIIQDSA-N\",\"SYKSUKDZLCWNCF-KAMYIIQDSA-N\",\"RELAVOSJWNLNKA-UHFFFAOYSA-N\",...,\"VXMTYMSHSJNVRE-UHFFFAOYSA-N\",\"PXRHJFJRFYHVGV-UHFFFAOYSA-N\",\"PXRHJFJRFYHVGV-UHFFFAOYSA-N\",\"UREBDLICKHMUKA-DVTGEIKXSA-N\",\"UREBDLICKHMUKA-DVTGEIKXSA-N\"],[\"SPWSUFUPTSJWNG-LIMLNZRCSA-N\",\"SPWSUFUPTSJWNG-LIMLNZRCSA-N\",\"RTWVXIIKUFSDJB-UHFFFAOYSA-N\",\"RTWVXIIKUFSDJB-UHFFFAOYSA-N\",\"MHOOPNKRBMHHEC-HZIBQTDNSA-N\",...,\"YSEXMKHXIOCEJA-UHFFFAOYSA-N\",\"YSEXMKHXIOCEJA-UHFFFAOYSA-N\",\"YSEXMKHXIOCEJA-UHFFFAOYSA-N\",\"YSEXMKHXIOCEJA-UHFFFAOYSA-N\",\"YSEXMKHXIOCEJA-UHFFFAOYSA-N\"],...,[\"WPQLFRBTDZPTHH-PBUVFVDJSA-N\",\"WPQLFRBTDZPTHH-PBUVFVDJSA-N\",\"YTUQECDNJQCQAE-VQHVLOKHSA-N\",\"YTUQECDNJQCQAE-VQHVLOKHSA-N\",\"YTUQECDNJQCQAE-VQHVLOKHSA-N\",...,\"CZGUSIXMZVURDU-JZXHSEFVSA-N\",\"CZGUSIXMZVURDU-JZXHSEFVSA-N\",\"CZGUSIXMZVURDU-JZXHSEFVSA-N\",\"CZGUSIXMZVURDU-JZXHSEFVSA-N\",\"CZGUSIXMZVURDU-JZXHSEFVSA-N\"],[\"CZGUSIXMZVURDU-JZXHSEFVSA-N\",\"CZGUSIXMZVURDU-JZXHSEFVSA-N\",\"CZGUSIXMZVURDU-JZXHSEFVSA-N\",\"CZGUSIXMZVURDU-JZXHSEFVSA-N\",\"CZGUSIXMZVURDU-JZXHSEFVSA-N\",...,\"RQOUFSQZCQYRKK-UHFFFAOYSA-N\",\"RQOUFSQZCQYRKK-UHFFFAOYSA-N\",\"RQOUFSQZCQYRKK-UHFFFAOYSA-N\",\"RQOUFSQZCQYRKK-UHFFFAOYSA-N\",\"RQOUFSQZCQYRKK-UHFFFAOYSA-N\"]]]"
      ]
     },
     "execution_count": 3,
     "metadata": {},
     "output_type": "execute_result"
    }
   ],
   "source": [
    "# Load NIST Library data files\n",
    "nist_files = [\n",
    "    '~/data/nist/ei/2023/main_2023.parquet',\n",
    "    '~/data/nist/ei/2023/rep_2023.parquet',\n",
    "    '~/data/nist/ei/2023/ri_2023.parquet',\n",
    "    '~/data/nist/tandem/2023/apci_msms_2023.parquet',\n",
    "    '~/data/nist/tandem/2023/hr_msms_2023.parquet',\n",
    "    '~/data/nist/tandem/2023/lr_msms_2023.parquet'\n",
    "]\n",
    "tables = []\n",
    "for file in nist_files:\n",
    "    table = pq.read_table(file, columns=['id', 'name', 'inchi_key', 'inchi_key_orig'])\n",
    "    tables.append(table)\n",
    "tables"
   ]
  },
  {
   "cell_type": "code",
   "execution_count": 4,
   "metadata": {},
   "outputs": [],
   "source": [
    "# Get the set of INCHI Keys from the NIST Libraries\n",
    "inchi_keys = pa.concat_arrays( [ i.column(\"inchi_key\").combine_chunks() for i in tables ] )\n",
    "inchi_keys_orig = pa.concat_arrays( [ i.column(\"inchi_key_orig\").combine_chunks() for i in tables ] )\n",
    "\n",
    "# Use a filter to find which keys don't match\n",
    "#inchi_ne = (pc.not_equal(pc.field(\"inchi_key\"), pc.field(\"inchi_key_orig\")))\n",
    "#inchi_ne = (pc.field(\"inchi_key\") != pc.field(\"inchi_key_orig\"))\n",
    "#inchi_ne\n",
    "#tables[0].filter(inchi_ne).shape\n",
    "\n",
    "# Find the full set of keys\n",
    "ik_set = set(inchi_keys.unique().to_pylist())\n",
    "ik_orig_set = set(inchi_keys_orig.unique().to_pylist())\n",
    "ik_full_set = ik_set | ik_orig_set"
   ]
  },
  {
   "cell_type": "code",
   "execution_count": 5,
   "metadata": {},
   "outputs": [],
   "source": [
    "# Find the overlapping set with PubChem\n",
    "cid2inchi_full = pq.read_table('~/.masskit_cache/pubchem/cid-inchi.parquet', columns=['cid', 'inchi_key'])\n",
    "table2 = pa.table({'inchi_key': ik_full_set})\n",
    "cid2inchi = cid2inchi_full.join(table2,keys='inchi_key',join_type='inner')\n",
    "pubchem_inchi = set(cid2inchi['inchi_key'].to_pylist())"
   ]
  },
  {
   "cell_type": "code",
   "execution_count": 6,
   "metadata": {},
   "outputs": [
    {
     "data": {
      "text/plain": [
       "114772796"
      ]
     },
     "execution_count": 6,
     "metadata": {},
     "output_type": "execute_result"
    }
   ],
   "source": [
    "cid2inchi_full.num_rows"
   ]
  },
  {
   "cell_type": "code",
   "execution_count": 7,
   "metadata": {},
   "outputs": [
    {
     "data": {
      "text/plain": [
       "<matplotlib_venn._common.VennDiagram at 0x2306b447fd0>"
      ]
     },
     "execution_count": 7,
     "metadata": {},
     "output_type": "execute_result"
    },
    {
     "data": {
      "image/png": "[encoded data removed]",
      "text/plain": [
       "<Figure size 640x480 with 1 Axes>"
      ]
     },
     "metadata": {},
     "output_type": "display_data"
    }
   ],
   "source": [
    "# Show overlaps\n",
    "venn3_unweighted([ik_set,ik_orig_set, pubchem_inchi],set_labels=(\"RDKit\",\"NIST\", \"PubChem\"))"
   ]
  },
  {
   "cell_type": "code",
   "execution_count": 8,
   "metadata": {},
   "outputs": [
    {
     "data": {
      "text/plain": [
       "pyarrow.Table\n",
       "cid: int64\n",
       "inchi_key: string\n",
       "----\n",
       "cid: [[478049,478572,478577,478592,478811,...,91732524,91732525,91732526,91732527,91732528],[555320,555327,555329,555330,555332,...,165365255,165365256,165365257,165366762,166530468],...,[518275,518310,518325,518457,518459,...,168006556,168007633,163750808,163753121,163770541],[1851236,1851527,1852292,1853048,1854043,...,162986289,162986517,164845047,166444301,167563521]]\n",
       "inchi_key: [[\"KDPBLDOVCGAWNQ-UHFFFAOYSA-N\",\"INPHXCCBDRGBRF-UHFFFAOYSA-N\",\"DSZRZFCUYHAAAE-UHFFFAOYSA-N\",\"QZEAJJHJTPPDMU-UHFFFAOYSA-N\",\"UGZDFLLCOFLFNY-UHFFFAOYSA-N\",...,\"DVUCLMCSYZFBOY-UHFFFAOYSA-N\",\"FFVOYKANDKNBHJ-UHFFFAOYSA-N\",\"ZMRFLEFXODCPEW-UHFFFAOYSA-N\",\"OQNRAAXJLURWQU-UHFFFAOYSA-N\",\"WGOPIBTWJGHGDP-UHFFFAOYSA-N\"],[\"GTNJQQRPSTYDAO-UHFFFAOYSA-N\",\"VNUFFRQZHQDEQT-UHFFFAOYSA-N\",\"BFFJWVFAADWBQQ-UHFFFAOYSA-N\",\"UBHCNGACASUDAJ-UHFFFAOYSA-N\",\"ZRCGVVHTCXSHOK-UHFFFAOYSA-N\",...,\"WROCSMZNSLKYDI-INIZCTEOSA-N\",\"SHELRBQJCJWWQC-ZDUSSCGKSA-N\",\"GIUNLIQZFMBOGJ-LJQANCHMSA-N\",\"HWYCRLFVQVFKPD-AYYJDYAASA-N\",\"PCCZFHOCUANELS-QMMMGPOBSA-N\"],...,[\"LRDPQMJVRJVAOH-UHFFFAOYSA-N\",\"RCFXSBDEUTWHMQ-UHFFFAOYSA-N\",\"XXCVBOQRPQKVKY-UHFFFAOYSA-N\",\"FHJCGIUZJXWNET-UHFFFAOYSA-N\",\"AHCQADSOCBSROH-UHFFFAOYSA-N\",...,\"GRUKCSTWSXHHCN-OKHBDPHDSA-N\",\"KDXKERNSBIXSRK-YFKPBYRVSA-N\",\"LPVIDAWHPXKSLW-UHFFFAOYSA-N\",\"LRTLZGBMHJQZRD-UHFFFAOYSA-N\",\"QVMADGYORBFJMX-UHFFFAOYSA-N\"],[\"CZVXWCDURHACFA-UHFFFAOYSA-N\",\"RLLHSNUODGKJDR-UHFFFAOYSA-N\",\"DDVFKNGYLPEJFS-UHFFFAOYSA-N\",\"NRFRKRXQLASGDG-UHFFFAOYSA-N\",\"FUIVWNVEDNSISY-YVLHZVERSA-N\",...,\"GCOINOPLFIPMBI-UHFFFAOYSA-N\",\"JKXJOEQOMGTCDI-UHFFFAOYSA-N\",\"FEWXKGYJMCAACV-UHFFFAOYSA-N\",\"BAAGLJGJZZOTSA-UHFFFAOYSA-N\",\"DZABHJGAKLDFFF-UHFFFAOYSA-N\"]]"
      ]
     },
     "execution_count": 8,
     "metadata": {},
     "output_type": "execute_result"
    }
   ],
   "source": [
    "cid2inchi"
   ]
  },
  {
   "cell_type": "code",
   "execution_count": 9,
   "metadata": {},
   "outputs": [
    {
     "data": {
      "text/plain": [
       "pyarrow.Table\n",
       "cid: int64\n",
       "inchi_key: string\n",
       "pmid_count: int64\n",
       "pmid_count_distinct: int64\n",
       "----\n",
       "cid: [[702,5997,962,977,24749,...,102590315,121491808,121499159,122412734,136274666]]\n",
       "inchi_key: [[\"LFQSCWFLJHTTHZ-UHFFFAOYSA-N\",\"HVYWMOMLDIMFJA-DPAQBDIFSA-N\",\"XLYOFNOQVPJJNP-UHFFFAOYSA-N\",\"MYMOFIZGZYHOMD-UHFFFAOYSA-N\",\"GZCGUPFRVQAUEE-UHFFFAOYSA-N\",...,\"WEBOANBERJZFSE-UHFFFAOYSA-N\",\"DGQMLBSSRFFINY-LJQANCHMSA-N\",\"PEKZLFZZBGBOPJ-UHFFFAOYSA-N\",\"QDWKGEFGLQMDAM-JJIBRWJFSA-N\",\"OSQQVGKLYYRVIV-UHFFFAOYSA-N\"]]\n",
       "pmid_count: [[258046,221327,190235,179111,178556,...,1,1,2,1,1]]\n",
       "pmid_count_distinct: [[233597,193424,190208,178975,178554,...,1,1,1,1,1]]"
      ]
     },
     "execution_count": 9,
     "metadata": {},
     "output_type": "execute_result"
    }
   ],
   "source": [
    "# Find the pubmed mentions counts\n",
    "cid2pmid_full = pq.read_table('~/.masskit_cache/pubchem/cid-pmid.parquet', columns=['cid', 'pmid'])\n",
    "cid2pmid = cid2inchi.join(cid2pmid_full, keys='cid', join_type='inner')\n",
    "pmid_counts = cid2pmid.group_by(['cid', \"inchi_key\"]).aggregate([(\"pmid\", \"count\"),(\"pmid\", \"count_distinct\")]).sort_by([(\"pmid_count_distinct\",\"descending\")])\n",
    "pmid_counts"
   ]
  },
  {
   "cell_type": "code",
   "execution_count": 10,
   "metadata": {},
   "outputs": [
    {
     "name": "stdout",
     "output_type": "stream",
     "text": [
      "Working on row numbers 0 through 49,999,999\n",
      "Working on row numbers 50,000,000 through 99,999,999\n",
      "Working on row numbers 100,000,000 through 149,999,999\n",
      "Working on row numbers 150,000,000 through 199,999,999\n",
      "Working on row numbers 200,000,000 through 249,999,999\n",
      "Working on row numbers 250,000,000 through 299,999,999\n",
      "Working on row numbers 300,000,000 through 349,999,999\n",
      "Working on row numbers 350,000,000 through 399,999,999\n",
      "Working on row numbers 400,000,000 through 449,999,999\n",
      "Working on row numbers 450,000,000 through 499,999,999\n",
      "Working on row numbers 500,000,000 through 549,999,999\n",
      "Working on row numbers 550,000,000 through 599,999,999\n",
      "Working on row numbers 600,000,000 through 649,999,999\n",
      "Working on row numbers 650,000,000 through 699,999,999\n",
      "Working on row numbers 700,000,000 through 749,999,999\n",
      "Working on row numbers 750,000,000 through 799,999,999\n"
     ]
    },
    {
     "data": {
      "text/plain": [
       "pyarrow.Table\n",
       "cid: int64\n",
       "inchi_key: string\n",
       "patent_id_count: int64\n",
       "----\n",
       "cid: [[107428,453,6251,243,232,...,160502410,163912994,159184515,163378837,163890326]]\n",
       "inchi_key: [[\"BJHIKXHVCXFQLS-PYWDMBMJSA-N\",\"FBPFZTCFMRRESA-UHFFFAOYSA-N\",\"FBPFZTCFMRRESA-KVTDHHQDSA-N\",\"WPYMKLBDIGXBTP-UHFFFAOYSA-N\",\"ODKSFYDXXFIFQN-UHFFFAOYSA-N\",...,\"QRYLYPPISKTAJM-UHFFFAOYSA-N\",\"QTUOLUOIJNLFEE-UHFFFAOYSA-N\",\"KNHUNLXVPJHCNZ-UHFFFAOYSA-N\",\"WHRRUOMMNPYKAW-UHFFFAOYSA-N\",\"QAZIHQDLTJDPFV-UHFFFAOYSA-N\"]]\n",
       "patent_id_count: [[680997,638068,592031,525252,509079,...,1,1,1,1,1]]"
      ]
     },
     "execution_count": 10,
     "metadata": {},
     "output_type": "execute_result"
    }
   ],
   "source": [
    "# Find the patent count mentions\n",
    "cid2patent_full = pq.read_table('~/.masskit_cache/pubchem/cid-patent.parquet')\n",
    "\n",
    "# The Patent table is too big, so we need to join by parts\n",
    "sz = 50000000\n",
    "tables = []\n",
    "for i in range(0, cid2patent_full.num_rows, sz):\n",
    "    subtbl = cid2patent_full.slice(offset=i,length=sz)\n",
    "    jointbl = cid2inchi.join(subtbl, keys='cid', join_type='inner')\n",
    "    tables.append(jointbl)\n",
    "    print(f\"Working on row numbers {i:,d} through {i+sz-1:,d}\")\n",
    "cid2patent = pa.concat_tables(tables)\n",
    "patent_counts = cid2patent.group_by(['cid', \"inchi_key\"]).aggregate([(\"patent_id\", \"count\")]).sort_by([(\"patent_id_count\",\"descending\")])\n",
    "patent_counts"
   ]
  },
  {
   "cell_type": "code",
   "execution_count": 13,
   "metadata": {},
   "outputs": [
    {
     "data": {
      "text/plain": [
       "{'cid': [], 'pageviews': [], 'months': [], 'refs': [], 'average_pageviews': []}"
      ]
     },
     "execution_count": 13,
     "metadata": {},
     "output_type": "execute_result"
    }
   ],
   "source": [
    "counts_schema = pa.schema([\n",
    "            pa.field(\"cid\", pa.int64()),\n",
    "            pa.field(\"pageviews\", pa.int64()),\n",
    "            pa.field(\"months\", pa.int64()),\n",
    "            pa.field(\"refs\", pa.int64()),\n",
    "            pa.field(\"average_pageviews\", pa.float32())\n",
    "        ])\n",
    "counts_schema.empty_table().to_pydict()"
   ]
  },
  {
   "cell_type": "code",
   "execution_count": 19,
   "metadata": {},
   "outputs": [
    {
     "name": "stdout",
     "output_type": "stream",
     "text": [
      "Num rows: 27104\n"
     ]
    },
    {
     "data": {
      "text/plain": [
       "pyarrow.Table\n",
       "cid: int64\n",
       "pageviews: int64\n",
       "months: int64\n",
       "references: int64\n",
       "average_pageviews: float\n",
       "----\n",
       "cid: [[23987,23912,23963,23957,31192,...,2762553,32369,136194,10199167,3084179]]\n",
       "pageviews: [[7870404,796698,7116837,2050435,890333,...,88,116,121,351,163]]\n",
       "months: [[188,94,94,94,94,...,2,3,2,3,2]]\n",
       "references: [[2,1,1,1,1,...,1,1,1,1,1]]\n",
       "average_pageviews: [[41863.85,8475.511,75711.03,21813.139,9471.628,...,44,38.666668,60.5,117,81.5]]"
      ]
     },
     "execution_count": 19,
     "metadata": {},
     "output_type": "execute_result"
    }
   ],
   "source": [
    "cid2wikipedia = pq.read_table('~/.masskit_cache/pubchem/cid-wikipedia.parquet')\n",
    "print(f\"Num rows: {cid2wikipedia.num_rows}\")\n",
    "cid2wikipedia"
   ]
  },
  {
   "cell_type": "code",
   "execution_count": null,
   "metadata": {},
   "outputs": [],
   "source": []
  }
 ],
 "metadata": {
  "kernelspec": {
   "display_name": "masskit",
   "language": "python",
   "name": "python3"
  },
  "language_info": {
   "codemirror_mode": {
    "name": "ipython",
    "version": 3
   },
   "file_extension": ".py",
   "mimetype": "text/x-python",
   "name": "python",
   "nbconvert_exporter": "python",
   "pygments_lexer": "ipython3",
   "version": "3.9.16"
  },
  "orig_nbformat": 4
 },
 "nbformat": 4,
 "nbformat_minor": 2
}
