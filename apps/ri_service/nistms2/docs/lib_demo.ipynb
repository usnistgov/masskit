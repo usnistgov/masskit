{
 "cells": [
  {
   "cell_type": "code",
   "execution_count": 6,
   "metadata": {
    "scrolled": false
   },
   "outputs": [],
   "source": [
    "import pandas as pd\n",
    "%matplotlib inline\n",
    "import matplotlib\n",
    "import matplotlib.pyplot as plt\n",
    "from nist_ms.small_molecule.plotting import *\n",
    "from nist_ms.small_molecule.utils import *\n",
    "from nist_ms.spectrum.plotting import *"
   ]
  },
  {
   "cell_type": "markdown",
   "metadata": {},
   "source": [
    "# Read in pandas dataframe containing library info and show columns"
   ]
  },
  {
   "cell_type": "code",
   "execution_count": 7,
   "metadata": {
    "scrolled": false
   },
   "outputs": [
    {
     "name": "stdout",
     "output_type": "stream",
     "text": [
      "aromatic_rings             int64\n",
      "column                    object\n",
      "cross_set                  int64\n",
      "ecfp4                     object\n",
      "estimated_ri              object\n",
      "estimated_ri_error        object\n",
      "exact_mw                 float64\n",
      "experimental_ri          float64\n",
      "experimental_ri_data     float64\n",
      "experimental_ri_error    float64\n",
      "fingerprint               object\n",
      "formula                   object\n",
      "has_2d                      bool\n",
      "has_conformer               bool\n",
      "hba                        int64\n",
      "hbd                        int64\n",
      "inchi_key                 object\n",
      "isomeric_smiles           object\n",
      "max_bound                float64\n",
      "max_x                    float64\n",
      "max_y                    float64\n",
      "max_z                    float64\n",
      "min_x                    float64\n",
      "min_y                    float64\n",
      "min_z                    float64\n",
      "mol                       object\n",
      "name                      object\n",
      "num_atoms                  int64\n",
      "num_conformers             int64\n",
      "num_stereoisomers          int64\n",
      "num_undef_double           int64\n",
      "num_undef_stereo           int64\n",
      "partial_charges           object\n",
      "precursor_mz               int64\n",
      "rotatable_bonds            int64\n",
      "set                       object\n",
      "smiles                    object\n",
      "spectrum                  object\n",
      "tpsa                     float64\n",
      "has_tms                     bool\n",
      "dtype: object\n"
     ]
    }
   ],
   "source": [
    "df = pd.read_pickle(\"\\\\Users\\\\lyg\\\\data\\\\deep\\\\spectra\\\\ei\\\\newlib_2.pkl\")\n",
    "print(df.dtypes)"
   ]
  },
  {
   "cell_type": "markdown",
   "metadata": {},
   "source": [
    "# Subset the dataframe with a query and print the names of matching compounds"
   ]
  },
  {
   "cell_type": "code",
   "execution_count": 8,
   "metadata": {
    "scrolled": false
   },
   "outputs": [
    {
     "data": {
      "text/plain": [
       "id\n",
       "468167    1-(5-Deoxypentofuranosyl)-5-fluoropyrimidine-2...\n",
       "471036    Benzoic acid, 2-chloro-3,5-dinitro-, methyl ester\n",
       "472554                            3',5'-Dinitroacetophenone\n",
       "474645    5'-Amino-4-nitro-[1,1':3',1''-terphenyl]-4',6'...\n",
       "475231              2-Chloro-N-(2,4-dinitrophenyl)acetamide\n",
       "476248      4-(2-Isonicotinoylhydrazino)-4-oxobutanoic acid\n",
       "477288     Pyrimidine, 4-amino-2-(cyclohexylamino)-5-nitro-\n",
       "477356    2-(2-Hydroxyethyl)-5-nitro-1H-benzo[de]isoquin...\n",
       "477648    2-Hydrazinyl-4,6-di(morpholin-4-yl)-1,3,5-tria...\n",
       "482534                      3,5-Bis(2-nitrophenyl)isoxazole\n",
       "482548                          (2,4-Dinitrophenyl)methanol\n",
       "483037    2-(((4-Nitrophenyl)sulfonyl)prolyl)-1,2,3,4-te...\n",
       "483041    2-(((2-Nitrophenyl)sulfonyl)prolyl)-1,2,3,4-te...\n",
       "484150                                           Cyromazine\n",
       "484661                                           Dicyclanil\n",
       "485468                                 4,6-Dinitro-o-cresol\n",
       "485755                                            Fluazinam\n",
       "485826                                            Dicumarol\n",
       "486448    1-[(2-Nitrophenyl)sulfonyl]piperazine, 1Ac der...\n",
       "486451    1-[(4-Nitrophenyl)sulfonyl]piperazine, 1Ac der...\n",
       "488464                           4-Methyl-2,6-dinitrophenol\n",
       "488500                       2-Cyclohexyl-4,6-dinitrophenol\n",
       "489156    4-Amino-1-(4-methylphenyl)-6-(morpholin-4-yl)-...\n",
       "489206    5-Nitro-6-(2-oxo-2-phenylethyl)-2H-isoindole-1...\n",
       "494664    N,N'-diacetyl-N'-(furan-2-carbonyl)furan-2-car...\n",
       "496362    3-Pyridinesulfonamide, 5-(2-amino-8-fluoro[1,2...\n",
       "496412    2,6,8,12-Tetraacetyl-2,4,6,8,10,12-hexaazatetr...\n",
       "497123                 2-(Benzoylamino)-4-nitrobenzoic acid\n",
       "498871    1-(3-Nitrophenyl)-3-(4-pyridinylmethyl)pyrido[...\n",
       "498935                    6-Acetamido-9H-purin-8-yl acetate\n",
       "499070    4-Nitrophenyl (1,3-dioxo-1,3-dihydro-2H-isoind...\n",
       "499443    Succinimidyl-4-(N-maleimidomethyl)cyclohexane-...\n",
       "500830           4-Nitro-N-(8-quinolinyl)benzenesulfonamide\n",
       "501550                  Methyl 2-fluoro-3,5-dinitrobenzoate\n",
       "503114    3-Nitro-6-(trifluoromethyl)pyridine-2,4-diol, ...\n",
       "499140    N-(7-Chlorothiazolo[5,4-d]pyrimidin-2-yl)-N-(4...\n",
       "504480      4H-1,2,4-Triazole-3-sulfonamide, 2Ac derivative\n",
       "505349    1-[(7-Methyl-2,1,3-benzothiadiazol-4-yl)sulfon...\n",
       "Name: name, dtype: object"
      ]
     },
     "execution_count": 8,
     "metadata": {},
     "output_type": "execute_result"
    }
   ],
   "source": [
    "df_subset = df.query(\"100 < tpsa < 120 and rotatable_bonds==4\")\n",
    "df_subset[\"name\"]"
   ]
  },
  {
   "cell_type": "markdown",
   "metadata": {},
   "source": [
    "# Do a scatter plot of the relation between RI and rotatable bonds"
   ]
  },
  {
   "cell_type": "code",
   "execution_count": 9,
   "metadata": {
    "scrolled": false
   },
   "outputs": [
    {
     "data": {
      "text/plain": [
       "<matplotlib.collections.PathCollection at 0x1efffb91d30>"
      ]
     },
     "execution_count": 9,
     "metadata": {},
     "output_type": "execute_result"
    },
    {
     "data": {
      "image/png": "[encoded data removed]",
      "text/plain": [
       "<Figure size 720x720 with 1 Axes>"
      ]
     },
     "metadata": {
      "needs_background": "light"
     },
     "output_type": "display_data"
    }
   ],
   "source": [
    "matplotlib.rcParams['figure.figsize'] = [10, 10]\n",
    "plt.scatter(df[\"experimental_ri\"], df[\"rotatable_bonds\"])"
   ]
  },
  {
   "cell_type": "markdown",
   "metadata": {},
   "source": [
    "# Retrieve a compound from the dataframe and display the last conformer in 3D"
   ]
  },
  {
   "cell_type": "code",
   "execution_count": 10,
   "metadata": {
    "scrolled": false
   },
   "outputs": [
    {
     "data": {
      "application/3dmoljs_load.v0": "<div id=\"3dmolviewer_15693570799424028\"  style=\"position: relative; width: 400px; height: 400px\">\n        <p id=\"3dmolwarning_15693570799424028\" style=\"background-color:#ffcccc;color:black\">You appear to be running in JupyterLab (or JavaScript failed to load for some other reason).  You need to install the 3dmol extension: <br>\n        <tt>jupyter labextension install jupyterlab_3dmol</tt></p>\n        </div>\n<script>\n\nvar loadScriptAsync = function(uri){\n  return new Promise((resolve, reject) => {\n    var tag = document.createElement('script');\n    tag.src = uri;\n    tag.async = true;\n    tag.onload = () => {\n      resolve();\n    };\n  var firstScriptTag = document.getElementsByTagName('script')[0];\n  firstScriptTag.parentNode.insertBefore(tag, firstScriptTag);\n});\n};\n\nif(typeof $3Dmolpromise === 'undefined') {\n$3Dmolpromise = null;\n  $3Dmolpromise = loadScriptAsync('https://3dmol.csb.pitt.edu/build/3Dmol.js');\n}\n\nvar viewer_15693570799424028 = null;\nvar warn = document.getElementById(\"3dmolwarning_15693570799424028\");\nif(warn) {\n    warn.parentNode.removeChild(warn);\n}\n$3Dmolpromise.then(function() {\nviewer_15693570799424028 = $3Dmol.createViewer($(\"#3dmolviewer_15693570799424028\"),{backgroundColor:\"white\"});\n\tviewer_15693570799424028.removeAllModels();\n\tviewer_15693570799424028.addModel(\"\\n     RDKit          3D\\n\\n 33 34  0  0  0  0  0  0  0  0999 V2000\\n    1.4170   -0.0378   -0.6346 C   0  0  0  0  0  0  0  0  0  0  0  0\\n    2.3559    0.4756   -1.5802 C   0  0  0  0  0  0  0  0  0  0  0  0\\n    3.7125    0.3387   -1.4382 C   0  0  0  0  0  0  0  0  0  0  0  0\\n    4.2181   -0.3305   -0.3247 C   0  0  0  0  0  0  0  0  0  0  0  0\\n    3.3010   -0.8181    0.5487 C   0  0  0  0  0  0  0  0  0  0  0  0\\n    1.9994   -0.6527    0.3670 N   0  0  0  0  0  0  0  0  0  0  0  0\\n    0.0794    0.1944   -0.8122 N   0  0  0  0  0  0  0  0  0  0  0  0\\n    5.6757   -0.4007   -0.1342 C   0  0  0  0  0  0  0  0  0  0  0  0\\n    6.3246    0.4018   -1.1286 F   0  0  0  0  0  0  0  0  0  0  0  0\\n   -1.1579    0.0189   -0.1770 C   0  0  0  0  0  0  0  0  0  0  0  0\\n   -1.3522   -0.1347    1.1450 C   0  0  0  0  0  0  0  0  0  0  0  0\\n   -2.6860   -0.1082    1.6498 C   0  0  0  0  0  0  0  0  0  0  0  0\\n   -3.7820    0.0698    0.8765 C   0  0  0  0  0  0  0  0  0  0  0  0\\n   -3.6065    0.2186   -0.4475 C   0  0  0  0  0  0  0  0  0  0  0  0\\n   -2.2991    0.1978   -1.0069 C   0  0  0  0  0  0  0  0  0  0  0  0\\n   -5.1448    0.1835    1.5218 C   0  0  0  0  0  0  0  0  0  0  0  0\\n   -5.5558   -0.8997    2.2392 F   0  0  0  0  0  0  0  0  0  0  0  0\\n   -2.2133    0.2894   -2.4194 N   0  0  0  0  0  0  0  0  0  0  0  0\\n   -3.1139    1.1060   -3.1068 O   0  0  0  0  0  0  0  0  0  0  0  0\\n   -1.3832   -0.4399   -3.0436 O   0  0  0  0  0  0  0  0  0  0  0  0\\n   -0.3546   -0.3588    2.1376 N   0  0  0  0  0  0  0  0  0  0  0  0\\n   -0.1094   -1.6735    2.5757 O   0  0  0  0  0  0  0  0  0  0  0  0\\n    0.2370    0.5548    2.6938 O   0  0  0  0  0  0  0  0  0  0  0  0\\n   -2.8683   -0.3182    3.3656 Cl  0  0  0  0  0  0  0  0  0  0  0  0\\n    1.7479    1.3086   -2.9955 Cl  0  0  0  0  0  0  0  0  0  0  0  0\\n    6.1515   -1.6861   -0.2521 F   0  0  0  0  0  0  0  0  0  0  0  0\\n    6.0808    0.1399    1.0730 F   0  0  0  0  0  0  0  0  0  0  0  0\\n   -5.0927    1.3195    2.3798 F   0  0  0  0  0  0  0  0  0  0  0  0\\n   -6.0840    0.5062    0.5797 F   0  0  0  0  0  0  0  0  0  0  0  0\\n    4.4119    0.7381   -2.1707 H   0  0  0  0  0  0  0  0  0  0  0  0\\n    3.6565   -1.3558    1.4259 H   0  0  0  0  0  0  0  0  0  0  0  0\\n   -0.0976    0.7983   -1.7743 H   0  0  0  0  0  0  0  0  0  0  0  0\\n   -4.4680    0.3550   -1.1327 H   0  0  0  0  0  0  0  0  0  0  0  0\\n  1  2  2  0\\n  2  3  1  0\\n  3  4  2  0\\n  4  5  1  0\\n  5  6  2  0\\n  1  6  1  0\\n  1  7  1  0\\n  8  9  1  0\\n  4  8  1  0\\n 10 11  2  0\\n 11 12  1  0\\n 12 13  2  0\\n 13 14  1  0\\n 14 15  2  0\\n 10 15  1  0\\n 16 17  1  0\\n 13 16  1  0\\n 18 19  1  0\\n 18 20  2  0\\n 15 18  1  0\\n 21 22  1  0\\n 21 23  2  0\\n 11 21  1  0\\n 12 24  1  0\\n  7 10  1  0\\n  2 25  1  0\\n  8 26  1  0\\n  8 27  1  0\\n 16 28  1  0\\n 16 29  1  0\\n  3 30  1  0\\n  5 31  1  0\\n  7 32  1  0\\n 14 33  1  0\\nM  CHG  4  18   1  19  -1  21   1  22  -1\\nM  END\\n\",\"sdf\");\n\tviewer_15693570799424028.setStyle({\"stick\": {}});\n\tviewer_15693570799424028.setBackgroundColor(\"0xeeeeee\");\n\tviewer_15693570799424028.zoomTo();\nviewer_15693570799424028.render();\n});\n</script>",
      "text/html": [
       "<div id=\"3dmolviewer_15693570799424028\"  style=\"position: relative; width: 400px; height: 400px\">\n",
       "        <p id=\"3dmolwarning_15693570799424028\" style=\"background-color:#ffcccc;color:black\">You appear to be running in JupyterLab (or JavaScript failed to load for some other reason).  You need to install the 3dmol extension: <br>\n",
       "        <tt>jupyter labextension install jupyterlab_3dmol</tt></p>\n",
       "        </div>\n",
       "<script>\n",
       "\n",
       "var loadScriptAsync = function(uri){\n",
       "  return new Promise((resolve, reject) => {\n",
       "    var tag = document.createElement('script');\n",
       "    tag.src = uri;\n",
       "    tag.async = true;\n",
       "    tag.onload = () => {\n",
       "      resolve();\n",
       "    };\n",
       "  var firstScriptTag = document.getElementsByTagName('script')[0];\n",
       "  firstScriptTag.parentNode.insertBefore(tag, firstScriptTag);\n",
       "});\n",
       "};\n",
       "\n",
       "if(typeof $3Dmolpromise === 'undefined') {\n",
       "$3Dmolpromise = null;\n",
       "  $3Dmolpromise = loadScriptAsync('https://3dmol.csb.pitt.edu/build/3Dmol.js');\n",
       "}\n",
       "\n",
       "var viewer_15693570799424028 = null;\n",
       "var warn = document.getElementById(\"3dmolwarning_15693570799424028\");\n",
       "if(warn) {\n",
       "    warn.parentNode.removeChild(warn);\n",
       "}\n",
       "$3Dmolpromise.then(function() {\n",
       "viewer_15693570799424028 = $3Dmol.createViewer($(\"#3dmolviewer_15693570799424028\"),{backgroundColor:\"white\"});\n",
       "\tviewer_15693570799424028.removeAllModels();\n",
       "\tviewer_15693570799424028.addModel(\"\\n     RDKit          3D\\n\\n 33 34  0  0  0  0  0  0  0  0999 V2000\\n    1.4170   -0.0378   -0.6346 C   0  0  0  0  0  0  0  0  0  0  0  0\\n    2.3559    0.4756   -1.5802 C   0  0  0  0  0  0  0  0  0  0  0  0\\n    3.7125    0.3387   -1.4382 C   0  0  0  0  0  0  0  0  0  0  0  0\\n    4.2181   -0.3305   -0.3247 C   0  0  0  0  0  0  0  0  0  0  0  0\\n    3.3010   -0.8181    0.5487 C   0  0  0  0  0  0  0  0  0  0  0  0\\n    1.9994   -0.6527    0.3670 N   0  0  0  0  0  0  0  0  0  0  0  0\\n    0.0794    0.1944   -0.8122 N   0  0  0  0  0  0  0  0  0  0  0  0\\n    5.6757   -0.4007   -0.1342 C   0  0  0  0  0  0  0  0  0  0  0  0\\n    6.3246    0.4018   -1.1286 F   0  0  0  0  0  0  0  0  0  0  0  0\\n   -1.1579    0.0189   -0.1770 C   0  0  0  0  0  0  0  0  0  0  0  0\\n   -1.3522   -0.1347    1.1450 C   0  0  0  0  0  0  0  0  0  0  0  0\\n   -2.6860   -0.1082    1.6498 C   0  0  0  0  0  0  0  0  0  0  0  0\\n   -3.7820    0.0698    0.8765 C   0  0  0  0  0  0  0  0  0  0  0  0\\n   -3.6065    0.2186   -0.4475 C   0  0  0  0  0  0  0  0  0  0  0  0\\n   -2.2991    0.1978   -1.0069 C   0  0  0  0  0  0  0  0  0  0  0  0\\n   -5.1448    0.1835    1.5218 C   0  0  0  0  0  0  0  0  0  0  0  0\\n   -5.5558   -0.8997    2.2392 F   0  0  0  0  0  0  0  0  0  0  0  0\\n   -2.2133    0.2894   -2.4194 N   0  0  0  0  0  0  0  0  0  0  0  0\\n   -3.1139    1.1060   -3.1068 O   0  0  0  0  0  0  0  0  0  0  0  0\\n   -1.3832   -0.4399   -3.0436 O   0  0  0  0  0  0  0  0  0  0  0  0\\n   -0.3546   -0.3588    2.1376 N   0  0  0  0  0  0  0  0  0  0  0  0\\n   -0.1094   -1.6735    2.5757 O   0  0  0  0  0  0  0  0  0  0  0  0\\n    0.2370    0.5548    2.6938 O   0  0  0  0  0  0  0  0  0  0  0  0\\n   -2.8683   -0.3182    3.3656 Cl  0  0  0  0  0  0  0  0  0  0  0  0\\n    1.7479    1.3086   -2.9955 Cl  0  0  0  0  0  0  0  0  0  0  0  0\\n    6.1515   -1.6861   -0.2521 F   0  0  0  0  0  0  0  0  0  0  0  0\\n    6.0808    0.1399    1.0730 F   0  0  0  0  0  0  0  0  0  0  0  0\\n   -5.0927    1.3195    2.3798 F   0  0  0  0  0  0  0  0  0  0  0  0\\n   -6.0840    0.5062    0.5797 F   0  0  0  0  0  0  0  0  0  0  0  0\\n    4.4119    0.7381   -2.1707 H   0  0  0  0  0  0  0  0  0  0  0  0\\n    3.6565   -1.3558    1.4259 H   0  0  0  0  0  0  0  0  0  0  0  0\\n   -0.0976    0.7983   -1.7743 H   0  0  0  0  0  0  0  0  0  0  0  0\\n   -4.4680    0.3550   -1.1327 H   0  0  0  0  0  0  0  0  0  0  0  0\\n  1  2  2  0\\n  2  3  1  0\\n  3  4  2  0\\n  4  5  1  0\\n  5  6  2  0\\n  1  6  1  0\\n  1  7  1  0\\n  8  9  1  0\\n  4  8  1  0\\n 10 11  2  0\\n 11 12  1  0\\n 12 13  2  0\\n 13 14  1  0\\n 14 15  2  0\\n 10 15  1  0\\n 16 17  1  0\\n 13 16  1  0\\n 18 19  1  0\\n 18 20  2  0\\n 15 18  1  0\\n 21 22  1  0\\n 21 23  2  0\\n 11 21  1  0\\n 12 24  1  0\\n  7 10  1  0\\n  2 25  1  0\\n  8 26  1  0\\n  8 27  1  0\\n 16 28  1  0\\n 16 29  1  0\\n  3 30  1  0\\n  5 31  1  0\\n  7 32  1  0\\n 14 33  1  0\\nM  CHG  4  18   1  19  -1  21   1  22  -1\\nM  END\\n\",\"sdf\");\n",
       "\tviewer_15693570799424028.setStyle({\"stick\": {}});\n",
       "\tviewer_15693570799424028.setBackgroundColor(\"0xeeeeee\");\n",
       "\tviewer_15693570799424028.zoomTo();\n",
       "viewer_15693570799424028.render();\n",
       "});\n",
       "</script>"
      ]
     },
     "metadata": {},
     "output_type": "display_data"
    }
   ],
   "source": [
    "fluazinam = df.query(\"name == 'Fluazinam'\").iloc[0]\n",
    "draw_3d(fluazinam.mol)"
   ]
  },
  {
   "cell_type": "markdown",
   "metadata": {},
   "source": [
    "# Plot the spectrum of fluazinam"
   ]
  },
  {
   "cell_type": "code",
   "execution_count": 11,
   "metadata": {
    "scrolled": false
   },
   "outputs": [
    {
     "data": {
      "image/png": "[encoded data removed]",
      "text/plain": [
       "<Figure size 720x720 with 1 Axes>"
      ]
     },
     "metadata": {
      "needs_background": "light"
     },
     "output_type": "display_data"
    }
   ],
   "source": [
    "mirror_plot(fluazinam.spectrum)"
   ]
  },
  {
   "cell_type": "markdown",
   "metadata": {},
   "source": [
    "# Read in dataframes that contain the elemental composition of the dataframe records and the spectral peaks"
   ]
  },
  {
   "cell_type": "code",
   "execution_count": 12,
   "metadata": {
    "scrolled": true
   },
   "outputs": [
    {
     "ename": "FileNotFoundError",
     "evalue": "[Errno 2] No such file or directory: 'nist_utils2/newlib_2.mzs.pkl'",
     "output_type": "error",
     "traceback": [
      "\u001b[1;31m---------------------------------------------------------------------------\u001b[0m",
      "\u001b[1;31mFileNotFoundError\u001b[0m                         Traceback (most recent call last)",
      "\u001b[1;32m~\\AppData\\Local\\Continuum\\anaconda3\\envs\\tfx\\lib\\site-packages\\pandas\\io\\pickle.py\u001b[0m in \u001b[0;36mtry_read\u001b[1;34m(path, encoding)\u001b[0m\n\u001b[0;32m    165\u001b[0m                 \u001b[0mwarnings\u001b[0m\u001b[1;33m.\u001b[0m\u001b[0msimplefilter\u001b[0m\u001b[1;33m(\u001b[0m\u001b[1;34m\"ignore\"\u001b[0m\u001b[1;33m,\u001b[0m \u001b[0mWarning\u001b[0m\u001b[1;33m)\u001b[0m\u001b[1;33m\u001b[0m\u001b[1;33m\u001b[0m\u001b[0m\n\u001b[1;32m--> 166\u001b[1;33m                 \u001b[1;32mreturn\u001b[0m \u001b[0mread_wrapper\u001b[0m\u001b[1;33m(\u001b[0m\u001b[1;32mlambda\u001b[0m \u001b[0mf\u001b[0m\u001b[1;33m:\u001b[0m \u001b[0mpkl\u001b[0m\u001b[1;33m.\u001b[0m\u001b[0mload\u001b[0m\u001b[1;33m(\u001b[0m\u001b[0mf\u001b[0m\u001b[1;33m)\u001b[0m\u001b[1;33m)\u001b[0m\u001b[1;33m\u001b[0m\u001b[1;33m\u001b[0m\u001b[0m\n\u001b[0m\u001b[0;32m    167\u001b[0m         \u001b[1;32mexcept\u001b[0m \u001b[0mException\u001b[0m\u001b[1;33m:\u001b[0m  \u001b[1;31m# noqa: E722\u001b[0m\u001b[1;33m\u001b[0m\u001b[1;33m\u001b[0m\u001b[0m\n",
      "\u001b[1;32m~\\AppData\\Local\\Continuum\\anaconda3\\envs\\tfx\\lib\\site-packages\\pandas\\io\\pickle.py\u001b[0m in \u001b[0;36mread_wrapper\u001b[1;34m(func)\u001b[0m\n\u001b[0;32m    145\u001b[0m                             \u001b[0mcompression\u001b[0m\u001b[1;33m=\u001b[0m\u001b[0mcompression\u001b[0m\u001b[1;33m,\u001b[0m\u001b[1;33m\u001b[0m\u001b[1;33m\u001b[0m\u001b[0m\n\u001b[1;32m--> 146\u001b[1;33m                             is_text=False)\n\u001b[0m\u001b[0;32m    147\u001b[0m         \u001b[1;32mtry\u001b[0m\u001b[1;33m:\u001b[0m\u001b[1;33m\u001b[0m\u001b[1;33m\u001b[0m\u001b[0m\n",
      "\u001b[1;32m~\\AppData\\Local\\Continuum\\anaconda3\\envs\\tfx\\lib\\site-packages\\pandas\\io\\common.py\u001b[0m in \u001b[0;36m_get_handle\u001b[1;34m(path_or_buf, mode, encoding, compression, memory_map, is_text)\u001b[0m\n\u001b[0;32m    429\u001b[0m             \u001b[1;31m# Python 3 and binary mode\u001b[0m\u001b[1;33m\u001b[0m\u001b[1;33m\u001b[0m\u001b[1;33m\u001b[0m\u001b[0m\n\u001b[1;32m--> 430\u001b[1;33m             \u001b[0mf\u001b[0m \u001b[1;33m=\u001b[0m \u001b[0mopen\u001b[0m\u001b[1;33m(\u001b[0m\u001b[0mpath_or_buf\u001b[0m\u001b[1;33m,\u001b[0m \u001b[0mmode\u001b[0m\u001b[1;33m)\u001b[0m\u001b[1;33m\u001b[0m\u001b[1;33m\u001b[0m\u001b[0m\n\u001b[0m\u001b[0;32m    431\u001b[0m         \u001b[0mhandles\u001b[0m\u001b[1;33m.\u001b[0m\u001b[0mappend\u001b[0m\u001b[1;33m(\u001b[0m\u001b[0mf\u001b[0m\u001b[1;33m)\u001b[0m\u001b[1;33m\u001b[0m\u001b[1;33m\u001b[0m\u001b[0m\n",
      "\u001b[1;31mFileNotFoundError\u001b[0m: [Errno 2] No such file or directory: 'nist_utils2/newlib_2.mzs.pkl'",
      "\nDuring handling of the above exception, another exception occurred:\n",
      "\u001b[1;31mFileNotFoundError\u001b[0m                         Traceback (most recent call last)",
      "\u001b[1;32m~\\AppData\\Local\\Continuum\\anaconda3\\envs\\tfx\\lib\\site-packages\\pandas\\io\\pickle.py\u001b[0m in \u001b[0;36mtry_read\u001b[1;34m(path, encoding)\u001b[0m\n\u001b[0;32m    172\u001b[0m                 return read_wrapper(\n\u001b[1;32m--> 173\u001b[1;33m                     lambda f: pc.load(f, encoding=encoding, compat=False))\n\u001b[0m\u001b[0;32m    174\u001b[0m             \u001b[1;31m# compat pickle\u001b[0m\u001b[1;33m\u001b[0m\u001b[1;33m\u001b[0m\u001b[1;33m\u001b[0m\u001b[0m\n",
      "\u001b[1;32m~\\AppData\\Local\\Continuum\\anaconda3\\envs\\tfx\\lib\\site-packages\\pandas\\io\\pickle.py\u001b[0m in \u001b[0;36mread_wrapper\u001b[1;34m(func)\u001b[0m\n\u001b[0;32m    145\u001b[0m                             \u001b[0mcompression\u001b[0m\u001b[1;33m=\u001b[0m\u001b[0mcompression\u001b[0m\u001b[1;33m,\u001b[0m\u001b[1;33m\u001b[0m\u001b[1;33m\u001b[0m\u001b[0m\n\u001b[1;32m--> 146\u001b[1;33m                             is_text=False)\n\u001b[0m\u001b[0;32m    147\u001b[0m         \u001b[1;32mtry\u001b[0m\u001b[1;33m:\u001b[0m\u001b[1;33m\u001b[0m\u001b[1;33m\u001b[0m\u001b[0m\n",
      "\u001b[1;32m~\\AppData\\Local\\Continuum\\anaconda3\\envs\\tfx\\lib\\site-packages\\pandas\\io\\common.py\u001b[0m in \u001b[0;36m_get_handle\u001b[1;34m(path_or_buf, mode, encoding, compression, memory_map, is_text)\u001b[0m\n\u001b[0;32m    429\u001b[0m             \u001b[1;31m# Python 3 and binary mode\u001b[0m\u001b[1;33m\u001b[0m\u001b[1;33m\u001b[0m\u001b[1;33m\u001b[0m\u001b[0m\n\u001b[1;32m--> 430\u001b[1;33m             \u001b[0mf\u001b[0m \u001b[1;33m=\u001b[0m \u001b[0mopen\u001b[0m\u001b[1;33m(\u001b[0m\u001b[0mpath_or_buf\u001b[0m\u001b[1;33m,\u001b[0m \u001b[0mmode\u001b[0m\u001b[1;33m)\u001b[0m\u001b[1;33m\u001b[0m\u001b[1;33m\u001b[0m\u001b[0m\n\u001b[0m\u001b[0;32m    431\u001b[0m         \u001b[0mhandles\u001b[0m\u001b[1;33m.\u001b[0m\u001b[0mappend\u001b[0m\u001b[1;33m(\u001b[0m\u001b[0mf\u001b[0m\u001b[1;33m)\u001b[0m\u001b[1;33m\u001b[0m\u001b[1;33m\u001b[0m\u001b[0m\n",
      "\u001b[1;31mFileNotFoundError\u001b[0m: [Errno 2] No such file or directory: 'nist_utils2/newlib_2.mzs.pkl'",
      "\nDuring handling of the above exception, another exception occurred:\n",
      "\u001b[1;31mFileNotFoundError\u001b[0m                         Traceback (most recent call last)",
      "\u001b[1;32m~\\AppData\\Local\\Continuum\\anaconda3\\envs\\tfx\\lib\\site-packages\\pandas\\io\\pickle.py\u001b[0m in \u001b[0;36mread_pickle\u001b[1;34m(path, compression)\u001b[0m\n\u001b[0;32m    178\u001b[0m     \u001b[1;32mtry\u001b[0m\u001b[1;33m:\u001b[0m\u001b[1;33m\u001b[0m\u001b[1;33m\u001b[0m\u001b[0m\n\u001b[1;32m--> 179\u001b[1;33m         \u001b[1;32mreturn\u001b[0m \u001b[0mtry_read\u001b[0m\u001b[1;33m(\u001b[0m\u001b[0mpath\u001b[0m\u001b[1;33m)\u001b[0m\u001b[1;33m\u001b[0m\u001b[1;33m\u001b[0m\u001b[0m\n\u001b[0m\u001b[0;32m    180\u001b[0m     \u001b[1;32mexcept\u001b[0m \u001b[0mException\u001b[0m\u001b[1;33m:\u001b[0m  \u001b[1;31m# noqa: E722\u001b[0m\u001b[1;33m\u001b[0m\u001b[1;33m\u001b[0m\u001b[0m\n",
      "\u001b[1;32m~\\AppData\\Local\\Continuum\\anaconda3\\envs\\tfx\\lib\\site-packages\\pandas\\io\\pickle.py\u001b[0m in \u001b[0;36mtry_read\u001b[1;34m(path, encoding)\u001b[0m\n\u001b[0;32m    176\u001b[0m                 return read_wrapper(\n\u001b[1;32m--> 177\u001b[1;33m                     lambda f: pc.load(f, encoding=encoding, compat=True))\n\u001b[0m\u001b[0;32m    178\u001b[0m     \u001b[1;32mtry\u001b[0m\u001b[1;33m:\u001b[0m\u001b[1;33m\u001b[0m\u001b[1;33m\u001b[0m\u001b[0m\n",
      "\u001b[1;32m~\\AppData\\Local\\Continuum\\anaconda3\\envs\\tfx\\lib\\site-packages\\pandas\\io\\pickle.py\u001b[0m in \u001b[0;36mread_wrapper\u001b[1;34m(func)\u001b[0m\n\u001b[0;32m    145\u001b[0m                             \u001b[0mcompression\u001b[0m\u001b[1;33m=\u001b[0m\u001b[0mcompression\u001b[0m\u001b[1;33m,\u001b[0m\u001b[1;33m\u001b[0m\u001b[1;33m\u001b[0m\u001b[0m\n\u001b[1;32m--> 146\u001b[1;33m                             is_text=False)\n\u001b[0m\u001b[0;32m    147\u001b[0m         \u001b[1;32mtry\u001b[0m\u001b[1;33m:\u001b[0m\u001b[1;33m\u001b[0m\u001b[1;33m\u001b[0m\u001b[0m\n",
      "\u001b[1;32m~\\AppData\\Local\\Continuum\\anaconda3\\envs\\tfx\\lib\\site-packages\\pandas\\io\\common.py\u001b[0m in \u001b[0;36m_get_handle\u001b[1;34m(path_or_buf, mode, encoding, compression, memory_map, is_text)\u001b[0m\n\u001b[0;32m    429\u001b[0m             \u001b[1;31m# Python 3 and binary mode\u001b[0m\u001b[1;33m\u001b[0m\u001b[1;33m\u001b[0m\u001b[1;33m\u001b[0m\u001b[0m\n\u001b[1;32m--> 430\u001b[1;33m             \u001b[0mf\u001b[0m \u001b[1;33m=\u001b[0m \u001b[0mopen\u001b[0m\u001b[1;33m(\u001b[0m\u001b[0mpath_or_buf\u001b[0m\u001b[1;33m,\u001b[0m \u001b[0mmode\u001b[0m\u001b[1;33m)\u001b[0m\u001b[1;33m\u001b[0m\u001b[1;33m\u001b[0m\u001b[0m\n\u001b[0m\u001b[0;32m    431\u001b[0m         \u001b[0mhandles\u001b[0m\u001b[1;33m.\u001b[0m\u001b[0mappend\u001b[0m\u001b[1;33m(\u001b[0m\u001b[0mf\u001b[0m\u001b[1;33m)\u001b[0m\u001b[1;33m\u001b[0m\u001b[1;33m\u001b[0m\u001b[0m\n",
      "\u001b[1;31mFileNotFoundError\u001b[0m: [Errno 2] No such file or directory: 'nist_utils2/newlib_2.mzs.pkl'",
      "\nDuring handling of the above exception, another exception occurred:\n",
      "\u001b[1;31mFileNotFoundError\u001b[0m                         Traceback (most recent call last)",
      "\u001b[1;32m~\\AppData\\Local\\Continuum\\anaconda3\\envs\\tfx\\lib\\site-packages\\pandas\\io\\pickle.py\u001b[0m in \u001b[0;36mtry_read\u001b[1;34m(path, encoding)\u001b[0m\n\u001b[0;32m    165\u001b[0m                 \u001b[0mwarnings\u001b[0m\u001b[1;33m.\u001b[0m\u001b[0msimplefilter\u001b[0m\u001b[1;33m(\u001b[0m\u001b[1;34m\"ignore\"\u001b[0m\u001b[1;33m,\u001b[0m \u001b[0mWarning\u001b[0m\u001b[1;33m)\u001b[0m\u001b[1;33m\u001b[0m\u001b[1;33m\u001b[0m\u001b[0m\n\u001b[1;32m--> 166\u001b[1;33m                 \u001b[1;32mreturn\u001b[0m \u001b[0mread_wrapper\u001b[0m\u001b[1;33m(\u001b[0m\u001b[1;32mlambda\u001b[0m \u001b[0mf\u001b[0m\u001b[1;33m:\u001b[0m \u001b[0mpkl\u001b[0m\u001b[1;33m.\u001b[0m\u001b[0mload\u001b[0m\u001b[1;33m(\u001b[0m\u001b[0mf\u001b[0m\u001b[1;33m)\u001b[0m\u001b[1;33m)\u001b[0m\u001b[1;33m\u001b[0m\u001b[1;33m\u001b[0m\u001b[0m\n\u001b[0m\u001b[0;32m    167\u001b[0m         \u001b[1;32mexcept\u001b[0m \u001b[0mException\u001b[0m\u001b[1;33m:\u001b[0m  \u001b[1;31m# noqa: E722\u001b[0m\u001b[1;33m\u001b[0m\u001b[1;33m\u001b[0m\u001b[0m\n",
      "\u001b[1;32m~\\AppData\\Local\\Continuum\\anaconda3\\envs\\tfx\\lib\\site-packages\\pandas\\io\\pickle.py\u001b[0m in \u001b[0;36mread_wrapper\u001b[1;34m(func)\u001b[0m\n\u001b[0;32m    145\u001b[0m                             \u001b[0mcompression\u001b[0m\u001b[1;33m=\u001b[0m\u001b[0mcompression\u001b[0m\u001b[1;33m,\u001b[0m\u001b[1;33m\u001b[0m\u001b[1;33m\u001b[0m\u001b[0m\n\u001b[1;32m--> 146\u001b[1;33m                             is_text=False)\n\u001b[0m\u001b[0;32m    147\u001b[0m         \u001b[1;32mtry\u001b[0m\u001b[1;33m:\u001b[0m\u001b[1;33m\u001b[0m\u001b[1;33m\u001b[0m\u001b[0m\n",
      "\u001b[1;32m~\\AppData\\Local\\Continuum\\anaconda3\\envs\\tfx\\lib\\site-packages\\pandas\\io\\common.py\u001b[0m in \u001b[0;36m_get_handle\u001b[1;34m(path_or_buf, mode, encoding, compression, memory_map, is_text)\u001b[0m\n\u001b[0;32m    429\u001b[0m             \u001b[1;31m# Python 3 and binary mode\u001b[0m\u001b[1;33m\u001b[0m\u001b[1;33m\u001b[0m\u001b[1;33m\u001b[0m\u001b[0m\n\u001b[1;32m--> 430\u001b[1;33m             \u001b[0mf\u001b[0m \u001b[1;33m=\u001b[0m \u001b[0mopen\u001b[0m\u001b[1;33m(\u001b[0m\u001b[0mpath_or_buf\u001b[0m\u001b[1;33m,\u001b[0m \u001b[0mmode\u001b[0m\u001b[1;33m)\u001b[0m\u001b[1;33m\u001b[0m\u001b[1;33m\u001b[0m\u001b[0m\n\u001b[0m\u001b[0;32m    431\u001b[0m         \u001b[0mhandles\u001b[0m\u001b[1;33m.\u001b[0m\u001b[0mappend\u001b[0m\u001b[1;33m(\u001b[0m\u001b[0mf\u001b[0m\u001b[1;33m)\u001b[0m\u001b[1;33m\u001b[0m\u001b[1;33m\u001b[0m\u001b[0m\n",
      "\u001b[1;31mFileNotFoundError\u001b[0m: [Errno 2] No such file or directory: 'nist_utils2/newlib_2.mzs.pkl'",
      "\nDuring handling of the above exception, another exception occurred:\n",
      "\u001b[1;31mFileNotFoundError\u001b[0m                         Traceback (most recent call last)",
      "\u001b[1;32m~\\AppData\\Local\\Continuum\\anaconda3\\envs\\tfx\\lib\\site-packages\\pandas\\io\\pickle.py\u001b[0m in \u001b[0;36mtry_read\u001b[1;34m(path, encoding)\u001b[0m\n\u001b[0;32m    172\u001b[0m                 return read_wrapper(\n\u001b[1;32m--> 173\u001b[1;33m                     lambda f: pc.load(f, encoding=encoding, compat=False))\n\u001b[0m\u001b[0;32m    174\u001b[0m             \u001b[1;31m# compat pickle\u001b[0m\u001b[1;33m\u001b[0m\u001b[1;33m\u001b[0m\u001b[1;33m\u001b[0m\u001b[0m\n",
      "\u001b[1;32m~\\AppData\\Local\\Continuum\\anaconda3\\envs\\tfx\\lib\\site-packages\\pandas\\io\\pickle.py\u001b[0m in \u001b[0;36mread_wrapper\u001b[1;34m(func)\u001b[0m\n\u001b[0;32m    145\u001b[0m                             \u001b[0mcompression\u001b[0m\u001b[1;33m=\u001b[0m\u001b[0mcompression\u001b[0m\u001b[1;33m,\u001b[0m\u001b[1;33m\u001b[0m\u001b[1;33m\u001b[0m\u001b[0m\n\u001b[1;32m--> 146\u001b[1;33m                             is_text=False)\n\u001b[0m\u001b[0;32m    147\u001b[0m         \u001b[1;32mtry\u001b[0m\u001b[1;33m:\u001b[0m\u001b[1;33m\u001b[0m\u001b[1;33m\u001b[0m\u001b[0m\n",
      "\u001b[1;32m~\\AppData\\Local\\Continuum\\anaconda3\\envs\\tfx\\lib\\site-packages\\pandas\\io\\common.py\u001b[0m in \u001b[0;36m_get_handle\u001b[1;34m(path_or_buf, mode, encoding, compression, memory_map, is_text)\u001b[0m\n\u001b[0;32m    429\u001b[0m             \u001b[1;31m# Python 3 and binary mode\u001b[0m\u001b[1;33m\u001b[0m\u001b[1;33m\u001b[0m\u001b[1;33m\u001b[0m\u001b[0m\n\u001b[1;32m--> 430\u001b[1;33m             \u001b[0mf\u001b[0m \u001b[1;33m=\u001b[0m \u001b[0mopen\u001b[0m\u001b[1;33m(\u001b[0m\u001b[0mpath_or_buf\u001b[0m\u001b[1;33m,\u001b[0m \u001b[0mmode\u001b[0m\u001b[1;33m)\u001b[0m\u001b[1;33m\u001b[0m\u001b[1;33m\u001b[0m\u001b[0m\n\u001b[0m\u001b[0;32m    431\u001b[0m         \u001b[0mhandles\u001b[0m\u001b[1;33m.\u001b[0m\u001b[0mappend\u001b[0m\u001b[1;33m(\u001b[0m\u001b[0mf\u001b[0m\u001b[1;33m)\u001b[0m\u001b[1;33m\u001b[0m\u001b[1;33m\u001b[0m\u001b[0m\n",
      "\u001b[1;31mFileNotFoundError\u001b[0m: [Errno 2] No such file or directory: 'nist_utils2/newlib_2.mzs.pkl'",
      "\nDuring handling of the above exception, another exception occurred:\n",
      "\u001b[1;31mFileNotFoundError\u001b[0m                         Traceback (most recent call last)",
      "\u001b[1;32m<ipython-input-12-38b4749e2f70>\u001b[0m in \u001b[0;36m<module>\u001b[1;34m\u001b[0m\n\u001b[1;32m----> 1\u001b[1;33m \u001b[0mmzs\u001b[0m \u001b[1;33m=\u001b[0m \u001b[0mpd\u001b[0m\u001b[1;33m.\u001b[0m\u001b[0mread_pickle\u001b[0m\u001b[1;33m(\u001b[0m\u001b[1;34m\"nist_utils2/newlib_2.mzs.pkl\"\u001b[0m\u001b[1;33m)\u001b[0m\u001b[1;33m\u001b[0m\u001b[1;33m\u001b[0m\u001b[0m\n\u001b[0m\u001b[0;32m      2\u001b[0m \u001b[0melements\u001b[0m \u001b[1;33m=\u001b[0m \u001b[0mpd\u001b[0m\u001b[1;33m.\u001b[0m\u001b[0mread_pickle\u001b[0m\u001b[1;33m(\u001b[0m\u001b[1;34m\"nist_utils2/newlib_2.elements.pkl\"\u001b[0m\u001b[1;33m)\u001b[0m\u001b[1;33m\u001b[0m\u001b[1;33m\u001b[0m\u001b[0m\n",
      "\u001b[1;32m~\\AppData\\Local\\Continuum\\anaconda3\\envs\\tfx\\lib\\site-packages\\pandas\\io\\pickle.py\u001b[0m in \u001b[0;36mread_pickle\u001b[1;34m(path, compression)\u001b[0m\n\u001b[0;32m    180\u001b[0m     \u001b[1;32mexcept\u001b[0m \u001b[0mException\u001b[0m\u001b[1;33m:\u001b[0m  \u001b[1;31m# noqa: E722\u001b[0m\u001b[1;33m\u001b[0m\u001b[1;33m\u001b[0m\u001b[0m\n\u001b[0;32m    181\u001b[0m         \u001b[1;32mif\u001b[0m \u001b[0mPY3\u001b[0m\u001b[1;33m:\u001b[0m\u001b[1;33m\u001b[0m\u001b[1;33m\u001b[0m\u001b[0m\n\u001b[1;32m--> 182\u001b[1;33m             \u001b[1;32mreturn\u001b[0m \u001b[0mtry_read\u001b[0m\u001b[1;33m(\u001b[0m\u001b[0mpath\u001b[0m\u001b[1;33m,\u001b[0m \u001b[0mencoding\u001b[0m\u001b[1;33m=\u001b[0m\u001b[1;34m'latin1'\u001b[0m\u001b[1;33m)\u001b[0m\u001b[1;33m\u001b[0m\u001b[1;33m\u001b[0m\u001b[0m\n\u001b[0m\u001b[0;32m    183\u001b[0m         \u001b[1;32mraise\u001b[0m\u001b[1;33m\u001b[0m\u001b[1;33m\u001b[0m\u001b[0m\n\u001b[0;32m    184\u001b[0m \u001b[1;33m\u001b[0m\u001b[0m\n",
      "\u001b[1;32m~\\AppData\\Local\\Continuum\\anaconda3\\envs\\tfx\\lib\\site-packages\\pandas\\io\\pickle.py\u001b[0m in \u001b[0;36mtry_read\u001b[1;34m(path, encoding)\u001b[0m\n\u001b[0;32m    175\u001b[0m             \u001b[1;32mexcept\u001b[0m \u001b[0mException\u001b[0m\u001b[1;33m:\u001b[0m  \u001b[1;31m# noqa: E722\u001b[0m\u001b[1;33m\u001b[0m\u001b[1;33m\u001b[0m\u001b[0m\n\u001b[0;32m    176\u001b[0m                 return read_wrapper(\n\u001b[1;32m--> 177\u001b[1;33m                     lambda f: pc.load(f, encoding=encoding, compat=True))\n\u001b[0m\u001b[0;32m    178\u001b[0m     \u001b[1;32mtry\u001b[0m\u001b[1;33m:\u001b[0m\u001b[1;33m\u001b[0m\u001b[1;33m\u001b[0m\u001b[0m\n\u001b[0;32m    179\u001b[0m         \u001b[1;32mreturn\u001b[0m \u001b[0mtry_read\u001b[0m\u001b[1;33m(\u001b[0m\u001b[0mpath\u001b[0m\u001b[1;33m)\u001b[0m\u001b[1;33m\u001b[0m\u001b[1;33m\u001b[0m\u001b[0m\n",
      "\u001b[1;32m~\\AppData\\Local\\Continuum\\anaconda3\\envs\\tfx\\lib\\site-packages\\pandas\\io\\pickle.py\u001b[0m in \u001b[0;36mread_wrapper\u001b[1;34m(func)\u001b[0m\n\u001b[0;32m    144\u001b[0m         f, fh = _get_handle(path, 'rb',\n\u001b[0;32m    145\u001b[0m                             \u001b[0mcompression\u001b[0m\u001b[1;33m=\u001b[0m\u001b[0mcompression\u001b[0m\u001b[1;33m,\u001b[0m\u001b[1;33m\u001b[0m\u001b[1;33m\u001b[0m\u001b[0m\n\u001b[1;32m--> 146\u001b[1;33m                             is_text=False)\n\u001b[0m\u001b[0;32m    147\u001b[0m         \u001b[1;32mtry\u001b[0m\u001b[1;33m:\u001b[0m\u001b[1;33m\u001b[0m\u001b[1;33m\u001b[0m\u001b[0m\n\u001b[0;32m    148\u001b[0m             \u001b[1;32mreturn\u001b[0m \u001b[0mfunc\u001b[0m\u001b[1;33m(\u001b[0m\u001b[0mf\u001b[0m\u001b[1;33m)\u001b[0m\u001b[1;33m\u001b[0m\u001b[1;33m\u001b[0m\u001b[0m\n",
      "\u001b[1;32m~\\AppData\\Local\\Continuum\\anaconda3\\envs\\tfx\\lib\\site-packages\\pandas\\io\\common.py\u001b[0m in \u001b[0;36m_get_handle\u001b[1;34m(path_or_buf, mode, encoding, compression, memory_map, is_text)\u001b[0m\n\u001b[0;32m    428\u001b[0m         \u001b[1;32melse\u001b[0m\u001b[1;33m:\u001b[0m\u001b[1;33m\u001b[0m\u001b[1;33m\u001b[0m\u001b[0m\n\u001b[0;32m    429\u001b[0m             \u001b[1;31m# Python 3 and binary mode\u001b[0m\u001b[1;33m\u001b[0m\u001b[1;33m\u001b[0m\u001b[1;33m\u001b[0m\u001b[0m\n\u001b[1;32m--> 430\u001b[1;33m             \u001b[0mf\u001b[0m \u001b[1;33m=\u001b[0m \u001b[0mopen\u001b[0m\u001b[1;33m(\u001b[0m\u001b[0mpath_or_buf\u001b[0m\u001b[1;33m,\u001b[0m \u001b[0mmode\u001b[0m\u001b[1;33m)\u001b[0m\u001b[1;33m\u001b[0m\u001b[1;33m\u001b[0m\u001b[0m\n\u001b[0m\u001b[0;32m    431\u001b[0m         \u001b[0mhandles\u001b[0m\u001b[1;33m.\u001b[0m\u001b[0mappend\u001b[0m\u001b[1;33m(\u001b[0m\u001b[0mf\u001b[0m\u001b[1;33m)\u001b[0m\u001b[1;33m\u001b[0m\u001b[1;33m\u001b[0m\u001b[0m\n\u001b[0;32m    432\u001b[0m \u001b[1;33m\u001b[0m\u001b[0m\n",
      "\u001b[1;31mFileNotFoundError\u001b[0m: [Errno 2] No such file or directory: 'nist_utils2/newlib_2.mzs.pkl'"
     ]
    }
   ],
   "source": [
    "mzs = pd.read_pickle(\"nist_utils2/newlib_2.mzs.pkl\")\n",
    "elements = pd.read_pickle(\"nist_utils2/newlib_2.elements.pkl\")"
   ]
  },
  {
   "cell_type": "markdown",
   "metadata": {},
   "source": [
    "# Use the element dataframe to retrieve compounds with selenium in them"
   ]
  },
  {
   "cell_type": "code",
   "execution_count": null,
   "metadata": {
    "scrolled": true
   },
   "outputs": [],
   "source": [
    "df.join(elements.query(\"atomic_num == 34\"), how='inner').name\n"
   ]
  },
  {
   "cell_type": "markdown",
   "metadata": {},
   "source": [
    "# Use the mz dataframe to pick all compounds that have particular peaks"
   ]
  },
  {
   "cell_type": "code",
   "execution_count": null,
   "metadata": {
    "scrolled": true
   },
   "outputs": [],
   "source": [
    "df.join(mzs.query(\"mz == 563\").join(mzs.query(\"mz == 741\"), how='inner', lsuffix=\"_left2\", rsuffix=\"_right2\"), how='inner', lsuffix=\"_left\", rsuffix=\"_right\").name"
   ]
  },
  {
   "cell_type": "markdown",
   "metadata": {},
   "source": [
    "# Explore the spectrum object"
   ]
  },
  {
   "cell_type": "code",
   "execution_count": 14,
   "metadata": {
    "scrolled": true
   },
   "outputs": [
    {
     "name": "stdout",
     "output_type": "stream",
     "text": [
      "Fluazinam\n",
      "{'RETENTION INDEX': 's=2049.1', 'STATUS': 'Accept | 2018-03-19-21:28:56 | James Little | ok', 'COMPOUND_HASH': 'XVQMHBZWTBDHMT-UHFFFAOYNA-N-0-C0079622596', 'EXACT MASS': '463.95138', 'CASNO': '79622596', 'ID': '17756', 'COMMENT': 'AMDIS_Name=\"Component at scan 1096 [Model = +418u]\" EvalLib=yf-2018-02-01.eval EvalLibID=125 CONTRIBUTOR=\"NIST Mass Spectrometry Data Center, 2018\"', 'RIDATA_00': '3459', 'RIDATA_01': '2049.1', 'RIDATA_02': '11.778', 'RIDATA_03': '2018-02-23 (19h 11m 18s)', 'RIDATA_04': 'GC', 'RIDATA_05': 'Front SS Inlet He', 'RIDATA_06': '20 :1', 'RIDATA_07': '270C', 'RIDATA_08': 'Ramp', 'RIDATA_09': '50C', 'RIDATA_10': '1 min', 'RIDATA_11': '15C/min', 'RIDATA_12': '300C', 'RIDATA_13': '7.333 min', 'RIDATA_15': 'Agilent CP8939', 'RIDATA_16': 'VF-5ms', 'RIDATA_17': 'SSNP', 'RIDATA_18': '15 m', 'RIDATA_19': '250 um', 'RIDATA_20': '0.25 um', 'RIDATA_21': 'He', 'RIDATA_22': '1.2 mL/min', 'RIDATA_23': '270C', 'RIDATA_24': '230 C   maximum 250 C', 'RIDATA_25': '5977B_MR', 'RIDATA_26': 'US1628N001', 'RIDATA_27': 'yufang', 'RIDATA_28': 'C:\\\\Lab_Data\\\\NewLab\\\\gcms_ZYF\\\\5977B\\\\Data\\\\2018\\\\02-22-2018\\\\3459U-F.D\\\\DATA.MS', 'RIDATA_29': '2018N/ZYF-0223', 'RIDATA_30': 'Capillary', 'RIDATA_32': 'Normal alkane RI', 'NUM PEAKS': '395', 'SASA': '571.16109914494507'}\n"
     ]
    }
   ],
   "source": [
    "print(fluazinam.spectrum.name)\n",
    "print(fluazinam.spectrum.properties)"
   ]
  },
  {
   "cell_type": "code",
   "execution_count": null,
   "metadata": {},
   "outputs": [],
   "source": [
    "print(fluazinam.spectrum.products.intensity)"
   ]
  },
  {
   "cell_type": "code",
   "execution_count": null,
   "metadata": {},
   "outputs": [],
   "source": [
    "print(fluazinam.spectrum.products.mz)"
   ]
  },
  {
   "cell_type": "markdown",
   "metadata": {},
   "source": [
    "# Do a spectral search"
   ]
  },
  {
   "cell_type": "code",
   "execution_count": null,
   "metadata": {},
   "outputs": [],
   "source": [
    "results = {}\n",
    "fluazinam.spectrum.search_spectra(df, None, results, cosine_threshold=600)\n",
    "results"
   ]
  },
  {
   "cell_type": "markdown",
   "metadata": {},
   "source": [
    "# Select one hit and do a mirror plot of the match"
   ]
  },
  {
   "cell_type": "code",
   "execution_count": null,
   "metadata": {},
   "outputs": [],
   "source": [
    "hit = next(iter(results))\n",
    "mirror_plot(df.loc[hit[0]].spectrum, df.loc[hit[1]].spectrum)"
   ]
  },
  {
   "cell_type": "markdown",
   "metadata": {},
   "source": [
    "# Do a structural similarity search and print the hits"
   ]
  },
  {
   "cell_type": "code",
   "execution_count": 19,
   "metadata": {},
   "outputs": [
    {
     "data": {
      "text/html": [
       "<div>\n",
       "<style scoped>\n",
       "    .dataframe tbody tr th:only-of-type {\n",
       "        vertical-align: middle;\n",
       "    }\n",
       "\n",
       "    .dataframe tbody tr th {\n",
       "        vertical-align: top;\n",
       "    }\n",
       "\n",
       "    .dataframe thead th {\n",
       "        text-align: right;\n",
       "    }\n",
       "</style>\n",
       "<table border=\"1\" class=\"dataframe\">\n",
       "  <thead>\n",
       "    <tr style=\"text-align: right;\">\n",
       "      <th></th>\n",
       "      <th>aromatic_rings</th>\n",
       "      <th>column</th>\n",
       "      <th>cross_set</th>\n",
       "      <th>ecfp4</th>\n",
       "      <th>estimated_ri</th>\n",
       "      <th>estimated_ri_error</th>\n",
       "      <th>exact_mw</th>\n",
       "      <th>experimental_ri</th>\n",
       "      <th>experimental_ri_data</th>\n",
       "      <th>experimental_ri_error</th>\n",
       "      <th>...</th>\n",
       "      <th>num_undef_double</th>\n",
       "      <th>num_undef_stereo</th>\n",
       "      <th>partial_charges</th>\n",
       "      <th>precursor_mz</th>\n",
       "      <th>rotatable_bonds</th>\n",
       "      <th>set</th>\n",
       "      <th>smiles</th>\n",
       "      <th>spectrum</th>\n",
       "      <th>tpsa</th>\n",
       "      <th>has_tms</th>\n",
       "    </tr>\n",
       "    <tr>\n",
       "      <th>id</th>\n",
       "      <th></th>\n",
       "      <th></th>\n",
       "      <th></th>\n",
       "      <th></th>\n",
       "      <th></th>\n",
       "      <th></th>\n",
       "      <th></th>\n",
       "      <th></th>\n",
       "      <th></th>\n",
       "      <th></th>\n",
       "      <th></th>\n",
       "      <th></th>\n",
       "      <th></th>\n",
       "      <th></th>\n",
       "      <th></th>\n",
       "      <th></th>\n",
       "      <th></th>\n",
       "      <th></th>\n",
       "      <th></th>\n",
       "      <th></th>\n",
       "      <th></th>\n",
       "    </tr>\n",
       "  </thead>\n",
       "  <tbody>\n",
       "    <tr>\n",
       "      <th>485069</th>\n",
       "      <td>2</td>\n",
       "      <td>Agilent CP8939</td>\n",
       "      <td>9</td>\n",
       "      <td>[0, 0, 0, 0, 0, 0, 0, 0, 0, 0, 0, 0, 0, 0, 0, ...</td>\n",
       "      <td>None</td>\n",
       "      <td>None</td>\n",
       "      <td>293.020333</td>\n",
       "      <td>2600.7</td>\n",
       "      <td>1.0</td>\n",
       "      <td>0.0</td>\n",
       "      <td>...</td>\n",
       "      <td>0</td>\n",
       "      <td>0</td>\n",
       "      <td>[0.133, 0.907, 0.907, -0.15, 0.1, 0.133, -0.60...</td>\n",
       "      <td>293</td>\n",
       "      <td>4</td>\n",
       "      <td>test</td>\n",
       "      <td>[H]c1c([H])c([H])c(N([H])c2c([H])c([H])c([N+](...</td>\n",
       "      <td>&lt;nist_ms.spectrum.small_molecule.NISTSpectrum ...</td>\n",
       "      <td>98.31</td>\n",
       "      <td>False</td>\n",
       "    </tr>\n",
       "    <tr>\n",
       "      <th>485755</th>\n",
       "      <td>2</td>\n",
       "      <td>Agilent CP8939</td>\n",
       "      <td>1</td>\n",
       "      <td>[0, 0, 0, 0, 0, 0, 0, 0, 0, 0, 0, 0, 0, 0, 0, ...</td>\n",
       "      <td>None</td>\n",
       "      <td>None</td>\n",
       "      <td>463.951379</td>\n",
       "      <td>2049.1</td>\n",
       "      <td>1.0</td>\n",
       "      <td>0.0</td>\n",
       "      <td>...</td>\n",
       "      <td>0</td>\n",
       "      <td>0</td>\n",
       "      <td>[0.41000000000000003, 0.177, -0.15, -0.1435, 0...</td>\n",
       "      <td>464</td>\n",
       "      <td>4</td>\n",
       "      <td>train</td>\n",
       "      <td>[H]c1nc(N([H])c2c([N+](=O)[O-])c([H])c(C(F)(F)...</td>\n",
       "      <td>&lt;nist_ms.spectrum.small_molecule.NISTSpectrum ...</td>\n",
       "      <td>111.20</td>\n",
       "      <td>False</td>\n",
       "    </tr>\n",
       "    <tr>\n",
       "      <th>493796</th>\n",
       "      <td>1</td>\n",
       "      <td>RESTEK 13623_20m</td>\n",
       "      <td>5</td>\n",
       "      <td>[0, 0, 0, 0, 0, 0, 0, 0, 0, 0, 0, 0, 0, 0, 0, ...</td>\n",
       "      <td>None</td>\n",
       "      <td>None</td>\n",
       "      <td>225.975690</td>\n",
       "      <td>1159.5</td>\n",
       "      <td>1.0</td>\n",
       "      <td>0.0</td>\n",
       "      <td>...</td>\n",
       "      <td>0</td>\n",
       "      <td>0</td>\n",
       "      <td>[-0.34, 1.1635, -0.34, -0.34, -0.1435, 0.487, ...</td>\n",
       "      <td>226</td>\n",
       "      <td>1</td>\n",
       "      <td>train</td>\n",
       "      <td>[H]c1nc(Cl)c(C(F)(F)F)c([H])c1[N+](=O)[O-]</td>\n",
       "      <td>&lt;nist_ms.spectrum.small_molecule.NISTSpectrum ...</td>\n",
       "      <td>56.03</td>\n",
       "      <td>False</td>\n",
       "    </tr>\n",
       "    <tr>\n",
       "      <th>503134</th>\n",
       "      <td>1</td>\n",
       "      <td>RESTEK 13620</td>\n",
       "      <td>1</td>\n",
       "      <td>[0, 0, 0, 0, 0, 0, 0, 0, 0, 0, 0, 0, 0, 0, 0, ...</td>\n",
       "      <td>None</td>\n",
       "      <td>None</td>\n",
       "      <td>207.025561</td>\n",
       "      <td>1298.5</td>\n",
       "      <td>1.0</td>\n",
       "      <td>0.0</td>\n",
       "      <td>...</td>\n",
       "      <td>0</td>\n",
       "      <td>0</td>\n",
       "      <td>[-0.34, 1.1635, -0.34, -0.34, 0.1665, -0.62, 0...</td>\n",
       "      <td>207</td>\n",
       "      <td>2</td>\n",
       "      <td>train</td>\n",
       "      <td>[H]c1c(C(F)(F)F)nc(N([H])[H])c([N+](=O)[O-])c1[H]</td>\n",
       "      <td>&lt;nist_ms.spectrum.small_molecule.NISTSpectrum ...</td>\n",
       "      <td>82.05</td>\n",
       "      <td>False</td>\n",
       "    </tr>\n",
       "  </tbody>\n",
       "</table>\n",
       "<p>4 rows × 40 columns</p>\n",
       "</div>"
      ],
      "text/plain": [
       "        aromatic_rings            column  cross_set  \\\n",
       "id                                                    \n",
       "485069               2    Agilent CP8939          9   \n",
       "485755               2    Agilent CP8939          1   \n",
       "493796               1  RESTEK 13623_20m          5   \n",
       "503134               1      RESTEK 13620          1   \n",
       "\n",
       "                                                    ecfp4 estimated_ri  \\\n",
       "id                                                                       \n",
       "485069  [0, 0, 0, 0, 0, 0, 0, 0, 0, 0, 0, 0, 0, 0, 0, ...         None   \n",
       "485755  [0, 0, 0, 0, 0, 0, 0, 0, 0, 0, 0, 0, 0, 0, 0, ...         None   \n",
       "493796  [0, 0, 0, 0, 0, 0, 0, 0, 0, 0, 0, 0, 0, 0, 0, ...         None   \n",
       "503134  [0, 0, 0, 0, 0, 0, 0, 0, 0, 0, 0, 0, 0, 0, 0, ...         None   \n",
       "\n",
       "       estimated_ri_error    exact_mw  experimental_ri  experimental_ri_data  \\\n",
       "id                                                                             \n",
       "485069               None  293.020333           2600.7                   1.0   \n",
       "485755               None  463.951379           2049.1                   1.0   \n",
       "493796               None  225.975690           1159.5                   1.0   \n",
       "503134               None  207.025561           1298.5                   1.0   \n",
       "\n",
       "        experimental_ri_error  ... num_undef_double num_undef_stereo  \\\n",
       "id                             ...                                     \n",
       "485069                    0.0  ...                0                0   \n",
       "485755                    0.0  ...                0                0   \n",
       "493796                    0.0  ...                0                0   \n",
       "503134                    0.0  ...                0                0   \n",
       "\n",
       "                                          partial_charges  precursor_mz  \\\n",
       "id                                                                        \n",
       "485069  [0.133, 0.907, 0.907, -0.15, 0.1, 0.133, -0.60...           293   \n",
       "485755  [0.41000000000000003, 0.177, -0.15, -0.1435, 0...           464   \n",
       "493796  [-0.34, 1.1635, -0.34, -0.34, -0.1435, 0.487, ...           226   \n",
       "503134  [-0.34, 1.1635, -0.34, -0.34, 0.1665, -0.62, 0...           207   \n",
       "\n",
       "        rotatable_bonds    set  \\\n",
       "id                               \n",
       "485069                4   test   \n",
       "485755                4  train   \n",
       "493796                1  train   \n",
       "503134                2  train   \n",
       "\n",
       "                                                   smiles  \\\n",
       "id                                                          \n",
       "485069  [H]c1c([H])c([H])c(N([H])c2c([H])c([H])c([N+](...   \n",
       "485755  [H]c1nc(N([H])c2c([N+](=O)[O-])c([H])c(C(F)(F)...   \n",
       "493796         [H]c1nc(Cl)c(C(F)(F)F)c([H])c1[N+](=O)[O-]   \n",
       "503134  [H]c1c(C(F)(F)F)nc(N([H])[H])c([N+](=O)[O-])c1[H]   \n",
       "\n",
       "                                                 spectrum    tpsa  has_tms  \n",
       "id                                                                          \n",
       "485069  <nist_ms.spectrum.small_molecule.NISTSpectrum ...   98.31    False  \n",
       "485755  <nist_ms.spectrum.small_molecule.NISTSpectrum ...  111.20    False  \n",
       "493796  <nist_ms.spectrum.small_molecule.NISTSpectrum ...   56.03    False  \n",
       "503134  <nist_ms.spectrum.small_molecule.NISTSpectrum ...   82.05    False  \n",
       "\n",
       "[4 rows x 40 columns]"
      ]
     },
     "execution_count": 19,
     "metadata": {},
     "output_type": "execute_result"
    }
   ],
   "source": [
    "hits = similarity_search(df[\"fingerprint\"], fluazinam.fingerprint, 0.81)\n",
    "df[hits]"
   ]
  },
  {
   "cell_type": "code",
   "execution_count": 15,
   "metadata": {},
   "outputs": [
    {
     "name": "stdout",
     "output_type": "stream",
     "text": [
      "aromatic_rings                                                           2\n",
      "column                                                      Agilent CP8939\n",
      "cross_set                                                                1\n",
      "ecfp4                    [0, 0, 0, 0, 0, 0, 0, 0, 0, 0, 0, 0, 0, 0, 0, ...\n",
      "estimated_ri                                                          None\n",
      "estimated_ri_error                                                    None\n",
      "exact_mw                                                           463.951\n",
      "experimental_ri                                                     2049.1\n",
      "experimental_ri_data                                                     1\n",
      "experimental_ri_error                                                    0\n",
      "fingerprint              [0, 0, 0, 0, 0, 0, 0, 0, 0, 0, 0, 0, 0, 0, 0, ...\n",
      "formula                                                     C13H4Cl2F6N4O4\n",
      "has_2d                                                                True\n",
      "has_conformer                                                         True\n",
      "hba                                                                      6\n",
      "hbd                                                                      1\n",
      "inchi_key                                      UZCGKGPEKUCDTF-UHFFFAOYSA-N\n",
      "isomeric_smiles          [H]c1nc(N([H])c2c([N+](=O)[O-])c([H])c(C(F)(F)...\n",
      "max_bound                                                           6.3246\n",
      "max_x                                                               6.3246\n",
      "max_y                                                              1.31955\n",
      "max_z                                                              3.36562\n",
      "min_x                                                             -6.08405\n",
      "min_y                                                             -1.68609\n",
      "min_z                                                             -3.10683\n",
      "mol                      <rdkit.Chem.rdchem.Mol object at 0x000001EF36C...\n",
      "name                                                             Fluazinam\n",
      "num_atoms                                                               33\n",
      "num_conformers                                                          10\n",
      "num_stereoisomers                                                        1\n",
      "num_undef_double                                                         0\n",
      "num_undef_stereo                                                         0\n",
      "partial_charges          [0.41000000000000003, 0.177, -0.15, -0.1435, 0...\n",
      "precursor_mz                                                           464\n",
      "rotatable_bonds                                                          4\n",
      "set                                                                  train\n",
      "smiles                   [H]c1nc(N([H])c2c([N+](=O)[O-])c([H])c(C(F)(F)...\n",
      "spectrum                 <nist_ms.spectrum.small_molecule.NISTSpectrum ...\n",
      "tpsa                                                                 111.2\n",
      "has_tms                                                              False\n",
      "Name: 485755, dtype: object\n"
     ]
    }
   ],
   "source": [
    "print(fluazinam)"
   ]
  },
  {
   "cell_type": "code",
   "execution_count": 21,
   "metadata": {},
   "outputs": [
    {
     "data": {
      "application/3dmoljs_load.v0": "<div id=\"3dmolviewer_15693574023904064\"  style=\"position: relative; width: 400px; height: 400px\">\n        <p id=\"3dmolwarning_15693574023904064\" style=\"background-color:#ffcccc;color:black\">You appear to be running in JupyterLab (or JavaScript failed to load for some other reason).  You need to install the 3dmol extension: <br>\n        <tt>jupyter labextension install jupyterlab_3dmol</tt></p>\n        </div>\n<script>\n\nvar loadScriptAsync = function(uri){\n  return new Promise((resolve, reject) => {\n    var tag = document.createElement('script');\n    tag.src = uri;\n    tag.async = true;\n    tag.onload = () => {\n      resolve();\n    };\n  var firstScriptTag = document.getElementsByTagName('script')[0];\n  firstScriptTag.parentNode.insertBefore(tag, firstScriptTag);\n});\n};\n\nif(typeof $3Dmolpromise === 'undefined') {\n$3Dmolpromise = null;\n  $3Dmolpromise = loadScriptAsync('https://3dmol.csb.pitt.edu/build/3Dmol.js');\n}\n\nvar viewer_15693574023904064 = null;\nvar warn = document.getElementById(\"3dmolwarning_15693574023904064\");\nif(warn) {\n    warn.parentNode.removeChild(warn);\n}\n$3Dmolpromise.then(function() {\nviewer_15693574023904064 = $3Dmol.createViewer($(\"#3dmolviewer_15693574023904064\"),{backgroundColor:\"white\"});\n\tviewer_15693574023904064.removeAllModels();\n\tviewer_15693574023904064.addModel(\"\\n     RDKit          3D\\n\\n 28 29  0  0  0  0  0  0  0  0999 V2000\\n   -1.8259   -1.1027   -0.2497 C   0  0  0  0  0  0  0  0  0  0  0  0\\n   -1.6997   -2.4998   -0.4455 N   0  0  0  0  0  0  0  0  0  0  0  0\\n   -4.5029    1.4789   -0.2789 N   0  0  0  0  0  0  0  0  0  0  0  0\\n   -3.0833   -0.5027   -0.3509 C   0  0  0  0  0  0  0  0  0  0  0  0\\n   -0.7148   -0.3218    0.0304 C   0  0  0  0  0  0  0  0  0  0  0  0\\n   -3.2317    0.8659   -0.1760 C   0  0  0  0  0  0  0  0  0  0  0  0\\n    0.5483   -0.9142    0.2523 N   0  0  0  0  0  0  0  0  0  0  0  0\\n    1.8266   -0.3358    0.1219 C   0  0  0  0  0  0  0  0  0  0  0  0\\n   -2.7549   -3.2817   -0.0397 O   0  0  0  0  0  0  0  0  0  0  0  0\\n   -5.5939    0.7080   -0.5543 O   0  0  0  0  0  0  0  0  0  0  0  0\\n   -0.7385   -3.0370   -0.9733 O   0  0  0  0  0  0  0  0  0  0  0  0\\n   -4.6192    2.6966   -0.1210 O   0  0  0  0  0  0  0  0  0  0  0  0\\n   -0.9093    1.0464    0.1992 C   0  0  0  0  0  0  0  0  0  0  0  0\\n    2.9055   -0.9931    0.7413 C   0  0  0  0  0  0  0  0  0  0  0  0\\n   -2.1377    1.6598    0.1025 C   0  0  0  0  0  0  0  0  0  0  0  0\\n    2.6259   -2.4443    1.7034 Cl  0  0  0  0  0  0  0  0  0  0  0  0\\n    2.1399    0.7856   -0.6082 C   0  0  0  0  0  0  0  0  0  0  0  0\\n    4.1812   -0.5142    0.6046 C   0  0  0  0  0  0  0  0  0  0  0  0\\n    3.4320    1.2824   -0.7537 C   0  0  0  0  0  0  0  0  0  0  0  0\\n    4.4625    0.6139   -0.1330 C   0  0  0  0  0  0  0  0  0  0  0  0\\n   -3.9618   -1.0960   -0.5671 H   0  0  0  0  0  0  0  0  0  0  0  0\\n    0.5421   -1.9196    0.5790 H   0  0  0  0  0  0  0  0  0  0  0  0\\n   -0.0849    1.7030    0.4593 H   0  0  0  0  0  0  0  0  0  0  0  0\\n   -2.2634    2.7368    0.2378 H   0  0  0  0  0  0  0  0  0  0  0  0\\n    1.3543    1.3227   -1.1503 H   0  0  0  0  0  0  0  0  0  0  0  0\\n    4.9841   -1.0709    1.1119 H   0  0  0  0  0  0  0  0  0  0  0  0\\n    3.6164    2.1771   -1.3445 H   0  0  0  0  0  0  0  0  0  0  0  0\\n    5.5029    0.9569   -0.2109 H   0  0  0  0  0  0  0  0  0  0  0  0\\n  2  1  1  0\\n  4  1  2  0\\n  5  1  1  0\\n  9  2  1  0\\n 11  2  2  0\\n  6  3  1  0\\n 10  3  1  0\\n 12  3  2  0\\n  6  4  1  0\\n  7  5  1  0\\n 13  5  2  0\\n 15  6  2  0\\n  8  7  1  0\\n 14  8  2  0\\n 17  8  1  0\\n 15 13  1  0\\n 16 14  1  0\\n 18 14  1  0\\n 19 17  2  0\\n 20 18  2  0\\n 20 19  1  0\\n  4 21  1  0\\n  7 22  1  0\\n 13 23  1  0\\n 15 24  1  0\\n 17 25  1  0\\n 18 26  1  0\\n 19 27  1  0\\n 20 28  1  0\\nM  CHG  4   2   1   3   1   9  -1  10  -1\\nM  END\\n\",\"sdf\");\n\tviewer_15693574023904064.setStyle({\"stick\": {}});\n\tviewer_15693574023904064.setBackgroundColor(\"0xeeeeee\");\n\tviewer_15693574023904064.zoomTo();\nviewer_15693574023904064.render();\n});\n</script>",
      "text/html": [
       "<div id=\"3dmolviewer_15693574023904064\"  style=\"position: relative; width: 400px; height: 400px\">\n",
       "        <p id=\"3dmolwarning_15693574023904064\" style=\"background-color:#ffcccc;color:black\">You appear to be running in JupyterLab (or JavaScript failed to load for some other reason).  You need to install the 3dmol extension: <br>\n",
       "        <tt>jupyter labextension install jupyterlab_3dmol</tt></p>\n",
       "        </div>\n",
       "<script>\n",
       "\n",
       "var loadScriptAsync = function(uri){\n",
       "  return new Promise((resolve, reject) => {\n",
       "    var tag = document.createElement('script');\n",
       "    tag.src = uri;\n",
       "    tag.async = true;\n",
       "    tag.onload = () => {\n",
       "      resolve();\n",
       "    };\n",
       "  var firstScriptTag = document.getElementsByTagName('script')[0];\n",
       "  firstScriptTag.parentNode.insertBefore(tag, firstScriptTag);\n",
       "});\n",
       "};\n",
       "\n",
       "if(typeof $3Dmolpromise === 'undefined') {\n",
       "$3Dmolpromise = null;\n",
       "  $3Dmolpromise = loadScriptAsync('https://3dmol.csb.pitt.edu/build/3Dmol.js');\n",
       "}\n",
       "\n",
       "var viewer_15693574023904064 = null;\n",
       "var warn = document.getElementById(\"3dmolwarning_15693574023904064\");\n",
       "if(warn) {\n",
       "    warn.parentNode.removeChild(warn);\n",
       "}\n",
       "$3Dmolpromise.then(function() {\n",
       "viewer_15693574023904064 = $3Dmol.createViewer($(\"#3dmolviewer_15693574023904064\"),{backgroundColor:\"white\"});\n",
       "\tviewer_15693574023904064.removeAllModels();\n",
       "\tviewer_15693574023904064.addModel(\"\\n     RDKit          3D\\n\\n 28 29  0  0  0  0  0  0  0  0999 V2000\\n   -1.8259   -1.1027   -0.2497 C   0  0  0  0  0  0  0  0  0  0  0  0\\n   -1.6997   -2.4998   -0.4455 N   0  0  0  0  0  0  0  0  0  0  0  0\\n   -4.5029    1.4789   -0.2789 N   0  0  0  0  0  0  0  0  0  0  0  0\\n   -3.0833   -0.5027   -0.3509 C   0  0  0  0  0  0  0  0  0  0  0  0\\n   -0.7148   -0.3218    0.0304 C   0  0  0  0  0  0  0  0  0  0  0  0\\n   -3.2317    0.8659   -0.1760 C   0  0  0  0  0  0  0  0  0  0  0  0\\n    0.5483   -0.9142    0.2523 N   0  0  0  0  0  0  0  0  0  0  0  0\\n    1.8266   -0.3358    0.1219 C   0  0  0  0  0  0  0  0  0  0  0  0\\n   -2.7549   -3.2817   -0.0397 O   0  0  0  0  0  0  0  0  0  0  0  0\\n   -5.5939    0.7080   -0.5543 O   0  0  0  0  0  0  0  0  0  0  0  0\\n   -0.7385   -3.0370   -0.9733 O   0  0  0  0  0  0  0  0  0  0  0  0\\n   -4.6192    2.6966   -0.1210 O   0  0  0  0  0  0  0  0  0  0  0  0\\n   -0.9093    1.0464    0.1992 C   0  0  0  0  0  0  0  0  0  0  0  0\\n    2.9055   -0.9931    0.7413 C   0  0  0  0  0  0  0  0  0  0  0  0\\n   -2.1377    1.6598    0.1025 C   0  0  0  0  0  0  0  0  0  0  0  0\\n    2.6259   -2.4443    1.7034 Cl  0  0  0  0  0  0  0  0  0  0  0  0\\n    2.1399    0.7856   -0.6082 C   0  0  0  0  0  0  0  0  0  0  0  0\\n    4.1812   -0.5142    0.6046 C   0  0  0  0  0  0  0  0  0  0  0  0\\n    3.4320    1.2824   -0.7537 C   0  0  0  0  0  0  0  0  0  0  0  0\\n    4.4625    0.6139   -0.1330 C   0  0  0  0  0  0  0  0  0  0  0  0\\n   -3.9618   -1.0960   -0.5671 H   0  0  0  0  0  0  0  0  0  0  0  0\\n    0.5421   -1.9196    0.5790 H   0  0  0  0  0  0  0  0  0  0  0  0\\n   -0.0849    1.7030    0.4593 H   0  0  0  0  0  0  0  0  0  0  0  0\\n   -2.2634    2.7368    0.2378 H   0  0  0  0  0  0  0  0  0  0  0  0\\n    1.3543    1.3227   -1.1503 H   0  0  0  0  0  0  0  0  0  0  0  0\\n    4.9841   -1.0709    1.1119 H   0  0  0  0  0  0  0  0  0  0  0  0\\n    3.6164    2.1771   -1.3445 H   0  0  0  0  0  0  0  0  0  0  0  0\\n    5.5029    0.9569   -0.2109 H   0  0  0  0  0  0  0  0  0  0  0  0\\n  2  1  1  0\\n  4  1  2  0\\n  5  1  1  0\\n  9  2  1  0\\n 11  2  2  0\\n  6  3  1  0\\n 10  3  1  0\\n 12  3  2  0\\n  6  4  1  0\\n  7  5  1  0\\n 13  5  2  0\\n 15  6  2  0\\n  8  7  1  0\\n 14  8  2  0\\n 17  8  1  0\\n 15 13  1  0\\n 16 14  1  0\\n 18 14  1  0\\n 19 17  2  0\\n 20 18  2  0\\n 20 19  1  0\\n  4 21  1  0\\n  7 22  1  0\\n 13 23  1  0\\n 15 24  1  0\\n 17 25  1  0\\n 18 26  1  0\\n 19 27  1  0\\n 20 28  1  0\\nM  CHG  4   2   1   3   1   9  -1  10  -1\\nM  END\\n\",\"sdf\");\n",
       "\tviewer_15693574023904064.setStyle({\"stick\": {}});\n",
       "\tviewer_15693574023904064.setBackgroundColor(\"0xeeeeee\");\n",
       "\tviewer_15693574023904064.zoomTo();\n",
       "viewer_15693574023904064.render();\n",
       "});\n",
       "</script>"
      ]
     },
     "metadata": {},
     "output_type": "display_data"
    }
   ],
   "source": [
    "\n",
    "draw_3d(df.loc[\"485069\"].mol)"
   ]
  },
  {
   "cell_type": "code",
   "execution_count": null,
   "metadata": {},
   "outputs": [],
   "source": []
  }
 ],
 "metadata": {
  "kernelspec": {
   "display_name": "Python 3",
   "language": "python",
   "name": "python3"
  },
  "language_info": {
   "codemirror_mode": {
    "name": "ipython",
    "version": 3
   },
   "file_extension": ".py",
   "mimetype": "text/x-python",
   "name": "python",
   "nbconvert_exporter": "python",
   "pygments_lexer": "ipython3",
   "version": "3.6.8"
  }
 },
 "nbformat": 4,
 "nbformat_minor": 2
}
