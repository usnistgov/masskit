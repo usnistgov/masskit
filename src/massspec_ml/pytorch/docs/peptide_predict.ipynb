{
 "cells": [
  {
   "cell_type": "code",
   "execution_count": 1,
   "id": "cc39233e",
   "metadata": {
    "scrolled": true
   },
   "outputs": [],
   "source": [
    "%matplotlib inline\n",
    "import matplotlib.pyplot as plt\n",
    "from massspec_ml.pytorch.spectrum.spectrum_prediction import *\n",
    "from massspec_ml.pytorch.spectrum.spectrum_lightning import SpectrumLightningModule\n",
    "import pytorch_lightning as pl"
   ]
  },
  {
   "cell_type": "code",
   "execution_count": 2,
   "id": "95b6897f",
   "metadata": {},
   "outputs": [
    {
     "name": "stderr",
     "output_type": "stream",
     "text": [
      "/home/lyg/anaconda3/envs/msml/lib/python3.9/site-packages/pytorch_lightning/utilities/seed.py:53: UserWarning: No seed found, seed set to 3510664870\n",
      "  rank_zero_warn(f\"No seed found, seed set to {seed}\")\n",
      "Global seed set to 3510664870\n"
     ]
    },
    {
     "data": {
      "text/plain": [
       "3510664870"
      ]
     },
     "execution_count": 2,
     "metadata": {},
     "output_type": "execute_result"
    }
   ],
   "source": [
    "pl.seed_everything()"
   ]
  },
  {
   "cell_type": "code",
   "execution_count": 3,
   "id": "a7ac21e1",
   "metadata": {},
   "outputs": [
    {
     "name": "stderr",
     "output_type": "stream",
     "text": [
      "/home/lyg/anaconda3/envs/msml/lib/python3.9/site-packages/omegaconf/resolvers/__init__.py:12: UserWarning: The `env` resolver is deprecated, see https://github.com/omry/omegaconf/issues/573\n",
      "  warnings.warn(\n"
     ]
    }
   ],
   "source": [
    "model = SpectrumLightningModule.load_from_checkpoint('~/data/test/aiomics/lyg_2022-03-18_AIomicsModel_SpectrumCosineLoss-epoch=009-val_loss=-0.6950.ckpt')\n",
    "prep_model_for_prediction(model, dropout=True)"
   ]
  },
  {
   "cell_type": "code",
   "execution_count": 4,
   "id": "32cea1d4",
   "metadata": {},
   "outputs": [],
   "source": [
    "\n",
    "df, dataset = create_prediction_dataset(model, 'valid')\n",
    "df = df[0:10]"
   ]
  },
  {
   "cell_type": "code",
   "execution_count": 5,
   "id": "f96864f2",
   "metadata": {},
   "outputs": [
    {
     "name": "stderr",
     "output_type": "stream",
     "text": [
      "OMP: Info #277: omp_set_nested routine deprecated, please use omp_set_max_active_levels instead.\n"
     ]
    }
   ],
   "source": [
    "# do predictions of the first 10 spectra, 10 predictions per spectrum\n",
    "for j in range(10):\n",
    "    for i in range(10):\n",
    "        new_spectrum = single_spectrum_prediction(model, dataset[j])\n",
    "        df[\"predicted_spectrum\"].iat[j].add(new_spectrum)\n",
    "\n",
    "finalize_prediction_dataset(df)"
   ]
  },
  {
   "cell_type": "code",
   "execution_count": 6,
   "id": "b7b7346a",
   "metadata": {},
   "outputs": [
    {
     "data": {
      "image/png": "[encoded data removed]",
      "text/plain": [
       "<Figure size 1440x576 with 1 Axes>"
      ]
     },
     "metadata": {
      "needs_background": "light"
     },
     "output_type": "display_data"
    }
   ],
   "source": [
    "# pick a spectrum to plot\n",
    "j = 0\n",
    "fig, ax = plt.subplots(figsize=(20, 8))\n",
    "experimental_spectrum = df.iloc[j]['spectrum']\n",
    "predicted_spectrum = df.iloc[j]['predicted_spectrum']\n",
    "\n",
    "experimental_spectrum.plot(ax, predicted_spectrum, normalize=1000, mirror=False, plot_stddev=True)"
   ]
  },
  {
   "cell_type": "code",
   "execution_count": null,
   "id": "73a62d01",
   "metadata": {},
   "outputs": [],
   "source": []
  }
 ],
 "metadata": {
  "kernelspec": {
   "display_name": "Python 3",
   "language": "python",
   "name": "python3"
  },
  "language_info": {
   "codemirror_mode": {
    "name": "ipython",
    "version": 3
   },
   "file_extension": ".py",
   "mimetype": "text/x-python",
   "name": "python",
   "nbconvert_exporter": "python",
   "pygments_lexer": "ipython3",
   "version": "3.9.10"
  }
 },
 "nbformat": 4,
 "nbformat_minor": 5
}
