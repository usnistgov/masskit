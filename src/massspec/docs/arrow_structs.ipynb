{
 "cells": [
  {
   "cell_type": "code",
   "execution_count": 1,
   "id": "ac618fdc",
   "metadata": {},
   "outputs": [],
   "source": [
    "#!python\n",
    "import pandas as pd\n",
    "import numpy as np\n",
    "import pyarrow as pa\n",
    "import pyarrow.parquet as pq\n",
    "import time\n",
    "import string\n",
    "import sys\n",
    "from types import MethodType"
   ]
  },
  {
   "cell_type": "code",
   "execution_count": 2,
   "id": "5dd1afa5",
   "metadata": {},
   "outputs": [],
   "source": [
    "ALPHABET = np.array(list(string.ascii_letters))\n",
    "\n",
    "def random_string(length):\n",
    "    return \"\".join(np.random.choice(ALPHABET, size=length))\n",
    "\n",
    "def create_dataset(rows=5, cols=[int, float, str, list], names=ALPHABET):\n",
    "    rng = np.random.default_rng()\n",
    "\n",
    "    data = {}\n",
    "    for i in range(len(cols)):\n",
    "        if cols[i] == int:\n",
    "            data[names[i]] = rng.integers(0, 100, size=rows)\n",
    "        elif cols[i] == float:\n",
    "            data[names[i]] = rng.random(size=rows)\n",
    "        elif cols[i] == str:\n",
    "            vfunc = np.vectorize(random_string)\n",
    "            rand_lengths = rng.integers(5, 25, size=rows)\n",
    "            data[names[i]] = vfunc(rand_lengths)\n",
    "        elif cols[i] == list:\n",
    "            larr = []\n",
    "            for j in range(rows):\n",
    "                rand_length = rng.integers(5, 25, size=1)\n",
    "                lst = rng.random(rand_length)\n",
    "                larr.append(lst)\n",
    "            data[names[i]] = larr\n",
    "    return pa.table(data)\n",
    "\n",
    "def table_to_struct(table):\n",
    "    fields, arrs = [], []\n",
    "    for column_index in range(table.num_columns):\n",
    "        fields.append(table.field(column_index))\n",
    "        arrs.append(table.column(column_index).flatten()[0].chunks[0])\n",
    "    return pa.StructArray.from_arrays(arrs, fields=fields)\n",
    "\n",
    "\n",
    "def struct_to_table(struct):\n",
    "    fields, arrs = [], []\n",
    "    for x in struct.slice(0, 1)[0].keys():\n",
    "        fields.append(x)\n",
    "        arrs.append(st.field(x))\n",
    "    return pa.table(arrs, fields)\n",
    "\n",
    "def struct_view(struct_name, parent):\n",
    "    class struct_accessor:\n",
    "        def __init__(self, name, parent):\n",
    "            self.struct_name = name\n",
    "            self.parent = parent\n",
    "\n",
    "        def struct(self):\n",
    "            return self.parent.table.column(self.struct_name).slice(self.parent.idx, 1)[0]\n",
    "        \n",
    "        def get(self, str):\n",
    "            if hasattr(self, str):\n",
    "                attr = getattr(self, str)\n",
    "                if attr == MethodType:\n",
    "                    return attr()\n",
    "                return attr\n",
    "            return None\n",
    "\n",
    "    def add_accessor_fn(inst, name, type):\n",
    "        fn_name = name\n",
    "\n",
    "        def fn_list(self):\n",
    "            return self.struct().get(name).values.to_numpy()\n",
    "\n",
    "        def fn_scalar(self):\n",
    "            return self.struct().get(name).as_py()\n",
    "\n",
    "        if pa.types.is_list(type) or pa.types.is_large_list(type):\n",
    "            setattr(inst, fn_name, MethodType(fn_list, inst))\n",
    "        elif pa.types.is_struct(type):\n",
    "            raise NotImplementedError\n",
    "        else:\n",
    "            setattr(inst, fn_name, MethodType(fn_scalar, inst))\n",
    "\n",
    "    inst = struct_accessor(struct_name, parent)\n",
    "    for name, val in inst.struct().items():\n",
    "        add_accessor_fn(inst, name, val.type)\n",
    "\n",
    "    return inst\n",
    "\n",
    "\n",
    "\n",
    "def row_view(table, idx=0):\n",
    "    class row_accessor:\n",
    "        def __init__(self, table, idx):\n",
    "            self.table = table\n",
    "            self.idx = idx\n",
    "        \n",
    "        def get(self, str):\n",
    "            if hasattr(self, str):\n",
    "                attr = getattr(self, str)\n",
    "                if attr == MethodType:\n",
    "                    return attr()\n",
    "                return attr\n",
    "            return None\n",
    "\n",
    "    def add_accessor_fn(inst, name, type):\n",
    "        #fn_name = \"get_\" + name\n",
    "        fn_name = name\n",
    "\n",
    "        def fn_list(self):\n",
    "            values = self.table.column(name).slice(self.idx, 1)[0].values\n",
    "            if values:\n",
    "                return values.to_numpy()\n",
    "            return None\n",
    "\n",
    "        def fn_scalar(self):\n",
    "            return self.table.column(name).slice(self.idx, 1)[0].as_py()\n",
    "\n",
    "        if pa.types.is_list(type) or pa.types.is_large_list(type):\n",
    "            setattr(inst, fn_name, MethodType(fn_list, inst))\n",
    "        elif pa.types.is_struct(type):\n",
    "            sv = struct_view(name, inst)\n",
    "            setattr(inst, fn_name, sv)\n",
    "        else:\n",
    "            setattr(inst, fn_name, MethodType(fn_scalar, inst))\n",
    "\n",
    "    inst = row_accessor(table, idx)\n",
    "    for col in table.column_names:\n",
    "        add_accessor_fn(inst, col, table.column(col).type)\n",
    "\n",
    "    return inst\n",
    "\n",
    "def row_view_raw(table, idx=0):\n",
    "    class row_accessor:\n",
    "        def __init__(self, table, idx):\n",
    "            self.table = table\n",
    "            self.idx = idx\n",
    "\n",
    "    def add_accessor_fn(inst, name, type):\n",
    "        fn_name = \"get_\" + name\n",
    "        def fn(self):\n",
    "            return self.table.column(name).slice(self.idx, 1)[0]\n",
    "        setattr(inst, fn_name, MethodType(fn, inst))\n",
    "\n",
    "    inst = row_accessor(table, idx)\n",
    "    for col in table.column_names:\n",
    "        add_accessor_fn(inst, col, table.column(col).type)\n",
    "\n",
    "    return inst"
   ]
  },
  {
   "cell_type": "code",
   "execution_count": 2,
   "id": "3238264d",
   "metadata": {},
   "outputs": [
    {
     "data": {
      "text/html": [
       "<div>\n",
       "<style scoped>\n",
       "    .dataframe tbody tr th:only-of-type {\n",
       "        vertical-align: middle;\n",
       "    }\n",
       "\n",
       "    .dataframe tbody tr th {\n",
       "        vertical-align: top;\n",
       "    }\n",
       "\n",
       "    .dataframe thead th {\n",
       "        text-align: right;\n",
       "    }\n",
       "</style>\n",
       "<table border=\"1\" class=\"dataframe\">\n",
       "  <thead>\n",
       "    <tr style=\"text-align: right;\">\n",
       "      <th></th>\n",
       "      <th>id</th>\n",
       "      <th>charge</th>\n",
       "      <th>ev</th>\n",
       "      <th>instrument</th>\n",
       "      <th>instrument_type</th>\n",
       "      <th>ion_mode</th>\n",
       "      <th>ionization</th>\n",
       "      <th>name</th>\n",
       "      <th>scan</th>\n",
       "      <th>nce</th>\n",
       "      <th>...</th>\n",
       "      <th>precursor_intensity</th>\n",
       "      <th>precursor_massinfo</th>\n",
       "      <th>precursor_mz</th>\n",
       "      <th>spectrum_fp</th>\n",
       "      <th>spectrum_fp_count</th>\n",
       "      <th>spectrum_interval_fp</th>\n",
       "      <th>spectrum_interval_fp_count</th>\n",
       "      <th>peptide</th>\n",
       "      <th>mod_names</th>\n",
       "      <th>mod_positions</th>\n",
       "    </tr>\n",
       "  </thead>\n",
       "  <tbody>\n",
       "    <tr>\n",
       "      <th>0</th>\n",
       "      <td>0</td>\n",
       "      <td>2</td>\n",
       "      <td>50.0</td>\n",
       "      <td>None</td>\n",
       "      <td>None</td>\n",
       "      <td>None</td>\n",
       "      <td>None</td>\n",
       "      <td>AAAALGSHGSCSSEVEK/2_1(10,C,Carbamidomethyl)</td>\n",
       "      <td>None</td>\n",
       "      <td>34.0</td>\n",
       "      <td>...</td>\n",
       "      <td>NaN</td>\n",
       "      <td>{'tolerance': 10.0, 'tolerance_type': 'ppm', '...</td>\n",
       "      <td>830.8834</td>\n",
       "      <td>[0, 0, 0, 0, 0, 0, 0, 0, 0, 0, 0, 0, 0, 0, 0, ...</td>\n",
       "      <td>67</td>\n",
       "      <td>None</td>\n",
       "      <td>NaN</td>\n",
       "      <td>AAAALGSHGSCSSEVEK</td>\n",
       "      <td>[Carbamidomethyl]</td>\n",
       "      <td>[10]</td>\n",
       "    </tr>\n",
       "  </tbody>\n",
       "</table>\n",
       "<p>1 rows × 24 columns</p>\n",
       "</div>"
      ],
      "text/plain": [
       "   id  charge    ev instrument instrument_type ion_mode ionization  \\\n",
       "0   0       2  50.0       None            None     None       None   \n",
       "\n",
       "                                          name  scan   nce  ...  \\\n",
       "0  AAAALGSHGSCSSEVEK/2_1(10,C,Carbamidomethyl)  None  34.0  ...   \n",
       "\n",
       "  precursor_intensity                                 precursor_massinfo  \\\n",
       "0                 NaN  {'tolerance': 10.0, 'tolerance_type': 'ppm', '...   \n",
       "\n",
       "  precursor_mz                                        spectrum_fp  \\\n",
       "0     830.8834  [0, 0, 0, 0, 0, 0, 0, 0, 0, 0, 0, 0, 0, 0, 0, ...   \n",
       "\n",
       "   spectrum_fp_count spectrum_interval_fp  spectrum_interval_fp_count  \\\n",
       "0                 67                 None                         NaN   \n",
       "\n",
       "             peptide          mod_names mod_positions  \n",
       "0  AAAALGSHGSCSSEVEK  [Carbamidomethyl]          [10]  \n",
       "\n",
       "[1 rows x 24 columns]"
      ]
     },
     "execution_count": 2,
     "metadata": {},
     "output_type": "execute_result"
    }
   ],
   "source": [
    "FILENAME = '/home/slottad/nist/gitlab/msdc_services/libraries/test.parquet'\n",
    "table = pq.read_table(FILENAME)\n",
    "table.to_pandas()"
   ]
  },
  {
   "cell_type": "code",
   "execution_count": 49,
   "id": "c8ff90b5",
   "metadata": {},
   "outputs": [
    {
     "data": {
      "text/plain": [
       "LargeListType(large_list<item: struct<ion_type: dictionary<values=string, indices=int32, ordered=0>, product_charge: int8, isotope: uint8, neutral_loss: dictionary<values=string, indices=int32, ordered=0>, position: uint16, end_position: uint16, aa_before: dictionary<values=string, indices=int32, ordered=0>, aa_after: dictionary<values=string, indices=int32, ordered=0>, ptm_before: dictionary<values=string, indices=int32, ordered=0>, ptm_after: dictionary<values=string, indices=int32, ordered=0>>>)"
      ]
     },
     "execution_count": 49,
     "metadata": {},
     "output_type": "execute_result"
    }
   ],
   "source": [
    "table.column_names\n",
    "table.column(\"annotations\").type"
   ]
  },
  {
   "cell_type": "code",
   "execution_count": 51,
   "id": "872d6891",
   "metadata": {},
   "outputs": [
    {
     "name": "stdout",
     "output_type": "stream",
     "text": [
      "None\n",
      "<bound method row_view.<locals>.add_accessor_fn.<locals>.fn_list of <__main__.row_view.<locals>.row_accessor object at 0x7fede011f280>>\n",
      "None\n"
     ]
    },
    {
     "data": {
      "text/plain": [
       "array([0, 0, 0, ..., 0, 0, 0], dtype=uint8)"
      ]
     },
     "execution_count": 51,
     "metadata": {},
     "output_type": "execute_result"
    }
   ],
   "source": [
    "FILENAME = '/home/slottad/nist/gitlab/msdc_services/libraries/test.parquet'\n",
    "table = pq.read_table(FILENAME)\n",
    "rv = row_view(table)\n",
    "print(rv.get(\"junk\"))\n",
    "\n",
    "print(rv.get(\"annotations\"))\n",
    "print(rv.get(\"annotations\")())\n",
    "rv.spectrum_fp()"
   ]
  },
  {
   "cell_type": "code",
   "execution_count": 3,
   "id": "b510fed6",
   "metadata": {},
   "outputs": [
    {
     "name": "stdout",
     "output_type": "stream",
     "text": [
      "None\n"
     ]
    }
   ],
   "source": [
    "import massspec.utils.tables\n",
    "row = massspec.utils.tables.row_view(table)\n",
    "annotations = row.get(\"annotations\")\n",
    "annotations = None if annotations is None else annotations()\n",
    "print(annotations)"
   ]
  },
  {
   "cell_type": "code",
   "execution_count": 57,
   "id": "1641081c",
   "metadata": {},
   "outputs": [
    {
     "data": {
      "text/html": [
       "<div>\n",
       "<style scoped>\n",
       "    .dataframe tbody tr th:only-of-type {\n",
       "        vertical-align: middle;\n",
       "    }\n",
       "\n",
       "    .dataframe tbody tr th {\n",
       "        vertical-align: top;\n",
       "    }\n",
       "\n",
       "    .dataframe thead th {\n",
       "        text-align: right;\n",
       "    }\n",
       "</style>\n",
       "<table border=\"1\" class=\"dataframe\">\n",
       "  <thead>\n",
       "    <tr style=\"text-align: right;\">\n",
       "      <th></th>\n",
       "      <th>a</th>\n",
       "      <th>b</th>\n",
       "      <th>c</th>\n",
       "      <th>struct</th>\n",
       "    </tr>\n",
       "  </thead>\n",
       "  <tbody>\n",
       "    <tr>\n",
       "      <th>0</th>\n",
       "      <td>48</td>\n",
       "      <td>0.001494</td>\n",
       "      <td>[0.20078429307909185, 0.2973041209842645, 0.35...</td>\n",
       "      <td>{'john': 42, 'paul': 0.6673878459460242, 'geor...</td>\n",
       "    </tr>\n",
       "    <tr>\n",
       "      <th>1</th>\n",
       "      <td>36</td>\n",
       "      <td>0.721606</td>\n",
       "      <td>[0.10996359120768118, 0.07010583536064863, 0.6...</td>\n",
       "      <td>{'john': 72, 'paul': 0.833692180317162, 'georg...</td>\n",
       "    </tr>\n",
       "    <tr>\n",
       "      <th>2</th>\n",
       "      <td>33</td>\n",
       "      <td>0.528356</td>\n",
       "      <td>[0.9182266825707263, 0.9205364956867594, 0.135...</td>\n",
       "      <td>{'john': 48, 'paul': 0.1061943272679774, 'geor...</td>\n",
       "    </tr>\n",
       "    <tr>\n",
       "      <th>3</th>\n",
       "      <td>98</td>\n",
       "      <td>0.629610</td>\n",
       "      <td>[0.8861506835702156, 0.16536409319567535, 0.04...</td>\n",
       "      <td>{'john': 84, 'paul': 0.08614252513341736, 'geo...</td>\n",
       "    </tr>\n",
       "    <tr>\n",
       "      <th>4</th>\n",
       "      <td>81</td>\n",
       "      <td>0.708453</td>\n",
       "      <td>[0.06307277064204375, 0.07555214819223965, 0.1...</td>\n",
       "      <td>{'john': 11, 'paul': 0.08171056669971388, 'geo...</td>\n",
       "    </tr>\n",
       "  </tbody>\n",
       "</table>\n",
       "</div>"
      ],
      "text/plain": [
       "    a         b                                                  c  \\\n",
       "0  48  0.001494  [0.20078429307909185, 0.2973041209842645, 0.35...   \n",
       "1  36  0.721606  [0.10996359120768118, 0.07010583536064863, 0.6...   \n",
       "2  33  0.528356  [0.9182266825707263, 0.9205364956867594, 0.135...   \n",
       "3  98  0.629610  [0.8861506835702156, 0.16536409319567535, 0.04...   \n",
       "4  81  0.708453  [0.06307277064204375, 0.07555214819223965, 0.1...   \n",
       "\n",
       "                                              struct  \n",
       "0  {'john': 42, 'paul': 0.6673878459460242, 'geor...  \n",
       "1  {'john': 72, 'paul': 0.833692180317162, 'georg...  \n",
       "2  {'john': 48, 'paul': 0.1061943272679774, 'geor...  \n",
       "3  {'john': 84, 'paul': 0.08614252513341736, 'geo...  \n",
       "4  {'john': 11, 'paul': 0.08171056669971388, 'geo...  "
      ]
     },
     "execution_count": 57,
     "metadata": {},
     "output_type": "execute_result"
    }
   ],
   "source": [
    "table = create_dataset(cols=[int, float, list])\n",
    "st = table_to_struct(create_dataset(names=['john','paul','george', 'ringo']))\n",
    "table = table.append_column(\"struct\", st)\n",
    "table.to_pandas()\n",
    "#for i in range(st.type.num_fields):\n",
    "#    print(type(st.field(i)))\n",
    "\n",
    "rv = row_view(table,3)\n",
    "table.to_pandas()"
   ]
  },
  {
   "cell_type": "code",
   "execution_count": 59,
   "id": "88e037c6",
   "metadata": {},
   "outputs": [
    {
     "name": "stdout",
     "output_type": "stream",
     "text": [
      "84\n",
      "72\n",
      "42\n"
     ]
    }
   ],
   "source": [
    "rv.idx=3\n",
    "print(rv.struct.john())\n",
    "rv.idx=1\n",
    "print(rv.struct.john())\n",
    "rv.idx=0\n",
    "print(rv.struct.john())"
   ]
  },
  {
   "cell_type": "code",
   "execution_count": 5,
   "id": "91d68372",
   "metadata": {},
   "outputs": [
    {
     "data": {
      "text/plain": [
       "pyarrow.lib.Int64Array"
      ]
     },
     "execution_count": 5,
     "metadata": {},
     "output_type": "execute_result"
    }
   ],
   "source": [
    "type(table.column('a').chunk(0))"
   ]
  },
  {
   "cell_type": "code",
   "execution_count": 7,
   "id": "ad31eef6",
   "metadata": {},
   "outputs": [
    {
     "data": {
      "text/html": [
       "<div>\n",
       "<style scoped>\n",
       "    .dataframe tbody tr th:only-of-type {\n",
       "        vertical-align: middle;\n",
       "    }\n",
       "\n",
       "    .dataframe tbody tr th {\n",
       "        vertical-align: top;\n",
       "    }\n",
       "\n",
       "    .dataframe thead th {\n",
       "        text-align: right;\n",
       "    }\n",
       "</style>\n",
       "<table border=\"1\" class=\"dataframe\">\n",
       "  <thead>\n",
       "    <tr style=\"text-align: right;\">\n",
       "      <th></th>\n",
       "      <th>a</th>\n",
       "      <th>b</th>\n",
       "      <th>c</th>\n",
       "      <th>struct</th>\n",
       "    </tr>\n",
       "  </thead>\n",
       "  <tbody>\n",
       "    <tr>\n",
       "      <th>0</th>\n",
       "      <td>69</td>\n",
       "      <td>0.757979</td>\n",
       "      <td>[0.7221621069643587, 0.49276953377866217, 0.34...</td>\n",
       "      <td>{'john': 23, 'paul': 0.02773443650653218, 'geo...</td>\n",
       "    </tr>\n",
       "    <tr>\n",
       "      <th>1</th>\n",
       "      <td>10</td>\n",
       "      <td>0.571250</td>\n",
       "      <td>[0.8241675056126545, 0.5230640134311503, 0.358...</td>\n",
       "      <td>{'john': 47, 'paul': 0.9859014647172522, 'geor...</td>\n",
       "    </tr>\n",
       "  </tbody>\n",
       "</table>\n",
       "</div>"
      ],
      "text/plain": [
       "    a         b                                                  c  \\\n",
       "0  69  0.757979  [0.7221621069643587, 0.49276953377866217, 0.34...   \n",
       "1  10  0.571250  [0.8241675056126545, 0.5230640134311503, 0.358...   \n",
       "\n",
       "                                              struct  \n",
       "0  {'john': 23, 'paul': 0.02773443650653218, 'geo...  \n",
       "1  {'john': 47, 'paul': 0.9859014647172522, 'geor...  "
      ]
     },
     "execution_count": 7,
     "metadata": {},
     "output_type": "execute_result"
    }
   ],
   "source": [
    "table.take([1,3]).to_pandas()"
   ]
  },
  {
   "cell_type": "code",
   "execution_count": 11,
   "id": "51086475",
   "metadata": {},
   "outputs": [
    {
     "data": {
      "text/html": [
       "<div>\n",
       "<style scoped>\n",
       "    .dataframe tbody tr th:only-of-type {\n",
       "        vertical-align: middle;\n",
       "    }\n",
       "\n",
       "    .dataframe tbody tr th {\n",
       "        vertical-align: top;\n",
       "    }\n",
       "\n",
       "    .dataframe thead th {\n",
       "        text-align: right;\n",
       "    }\n",
       "</style>\n",
       "<table border=\"1\" class=\"dataframe\">\n",
       "  <thead>\n",
       "    <tr style=\"text-align: right;\">\n",
       "      <th></th>\n",
       "      <th>a</th>\n",
       "      <th>b</th>\n",
       "      <th>c</th>\n",
       "      <th>struct</th>\n",
       "    </tr>\n",
       "  </thead>\n",
       "  <tbody>\n",
       "    <tr>\n",
       "      <th>0</th>\n",
       "      <td>69</td>\n",
       "      <td>0.757979</td>\n",
       "      <td>[0.7221621069643587, 0.49276953377866217, 0.34...</td>\n",
       "      <td>{'john': 23, 'paul': 0.02773443650653218, 'geo...</td>\n",
       "    </tr>\n",
       "    <tr>\n",
       "      <th>1</th>\n",
       "      <td>66</td>\n",
       "      <td>0.915094</td>\n",
       "      <td>[0.2957497334359308, 0.5664697231529493, 0.175...</td>\n",
       "      <td>{'john': 30, 'paul': 0.5000038576126775, 'geor...</td>\n",
       "    </tr>\n",
       "  </tbody>\n",
       "</table>\n",
       "</div>"
      ],
      "text/plain": [
       "    a         b                                                  c  \\\n",
       "0  69  0.757979  [0.7221621069643587, 0.49276953377866217, 0.34...   \n",
       "1  66  0.915094  [0.2957497334359308, 0.5664697231529493, 0.175...   \n",
       "\n",
       "                                              struct  \n",
       "0  {'john': 23, 'paul': 0.02773443650653218, 'geo...  \n",
       "1  {'john': 30, 'paul': 0.5000038576126775, 'geor...  "
      ]
     },
     "execution_count": 11,
     "metadata": {},
     "output_type": "execute_result"
    }
   ],
   "source": [
    "table.take(pa.compute.index_in([69,66],value_set=table.column('a'))).to_pandas()"
   ]
  },
  {
   "cell_type": "code",
   "execution_count": 198,
   "id": "d095fdb2",
   "metadata": {},
   "outputs": [],
   "source": [
    "def row_copy(view):\n",
    "    class Row_Copy:\n",
    "        pass\n",
    "    \n",
    "    cp = Row_Copy()\n",
    "    for name in view.table.column_names:\n",
    "        t = view.table.column(name).type\n",
    "        f = getattr(view, \"get_\"+name)\n",
    "        if pa.types.is_struct(t):\n",
    "            pass\n",
    "        else:\n",
    "            setattr(cp,name,f())\n",
    "    return cp\n",
    "\n",
    "cp = row_copy(rv)"
   ]
  },
  {
   "cell_type": "code",
   "execution_count": 202,
   "id": "8b474318",
   "metadata": {},
   "outputs": [
    {
     "data": {
      "text/plain": [
       "array([0.85955441, 0.28593158, 0.10857431, 0.55889507, 0.1799482 ,\n",
       "       0.33433689, 0.15701087, 0.44872635, 0.46481567, 0.01582985,\n",
       "       0.90253203, 0.58748081, 0.22897347, 0.57033914])"
      ]
     },
     "execution_count": 202,
     "metadata": {},
     "output_type": "execute_result"
    }
   ],
   "source": [
    "#dir(cp)\n",
    "cp.c"
   ]
  },
  {
   "cell_type": "code",
   "execution_count": 199,
   "id": "39a5125b",
   "metadata": {},
   "outputs": [
    {
     "ename": "AttributeError",
     "evalue": "'Row_Copy' object has no attribute 'get_a'",
     "output_type": "error",
     "traceback": [
      "\u001b[0;31m---------------------------------------------------------------------------\u001b[0m",
      "\u001b[0;31mAttributeError\u001b[0m                            Traceback (most recent call last)",
      "\u001b[0;32m/tmp/ipykernel_112299/1228897693.py\u001b[0m in \u001b[0;36m<module>\u001b[0;34m\u001b[0m\n\u001b[0;32m----> 1\u001b[0;31m \u001b[0mcp\u001b[0m\u001b[0;34m.\u001b[0m\u001b[0mget_a\u001b[0m\u001b[0;34m(\u001b[0m\u001b[0;34m)\u001b[0m\u001b[0;34m\u001b[0m\u001b[0;34m\u001b[0m\u001b[0m\n\u001b[0m",
      "\u001b[0;31mAttributeError\u001b[0m: 'Row_Copy' object has no attribute 'get_a'"
     ]
    }
   ],
   "source": [
    "#cp.get_a()"
   ]
  },
  {
   "cell_type": "code",
   "execution_count": 4,
   "id": "d87dba3c",
   "metadata": {},
   "outputs": [
    {
     "data": {
      "text/html": [
       "<div>\n",
       "<style scoped>\n",
       "    .dataframe tbody tr th:only-of-type {\n",
       "        vertical-align: middle;\n",
       "    }\n",
       "\n",
       "    .dataframe tbody tr th {\n",
       "        vertical-align: top;\n",
       "    }\n",
       "\n",
       "    .dataframe thead th {\n",
       "        text-align: right;\n",
       "    }\n",
       "</style>\n",
       "<table border=\"1\" class=\"dataframe\">\n",
       "  <thead>\n",
       "    <tr style=\"text-align: right;\">\n",
       "      <th></th>\n",
       "      <th>a</th>\n",
       "      <th>b</th>\n",
       "      <th>c</th>\n",
       "    </tr>\n",
       "  </thead>\n",
       "  <tbody>\n",
       "    <tr>\n",
       "      <th>0</th>\n",
       "      <td>2</td>\n",
       "      <td>29</td>\n",
       "      <td>44</td>\n",
       "    </tr>\n",
       "    <tr>\n",
       "      <th>1</th>\n",
       "      <td>72</td>\n",
       "      <td>6</td>\n",
       "      <td>19</td>\n",
       "    </tr>\n",
       "    <tr>\n",
       "      <th>2</th>\n",
       "      <td>88</td>\n",
       "      <td>94</td>\n",
       "      <td>48</td>\n",
       "    </tr>\n",
       "    <tr>\n",
       "      <th>3</th>\n",
       "      <td>40</td>\n",
       "      <td>81</td>\n",
       "      <td>81</td>\n",
       "    </tr>\n",
       "    <tr>\n",
       "      <th>4</th>\n",
       "      <td>36</td>\n",
       "      <td>8</td>\n",
       "      <td>76</td>\n",
       "    </tr>\n",
       "  </tbody>\n",
       "</table>\n",
       "</div>"
      ],
      "text/plain": [
       "    a   b   c\n",
       "0   2  29  44\n",
       "1  72   6  19\n",
       "2  88  94  48\n",
       "3  40  81  81\n",
       "4  36   8  76"
      ]
     },
     "execution_count": 4,
     "metadata": {},
     "output_type": "execute_result"
    }
   ],
   "source": [
    "table = create_dataset(rows=5, cols=[int,int,int])\n",
    "table.to_pandas()"
   ]
  },
  {
   "cell_type": "code",
   "execution_count": 19,
   "id": "4652bf07",
   "metadata": {},
   "outputs": [
    {
     "name": "stdout",
     "output_type": "stream",
     "text": [
      "<class 'pyarrow.lib.Int64Array'>\n"
     ]
    },
    {
     "data": {
      "text/html": [
       "<div>\n",
       "<style scoped>\n",
       "    .dataframe tbody tr th:only-of-type {\n",
       "        vertical-align: middle;\n",
       "    }\n",
       "\n",
       "    .dataframe tbody tr th {\n",
       "        vertical-align: top;\n",
       "    }\n",
       "\n",
       "    .dataframe thead th {\n",
       "        text-align: right;\n",
       "    }\n",
       "</style>\n",
       "<table border=\"1\" class=\"dataframe\">\n",
       "  <thead>\n",
       "    <tr style=\"text-align: right;\">\n",
       "      <th></th>\n",
       "      <th>a</th>\n",
       "      <th>b</th>\n",
       "      <th>c</th>\n",
       "      <th>A+B</th>\n",
       "    </tr>\n",
       "  </thead>\n",
       "  <tbody>\n",
       "    <tr>\n",
       "      <th>0</th>\n",
       "      <td>2</td>\n",
       "      <td>29</td>\n",
       "      <td>44</td>\n",
       "      <td>31</td>\n",
       "    </tr>\n",
       "    <tr>\n",
       "      <th>1</th>\n",
       "      <td>72</td>\n",
       "      <td>6</td>\n",
       "      <td>19</td>\n",
       "      <td>78</td>\n",
       "    </tr>\n",
       "    <tr>\n",
       "      <th>2</th>\n",
       "      <td>88</td>\n",
       "      <td>94</td>\n",
       "      <td>48</td>\n",
       "      <td>182</td>\n",
       "    </tr>\n",
       "    <tr>\n",
       "      <th>3</th>\n",
       "      <td>40</td>\n",
       "      <td>81</td>\n",
       "      <td>81</td>\n",
       "      <td>121</td>\n",
       "    </tr>\n",
       "    <tr>\n",
       "      <th>4</th>\n",
       "      <td>36</td>\n",
       "      <td>8</td>\n",
       "      <td>76</td>\n",
       "      <td>44</td>\n",
       "    </tr>\n",
       "  </tbody>\n",
       "</table>\n",
       "</div>"
      ],
      "text/plain": [
       "    a   b   c  A+B\n",
       "0   2  29  44   31\n",
       "1  72   6  19   78\n",
       "2  88  94  48  182\n",
       "3  40  81  81  121\n",
       "4  36   8  76   44"
      ]
     },
     "execution_count": 19,
     "metadata": {},
     "output_type": "execute_result"
    }
   ],
   "source": [
    "ca = table.column(\"b\")\n",
    "for i in ca.iterchunks():\n",
    "    print(type(i))\n",
    "table.append_column(\"A+B\", pa.compute.add(table.column('a'), table.column('b'))).to_pandas()"
   ]
  },
  {
   "cell_type": "code",
   "execution_count": 30,
   "id": "cfa26c10",
   "metadata": {},
   "outputs": [
    {
     "data": {
      "text/html": [
       "<div>\n",
       "<style scoped>\n",
       "    .dataframe tbody tr th:only-of-type {\n",
       "        vertical-align: middle;\n",
       "    }\n",
       "\n",
       "    .dataframe tbody tr th {\n",
       "        vertical-align: top;\n",
       "    }\n",
       "\n",
       "    .dataframe thead th {\n",
       "        text-align: right;\n",
       "    }\n",
       "</style>\n",
       "<table border=\"1\" class=\"dataframe\">\n",
       "  <thead>\n",
       "    <tr style=\"text-align: right;\">\n",
       "      <th></th>\n",
       "      <th>a</th>\n",
       "      <th>b</th>\n",
       "      <th>c</th>\n",
       "      <th>d</th>\n",
       "      <th>struct</th>\n",
       "    </tr>\n",
       "  </thead>\n",
       "  <tbody>\n",
       "    <tr>\n",
       "      <th>0</th>\n",
       "      <td>11</td>\n",
       "      <td>0.639198</td>\n",
       "      <td>XpEfneOQhrBoWcaCJMNQlvt</td>\n",
       "      <td>[0.39987697851536186, 0.4402834411641544, 0.86...</td>\n",
       "      <td>{'a': 72, 'b': 0.6525063345471586, 'c': 'TbNOL...</td>\n",
       "    </tr>\n",
       "    <tr>\n",
       "      <th>1</th>\n",
       "      <td>73</td>\n",
       "      <td>0.868861</td>\n",
       "      <td>FeFrYihRlXpqJYyGqZJQ</td>\n",
       "      <td>[0.4967560745720806, 0.7240392079967856, 0.340...</td>\n",
       "      <td>{'a': 93, 'b': 0.5686280599198626, 'c': 'YINfu...</td>\n",
       "    </tr>\n",
       "    <tr>\n",
       "      <th>2</th>\n",
       "      <td>32</td>\n",
       "      <td>0.119972</td>\n",
       "      <td>VTlomANSIFvscENhJtZjSY</td>\n",
       "      <td>[0.9969064284866098, 0.8052034681531476, 0.156...</td>\n",
       "      <td>{'a': 54, 'b': 0.08464787277823116, 'c': 'xTIO...</td>\n",
       "    </tr>\n",
       "    <tr>\n",
       "      <th>3</th>\n",
       "      <td>94</td>\n",
       "      <td>0.909148</td>\n",
       "      <td>VtbPAIaBhga</td>\n",
       "      <td>[0.07506368133485275, 0.9910808511500584, 0.96...</td>\n",
       "      <td>{'a': 66, 'b': 0.8478686528237297, 'c': 'RrsXg...</td>\n",
       "    </tr>\n",
       "    <tr>\n",
       "      <th>4</th>\n",
       "      <td>24</td>\n",
       "      <td>0.782777</td>\n",
       "      <td>tGAYLOaD</td>\n",
       "      <td>[0.4230672815939629, 0.27641148498436097, 0.18...</td>\n",
       "      <td>{'a': 36, 'b': 0.8617662177082072, 'c': 'toTeb...</td>\n",
       "    </tr>\n",
       "  </tbody>\n",
       "</table>\n",
       "</div>"
      ],
      "text/plain": [
       "    a         b                        c  \\\n",
       "0  11  0.639198  XpEfneOQhrBoWcaCJMNQlvt   \n",
       "1  73  0.868861     FeFrYihRlXpqJYyGqZJQ   \n",
       "2  32  0.119972   VTlomANSIFvscENhJtZjSY   \n",
       "3  94  0.909148              VtbPAIaBhga   \n",
       "4  24  0.782777                 tGAYLOaD   \n",
       "\n",
       "                                                   d  \\\n",
       "0  [0.39987697851536186, 0.4402834411641544, 0.86...   \n",
       "1  [0.4967560745720806, 0.7240392079967856, 0.340...   \n",
       "2  [0.9969064284866098, 0.8052034681531476, 0.156...   \n",
       "3  [0.07506368133485275, 0.9910808511500584, 0.96...   \n",
       "4  [0.4230672815939629, 0.27641148498436097, 0.18...   \n",
       "\n",
       "                                              struct  \n",
       "0  {'a': 72, 'b': 0.6525063345471586, 'c': 'TbNOL...  \n",
       "1  {'a': 93, 'b': 0.5686280599198626, 'c': 'YINfu...  \n",
       "2  {'a': 54, 'b': 0.08464787277823116, 'c': 'xTIO...  \n",
       "3  {'a': 66, 'b': 0.8478686528237297, 'c': 'RrsXg...  \n",
       "4  {'a': 36, 'b': 0.8617662177082072, 'c': 'toTeb...  "
      ]
     },
     "execution_count": 30,
     "metadata": {},
     "output_type": "execute_result"
    }
   ],
   "source": [
    "struct = table_to_struct(create_dataset(rows=5, int_cols=1, float_cols=1, str_cols=1, list_cols=2))\n",
    "table2 = table.append_column(\"struct\", struct)\n",
    "table2.to_pandas()"
   ]
  },
  {
   "cell_type": "code",
   "execution_count": 46,
   "id": "e807f269",
   "metadata": {},
   "outputs": [
    {
     "data": {
      "text/plain": [
       "0.6391978724061399"
      ]
     },
     "execution_count": 46,
     "metadata": {},
     "output_type": "execute_result"
    }
   ],
   "source": [
    "rv = row_view(table2)\n",
    "rv.get_b()"
   ]
  },
  {
   "cell_type": "code",
   "execution_count": 47,
   "id": "31344eb4",
   "metadata": {},
   "outputs": [
    {
     "data": {
      "text/plain": [
       "<pyarrow.StructScalar: [('a', 72), ('b', 0.6525063345471586), ('c', 'TbNOLqlyxXKNhmnPDpWQ'), ('d', [0.4045044797519384, 0.21629264136170423, 0.16584800697438495, 0.7311778425124787, 0.8529078326022611]), ('e', [0.8187544196499349, 0.3233499571494465, 0.8988986379419162, 0.964906819933289, 0.04065977124021247, 0.09221913178861774, 0.19247231719030222, 0.07592502003581436, 0.3527969574839216, 0.0764040653279584, 0.37691108037276455, 0.4312023279017151, 0.1867603083182503, 0.35385953664313974, 0.19359362425320203, 0.9532941446945833, 0.019388215071460713, 0.9890492029539549, 0.8031068064140932])]>"
      ]
     },
     "execution_count": 47,
     "metadata": {},
     "output_type": "execute_result"
    }
   ],
   "source": [
    "rv = row_view_raw(table2)\n",
    "rv.get_struct()"
   ]
  },
  {
   "cell_type": "code",
   "execution_count": 43,
   "id": "cbef1157",
   "metadata": {},
   "outputs": [
    {
     "data": {
      "text/plain": [
       "{'a': 72,\n",
       " 'b': 0.6525063345471586,\n",
       " 'c': 'TbNOLqlyxXKNhmnPDpWQ',\n",
       " 'd': [0.4045044797519384,\n",
       "  0.21629264136170423,\n",
       "  0.16584800697438495,\n",
       "  0.7311778425124787,\n",
       "  0.8529078326022611],\n",
       " 'e': [0.8187544196499349,\n",
       "  0.3233499571494465,\n",
       "  0.8988986379419162,\n",
       "  0.964906819933289,\n",
       "  0.04065977124021247,\n",
       "  0.09221913178861774,\n",
       "  0.19247231719030222,\n",
       "  0.07592502003581436,\n",
       "  0.3527969574839216,\n",
       "  0.0764040653279584,\n",
       "  0.37691108037276455,\n",
       "  0.4312023279017151,\n",
       "  0.1867603083182503,\n",
       "  0.35385953664313974,\n",
       "  0.19359362425320203,\n",
       "  0.9532941446945833,\n",
       "  0.019388215071460713,\n",
       "  0.9890492029539549,\n",
       "  0.8031068064140932]}"
      ]
     },
     "execution_count": 43,
     "metadata": {},
     "output_type": "execute_result"
    }
   ],
   "source": [
    "st = rv.get_struct()\n",
    "st"
   ]
  },
  {
   "cell_type": "code",
   "execution_count": 40,
   "id": "0b0f6e63",
   "metadata": {},
   "outputs": [
    {
     "name": "stdout",
     "output_type": "stream",
     "text": [
      "('a', <pyarrow.Int64Scalar: 72>)\n",
      "('b', <pyarrow.DoubleScalar: 0.6525063345471586>)\n",
      "('c', <pyarrow.StringScalar: 'TbNOLqlyxXKNhmnPDpWQ'>)\n",
      "('d', <pyarrow.ListScalar: [0.4045044797519384, 0.21629264136170423, 0.16584800697438495, 0.7311778425124787, 0.8529078326022611]>)\n",
      "('e', <pyarrow.ListScalar: [0.8187544196499349, 0.3233499571494465, 0.8988986379419162, 0.964906819933289, 0.04065977124021247, 0.09221913178861774, 0.19247231719030222, 0.07592502003581436, 0.3527969574839216, 0.0764040653279584, 0.37691108037276455, 0.4312023279017151, 0.1867603083182503, 0.35385953664313974, 0.19359362425320203, 0.9532941446945833, 0.019388215071460713, 0.9890492029539549, 0.8031068064140932]>)\n"
     ]
    }
   ],
   "source": [
    "for i in st.items():\n",
    "    print(i)"
   ]
  },
  {
   "cell_type": "code",
   "execution_count": null,
   "id": "a9b7a6c7",
   "metadata": {},
   "outputs": [],
   "source": [
    "# df = create_dataframe(rows=13)\n",
    "start = time.time()\n",
    "# table = create_dataset(rows=500, int_cols=5, float_cols=4, str_cols=2)\n",
    "table = create_dataset(rows=5, int_cols=1, float_cols=1, str_cols=1)\n",
    "table = create_dataset(rows=5, int_cols=1, float_cols=1, str_cols=1, list_cols=2)\n",
    "end = time.time()\n",
    "# display(df)\n",
    "# print(table.schema)\n",
    "print(f\"Shape: {table.shape}\")\n",
    "print(f\"MB: {table.nbytes/(1024*1024):.3f}\")\n",
    "print(f\"Create dataset time elapsed: {end - start:.3f}\")\n",
    "print(table.columns)\n",
    "print(table.column_names)\n",
    "print(table.schema)\n",
    "# print(st)\n",
    "\n",
    "sys.exit()\n",
    "\n",
    "# Timing functions\n",
    "\n",
    "start = time.time()\n",
    "pq.write_table(table, \"junk_test.parquet\", version=\"2.0\")\n",
    "end = time.time()\n",
    "print(f\"Write dataset time elapsed: {end - start:.3f}\")\n",
    "\n",
    "start = time.time()\n",
    "table2 = pq.read_table(\"junk_test.parquet\")\n",
    "end = time.time()\n",
    "print(f\"Read dataset time elapsed: {end - start:.3f}\")\n",
    "\n",
    "start = time.time()\n",
    "st = table_to_struct(table2)\n",
    "end = time.time()\n",
    "print(f\"Dataset to struct time elapsed: {end - start:.3f}\")\n",
    "\n",
    "print(st.to_pandas())\n",
    "# display(st)\n",
    "\n",
    "start = time.time()\n",
    "table3 = struct_to_table(st)\n",
    "end = time.time()\n",
    "print(f\"Struct to dataset time elapsed: {end - start:.3f}\")\n",
    "\n",
    "# print(table3.to_pandas())\n",
    "display(table3)"
   ]
  },
  {
   "cell_type": "code",
   "execution_count": 1,
   "id": "aec8e898",
   "metadata": {},
   "outputs": [],
   "source": [
    "import sys\n",
    "import pyarrow as pa\n",
    "import pyarrow.parquet as pq\n",
    "import pyarrow.compute as pc\n",
    "import pandas as pd\n",
    "import numpy as np\n",
    "sys.path.append('/home/slottad/nist/gitlab/msdc_services/libraries/src')\n",
    "from massspec.spectrum import spectrum\n",
    "from massspec.utils.files import load_sdf2array\n",
    "\n",
    "FILENAME = '/data/aiomics/search/libraries/small.sdf'\n",
    "(table, er, mzr) = load_sdf2array(FILENAME)"
   ]
  },
  {
   "cell_type": "code",
   "execution_count": 15,
   "id": "a0dcca0f",
   "metadata": {},
   "outputs": [
    {
     "data": {
      "text/plain": [
       "0    1467.0061\n",
       "1    1467.0061\n",
       "2    1467.0061\n",
       "3    1467.0061\n",
       "4    1467.0061\n",
       "Name: precursor_mz, dtype: float64"
      ]
     },
     "execution_count": 15,
     "metadata": {},
     "output_type": "execute_result"
    }
   ],
   "source": [
    "table.column(\"precursor_mz\").to_pandas()"
   ]
  },
  {
   "cell_type": "code",
   "execution_count": 3,
   "id": "b266edba",
   "metadata": {},
   "outputs": [],
   "source": [
    "s = spectrum.HiResSpectrum().from_arrow(table=table, idx=3)"
   ]
  },
  {
   "cell_type": "code",
   "execution_count": 4,
   "id": "99e33789",
   "metadata": {},
   "outputs": [
    {
     "data": {
      "image/png": "[encoded data removed]",
      "image/svg+xml": "<?xml version=\"1.0\" encoding=\"utf-8\" standalone=\"no\"?>\n<!DOCTYPE svg PUBLIC \"-//W3C//DTD SVG 1.1//EN\"\n  \"http://www.w3.org/Graphics/SVG/1.1/DTD/svg11.dtd\">\n<svg height=\"144pt\" version=\"1.1\" viewBox=\"0 0 288 144\" width=\"288pt\" xmlns=\"http://www.w3.org/2000/svg\" xmlns:xlink=\"http://www.w3.org/1999/xlink\">\n <metadata>\n  <rdf:RDF xmlns:cc=\"http://creativecommons.org/ns#\" xmlns:dc=\"http://purl.org/dc/elements/1.1/\" xmlns:rdf=\"http://www.w3.org/1999/02/22-rdf-syntax-ns#\">\n   <cc:Work>\n    <dc:type rdf:resource=\"http://purl.org/dc/dcmitype/StillImage\"/>\n    <dc:date>2021-10-13T08:47:37.197032</dc:date>\n    <dc:format>image/svg+xml</dc:format>\n    <dc:creator>\n     <cc:Agent>\n      <dc:title>Matplotlib v3.4.3, https://matplotlib.org/</dc:title>\n     </cc:Agent>\n    </dc:creator>\n   </cc:Work>\n  </rdf:RDF>\n </metadata>\n <defs>\n  <style type=\"text/css\">*{stroke-linecap:butt;stroke-linejoin:round;}</style>\n </defs>\n <g id=\"figure_1\">\n  <g id=\"patch_1\">\n   <path d=\"M 0 144 \nL 288 144 \nL 288 0 \nL 0 0 \nz\n\" style=\"fill:none;\"/>\n  </g>\n  <g id=\"axes_1\">\n   <g id=\"patch_2\">\n    <path d=\"M 50.925 102.2 \nL 264.45 102.2 \nL 264.45 10.8 \nL 50.925 10.8 \nz\n\" style=\"fill:#ffffff;\"/>\n   </g>\n   <g id=\"matplotlib.axis_1\">\n    <g id=\"xtick_1\">\n     <g id=\"line2d_1\">\n      <defs>\n       <path d=\"M 0 0 \nL 0 3.5 \n\" id=\"mbce2fda75b\" style=\"stroke:#000000;stroke-width:0.8;\"/>\n      </defs>\n      <g>\n       <use style=\"stroke:#000000;stroke-width:0.8;\" x=\"50.925\" xlink:href=\"#mbce2fda75b\" y=\"102.2\"/>\n      </g>\n     </g>\n     <g id=\"text_1\">\n      <!-- 0 -->\n      <g transform=\"translate(47.74375 116.798437)scale(0.1 -0.1)\">\n       <defs>\n        <path d=\"M 2034 4250 \nQ 1547 4250 1301 3770 \nQ 1056 3291 1056 2328 \nQ 1056 1369 1301 889 \nQ 1547 409 2034 409 \nQ 2525 409 2770 889 \nQ 3016 1369 3016 2328 \nQ 3016 3291 2770 3770 \nQ 2525 4250 2034 4250 \nz\nM 2034 4750 \nQ 2819 4750 3233 4129 \nQ 3647 3509 3647 2328 \nQ 3647 1150 3233 529 \nQ 2819 -91 2034 -91 \nQ 1250 -91 836 529 \nQ 422 1150 422 2328 \nQ 422 3509 836 4129 \nQ 1250 4750 2034 4750 \nz\n\" id=\"DejaVuSans-30\" transform=\"scale(0.015625)\"/>\n       </defs>\n       <use xlink:href=\"#DejaVuSans-30\"/>\n      </g>\n     </g>\n    </g>\n    <g id=\"xtick_2\">\n     <g id=\"line2d_2\">\n      <g>\n       <use style=\"stroke:#000000;stroke-width:0.8;\" x=\"104.30625\" xlink:href=\"#mbce2fda75b\" y=\"102.2\"/>\n      </g>\n     </g>\n     <g id=\"text_2\">\n      <!-- 500 -->\n      <g transform=\"translate(94.7625 116.798437)scale(0.1 -0.1)\">\n       <defs>\n        <path d=\"M 691 4666 \nL 3169 4666 \nL 3169 4134 \nL 1269 4134 \nL 1269 2991 \nQ 1406 3038 1543 3061 \nQ 1681 3084 1819 3084 \nQ 2600 3084 3056 2656 \nQ 3513 2228 3513 1497 \nQ 3513 744 3044 326 \nQ 2575 -91 1722 -91 \nQ 1428 -91 1123 -41 \nQ 819 9 494 109 \nL 494 744 \nQ 775 591 1075 516 \nQ 1375 441 1709 441 \nQ 2250 441 2565 725 \nQ 2881 1009 2881 1497 \nQ 2881 1984 2565 2268 \nQ 2250 2553 1709 2553 \nQ 1456 2553 1204 2497 \nQ 953 2441 691 2322 \nL 691 4666 \nz\n\" id=\"DejaVuSans-35\" transform=\"scale(0.015625)\"/>\n       </defs>\n       <use xlink:href=\"#DejaVuSans-35\"/>\n       <use x=\"63.623047\" xlink:href=\"#DejaVuSans-30\"/>\n       <use x=\"127.246094\" xlink:href=\"#DejaVuSans-30\"/>\n      </g>\n     </g>\n    </g>\n    <g id=\"xtick_3\">\n     <g id=\"line2d_3\">\n      <g>\n       <use style=\"stroke:#000000;stroke-width:0.8;\" x=\"157.6875\" xlink:href=\"#mbce2fda75b\" y=\"102.2\"/>\n      </g>\n     </g>\n     <g id=\"text_3\">\n      <!-- 1000 -->\n      <g transform=\"translate(144.9625 116.798437)scale(0.1 -0.1)\">\n       <defs>\n        <path d=\"M 794 531 \nL 1825 531 \nL 1825 4091 \nL 703 3866 \nL 703 4441 \nL 1819 4666 \nL 2450 4666 \nL 2450 531 \nL 3481 531 \nL 3481 0 \nL 794 0 \nL 794 531 \nz\n\" id=\"DejaVuSans-31\" transform=\"scale(0.015625)\"/>\n       </defs>\n       <use xlink:href=\"#DejaVuSans-31\"/>\n       <use x=\"63.623047\" xlink:href=\"#DejaVuSans-30\"/>\n       <use x=\"127.246094\" xlink:href=\"#DejaVuSans-30\"/>\n       <use x=\"190.869141\" xlink:href=\"#DejaVuSans-30\"/>\n      </g>\n     </g>\n    </g>\n    <g id=\"xtick_4\">\n     <g id=\"line2d_4\">\n      <g>\n       <use style=\"stroke:#000000;stroke-width:0.8;\" x=\"211.06875\" xlink:href=\"#mbce2fda75b\" y=\"102.2\"/>\n      </g>\n     </g>\n     <g id=\"text_4\">\n      <!-- 1500 -->\n      <g transform=\"translate(198.34375 116.798437)scale(0.1 -0.1)\">\n       <use xlink:href=\"#DejaVuSans-31\"/>\n       <use x=\"63.623047\" xlink:href=\"#DejaVuSans-35\"/>\n       <use x=\"127.246094\" xlink:href=\"#DejaVuSans-30\"/>\n       <use x=\"190.869141\" xlink:href=\"#DejaVuSans-30\"/>\n      </g>\n     </g>\n    </g>\n    <g id=\"xtick_5\">\n     <g id=\"line2d_5\">\n      <g>\n       <use style=\"stroke:#000000;stroke-width:0.8;\" x=\"264.45\" xlink:href=\"#mbce2fda75b\" y=\"102.2\"/>\n      </g>\n     </g>\n     <g id=\"text_5\">\n      <!-- 2000 -->\n      <g transform=\"translate(251.725 116.798437)scale(0.1 -0.1)\">\n       <defs>\n        <path d=\"M 1228 531 \nL 3431 531 \nL 3431 0 \nL 469 0 \nL 469 531 \nQ 828 903 1448 1529 \nQ 2069 2156 2228 2338 \nQ 2531 2678 2651 2914 \nQ 2772 3150 2772 3378 \nQ 2772 3750 2511 3984 \nQ 2250 4219 1831 4219 \nQ 1534 4219 1204 4116 \nQ 875 4013 500 3803 \nL 500 4441 \nQ 881 4594 1212 4672 \nQ 1544 4750 1819 4750 \nQ 2544 4750 2975 4387 \nQ 3406 4025 3406 3419 \nQ 3406 3131 3298 2873 \nQ 3191 2616 2906 2266 \nQ 2828 2175 2409 1742 \nQ 1991 1309 1228 531 \nz\n\" id=\"DejaVuSans-32\" transform=\"scale(0.015625)\"/>\n       </defs>\n       <use xlink:href=\"#DejaVuSans-32\"/>\n       <use x=\"63.623047\" xlink:href=\"#DejaVuSans-30\"/>\n       <use x=\"127.246094\" xlink:href=\"#DejaVuSans-30\"/>\n       <use x=\"190.869141\" xlink:href=\"#DejaVuSans-30\"/>\n      </g>\n     </g>\n    </g>\n    <g id=\"text_6\">\n     <!-- m/z -->\n     <g transform=\"translate(148.508594 130.476562)scale(0.1 -0.1)\">\n      <defs>\n       <path d=\"M 3328 2828 \nQ 3544 3216 3844 3400 \nQ 4144 3584 4550 3584 \nQ 5097 3584 5394 3201 \nQ 5691 2819 5691 2113 \nL 5691 0 \nL 5113 0 \nL 5113 2094 \nQ 5113 2597 4934 2840 \nQ 4756 3084 4391 3084 \nQ 3944 3084 3684 2787 \nQ 3425 2491 3425 1978 \nL 3425 0 \nL 2847 0 \nL 2847 2094 \nQ 2847 2600 2669 2842 \nQ 2491 3084 2119 3084 \nQ 1678 3084 1418 2786 \nQ 1159 2488 1159 1978 \nL 1159 0 \nL 581 0 \nL 581 3500 \nL 1159 3500 \nL 1159 2956 \nQ 1356 3278 1631 3431 \nQ 1906 3584 2284 3584 \nQ 2666 3584 2933 3390 \nQ 3200 3197 3328 2828 \nz\n\" id=\"DejaVuSans-6d\" transform=\"scale(0.015625)\"/>\n       <path d=\"M 1625 4666 \nL 2156 4666 \nL 531 -594 \nL 0 -594 \nL 1625 4666 \nz\n\" id=\"DejaVuSans-2f\" transform=\"scale(0.015625)\"/>\n       <path d=\"M 353 3500 \nL 3084 3500 \nL 3084 2975 \nL 922 459 \nL 3084 459 \nL 3084 0 \nL 275 0 \nL 275 525 \nL 2438 3041 \nL 353 3041 \nL 353 3500 \nz\n\" id=\"DejaVuSans-7a\" transform=\"scale(0.015625)\"/>\n      </defs>\n      <use xlink:href=\"#DejaVuSans-6d\"/>\n      <use x=\"97.412109\" xlink:href=\"#DejaVuSans-2f\"/>\n      <use x=\"131.103516\" xlink:href=\"#DejaVuSans-7a\"/>\n     </g>\n    </g>\n   </g>\n   <g id=\"matplotlib.axis_2\">\n    <g id=\"ytick_1\">\n     <g id=\"line2d_6\">\n      <defs>\n       <path d=\"M 0 0 \nL -3.5 0 \n\" id=\"m86dc452337\" style=\"stroke:#000000;stroke-width:0.8;\"/>\n      </defs>\n      <g>\n       <use style=\"stroke:#000000;stroke-width:0.8;\" x=\"50.925\" xlink:href=\"#m86dc452337\" y=\"102.2\"/>\n      </g>\n     </g>\n     <g id=\"text_7\">\n      <!-- 0 -->\n      <g transform=\"translate(37.5625 105.999219)scale(0.1 -0.1)\">\n       <use xlink:href=\"#DejaVuSans-30\"/>\n      </g>\n     </g>\n    </g>\n    <g id=\"ytick_2\">\n     <g id=\"line2d_7\">\n      <g>\n       <use style=\"stroke:#000000;stroke-width:0.8;\" x=\"50.925\" xlink:href=\"#m86dc452337\" y=\"79.327127\"/>\n      </g>\n     </g>\n     <g id=\"text_8\">\n      <!-- 250 -->\n      <g transform=\"translate(24.8375 83.126346)scale(0.1 -0.1)\">\n       <use xlink:href=\"#DejaVuSans-32\"/>\n       <use x=\"63.623047\" xlink:href=\"#DejaVuSans-35\"/>\n       <use x=\"127.246094\" xlink:href=\"#DejaVuSans-30\"/>\n      </g>\n     </g>\n    </g>\n    <g id=\"ytick_3\">\n     <g id=\"line2d_8\">\n      <g>\n       <use style=\"stroke:#000000;stroke-width:0.8;\" x=\"50.925\" xlink:href=\"#m86dc452337\" y=\"56.454254\"/>\n      </g>\n     </g>\n     <g id=\"text_9\">\n      <!-- 500 -->\n      <g transform=\"translate(24.8375 60.253473)scale(0.1 -0.1)\">\n       <use xlink:href=\"#DejaVuSans-35\"/>\n       <use x=\"63.623047\" xlink:href=\"#DejaVuSans-30\"/>\n       <use x=\"127.246094\" xlink:href=\"#DejaVuSans-30\"/>\n      </g>\n     </g>\n    </g>\n    <g id=\"ytick_4\">\n     <g id=\"line2d_9\">\n      <g>\n       <use style=\"stroke:#000000;stroke-width:0.8;\" x=\"50.925\" xlink:href=\"#m86dc452337\" y=\"33.581381\"/>\n      </g>\n     </g>\n     <g id=\"text_10\">\n      <!-- 750 -->\n      <g transform=\"translate(24.8375 37.3806)scale(0.1 -0.1)\">\n       <defs>\n        <path d=\"M 525 4666 \nL 3525 4666 \nL 3525 4397 \nL 1831 0 \nL 1172 0 \nL 2766 4134 \nL 525 4134 \nL 525 4666 \nz\n\" id=\"DejaVuSans-37\" transform=\"scale(0.015625)\"/>\n       </defs>\n       <use xlink:href=\"#DejaVuSans-37\"/>\n       <use x=\"63.623047\" xlink:href=\"#DejaVuSans-35\"/>\n       <use x=\"127.246094\" xlink:href=\"#DejaVuSans-30\"/>\n      </g>\n     </g>\n    </g>\n    <g id=\"text_11\">\n     <!-- Intensity -->\n     <g transform=\"translate(18.757812 78.2625)rotate(-90)scale(0.1 -0.1)\">\n      <defs>\n       <path d=\"M 628 4666 \nL 1259 4666 \nL 1259 0 \nL 628 0 \nL 628 4666 \nz\n\" id=\"DejaVuSans-49\" transform=\"scale(0.015625)\"/>\n       <path d=\"M 3513 2113 \nL 3513 0 \nL 2938 0 \nL 2938 2094 \nQ 2938 2591 2744 2837 \nQ 2550 3084 2163 3084 \nQ 1697 3084 1428 2787 \nQ 1159 2491 1159 1978 \nL 1159 0 \nL 581 0 \nL 581 3500 \nL 1159 3500 \nL 1159 2956 \nQ 1366 3272 1645 3428 \nQ 1925 3584 2291 3584 \nQ 2894 3584 3203 3211 \nQ 3513 2838 3513 2113 \nz\n\" id=\"DejaVuSans-6e\" transform=\"scale(0.015625)\"/>\n       <path d=\"M 1172 4494 \nL 1172 3500 \nL 2356 3500 \nL 2356 3053 \nL 1172 3053 \nL 1172 1153 \nQ 1172 725 1289 603 \nQ 1406 481 1766 481 \nL 2356 481 \nL 2356 0 \nL 1766 0 \nQ 1100 0 847 248 \nQ 594 497 594 1153 \nL 594 3053 \nL 172 3053 \nL 172 3500 \nL 594 3500 \nL 594 4494 \nL 1172 4494 \nz\n\" id=\"DejaVuSans-74\" transform=\"scale(0.015625)\"/>\n       <path d=\"M 3597 1894 \nL 3597 1613 \nL 953 1613 \nQ 991 1019 1311 708 \nQ 1631 397 2203 397 \nQ 2534 397 2845 478 \nQ 3156 559 3463 722 \nL 3463 178 \nQ 3153 47 2828 -22 \nQ 2503 -91 2169 -91 \nQ 1331 -91 842 396 \nQ 353 884 353 1716 \nQ 353 2575 817 3079 \nQ 1281 3584 2069 3584 \nQ 2775 3584 3186 3129 \nQ 3597 2675 3597 1894 \nz\nM 3022 2063 \nQ 3016 2534 2758 2815 \nQ 2500 3097 2075 3097 \nQ 1594 3097 1305 2825 \nQ 1016 2553 972 2059 \nL 3022 2063 \nz\n\" id=\"DejaVuSans-65\" transform=\"scale(0.015625)\"/>\n       <path d=\"M 2834 3397 \nL 2834 2853 \nQ 2591 2978 2328 3040 \nQ 2066 3103 1784 3103 \nQ 1356 3103 1142 2972 \nQ 928 2841 928 2578 \nQ 928 2378 1081 2264 \nQ 1234 2150 1697 2047 \nL 1894 2003 \nQ 2506 1872 2764 1633 \nQ 3022 1394 3022 966 \nQ 3022 478 2636 193 \nQ 2250 -91 1575 -91 \nQ 1294 -91 989 -36 \nQ 684 19 347 128 \nL 347 722 \nQ 666 556 975 473 \nQ 1284 391 1588 391 \nQ 1994 391 2212 530 \nQ 2431 669 2431 922 \nQ 2431 1156 2273 1281 \nQ 2116 1406 1581 1522 \nL 1381 1569 \nQ 847 1681 609 1914 \nQ 372 2147 372 2553 \nQ 372 3047 722 3315 \nQ 1072 3584 1716 3584 \nQ 2034 3584 2315 3537 \nQ 2597 3491 2834 3397 \nz\n\" id=\"DejaVuSans-73\" transform=\"scale(0.015625)\"/>\n       <path d=\"M 603 3500 \nL 1178 3500 \nL 1178 0 \nL 603 0 \nL 603 3500 \nz\nM 603 4863 \nL 1178 4863 \nL 1178 4134 \nL 603 4134 \nL 603 4863 \nz\n\" id=\"DejaVuSans-69\" transform=\"scale(0.015625)\"/>\n       <path d=\"M 2059 -325 \nQ 1816 -950 1584 -1140 \nQ 1353 -1331 966 -1331 \nL 506 -1331 \nL 506 -850 \nL 844 -850 \nQ 1081 -850 1212 -737 \nQ 1344 -625 1503 -206 \nL 1606 56 \nL 191 3500 \nL 800 3500 \nL 1894 763 \nL 2988 3500 \nL 3597 3500 \nL 2059 -325 \nz\n\" id=\"DejaVuSans-79\" transform=\"scale(0.015625)\"/>\n      </defs>\n      <use xlink:href=\"#DejaVuSans-49\"/>\n      <use x=\"29.492188\" xlink:href=\"#DejaVuSans-6e\"/>\n      <use x=\"92.871094\" xlink:href=\"#DejaVuSans-74\"/>\n      <use x=\"132.080078\" xlink:href=\"#DejaVuSans-65\"/>\n      <use x=\"193.603516\" xlink:href=\"#DejaVuSans-6e\"/>\n      <use x=\"256.982422\" xlink:href=\"#DejaVuSans-73\"/>\n      <use x=\"309.082031\" xlink:href=\"#DejaVuSans-69\"/>\n      <use x=\"336.865234\" xlink:href=\"#DejaVuSans-74\"/>\n      <use x=\"376.074219\" xlink:href=\"#DejaVuSans-79\"/>\n     </g>\n    </g>\n   </g>\n   <g id=\"LineCollection_1\">\n    <path clip-path=\"url(#p262f8d3900)\" d=\"M 114.711323 98.370166 \nL 114.711323 102.2 \n\" style=\"fill:none;stroke:#0000ff;\"/>\n    <path clip-path=\"url(#p262f8d3900)\" d=\"M 114.822356 98.069159 \nL 114.822356 102.2 \n\" style=\"fill:none;stroke:#0000ff;\"/>\n    <path clip-path=\"url(#p262f8d3900)\" d=\"M 114.930186 10.8 \nL 114.930186 102.2 \n\" style=\"fill:none;stroke:#0000ff;\"/>\n    <path clip-path=\"url(#p262f8d3900)\" d=\"M 115.034814 98.187183 \nL 115.034814 102.2 \n\" style=\"fill:none;stroke:#0000ff;\"/>\n    <path clip-path=\"url(#p262f8d3900)\" d=\"M 205.615322 98.370166 \nL 205.615322 102.2 \n\" style=\"fill:none;stroke:#0000ff;\"/>\n    <path clip-path=\"url(#p262f8d3900)\" d=\"M 205.727422 60.768078 \nL 205.727422 102.2 \n\" style=\"fill:none;stroke:#0000ff;\"/>\n    <path clip-path=\"url(#p262f8d3900)\" d=\"M 205.729557 85.190817 \nL 205.729557 102.2 \n\" style=\"fill:none;stroke:#0000ff;\"/>\n    <path clip-path=\"url(#p262f8d3900)\" d=\"M 205.835252 96.807491 \nL 205.835252 102.2 \n\" style=\"fill:none;stroke:#0000ff;\"/>\n   </g>\n   <g id=\"patch_3\">\n    <path d=\"M 50.925 102.2 \nL 50.925 10.8 \n\" style=\"fill:none;stroke:#000000;stroke-linecap:square;stroke-linejoin:miter;stroke-width:0.8;\"/>\n   </g>\n   <g id=\"patch_4\">\n    <path d=\"M 264.45 102.2 \nL 264.45 10.8 \n\" style=\"fill:none;stroke:#000000;stroke-linecap:square;stroke-linejoin:miter;stroke-width:0.8;\"/>\n   </g>\n   <g id=\"patch_5\">\n    <path d=\"M 50.925 102.2 \nL 264.45 102.2 \n\" style=\"fill:none;stroke:#000000;stroke-linecap:square;stroke-linejoin:miter;stroke-width:0.8;\"/>\n   </g>\n   <g id=\"patch_6\">\n    <path d=\"M 50.925 10.8 \nL 264.45 10.8 \n\" style=\"fill:none;stroke:#000000;stroke-linecap:square;stroke-linejoin:miter;stroke-width:0.8;\"/>\n   </g>\n  </g>\n </g>\n <defs>\n  <clipPath id=\"p262f8d3900\">\n   <rect height=\"91.4\" width=\"213.525\" x=\"50.925\" y=\"10.8\"/>\n  </clipPath>\n </defs>\n</svg>\n",
      "text/plain": [
       "<spectrum 1035169; 1467.0061Da precursor; 8 ions>"
      ]
     },
     "execution_count": 4,
     "metadata": {},
     "output_type": "execute_result"
    }
   ],
   "source": [
    "s"
   ]
  },
  {
   "cell_type": "code",
   "execution_count": 12,
   "id": "c4bde1bf",
   "metadata": {},
   "outputs": [
    {
     "data": {
      "text/plain": [
       "1467.0061"
      ]
     },
     "execution_count": 12,
     "metadata": {},
     "output_type": "execute_result"
    }
   ],
   "source": [
    "s.precursor.mz"
   ]
  },
  {
   "cell_type": "code",
   "execution_count": 5,
   "id": "cd77db76",
   "metadata": {},
   "outputs": [
    {
     "data": {
      "text/plain": [
       "['__class__',\n",
       " '__delattr__',\n",
       " '__dict__',\n",
       " '__dir__',\n",
       " '__doc__',\n",
       " '__eq__',\n",
       " '__format__',\n",
       " '__ge__',\n",
       " '__getattribute__',\n",
       " '__gt__',\n",
       " '__hash__',\n",
       " '__init__',\n",
       " '__init_subclass__',\n",
       " '__le__',\n",
       " '__lt__',\n",
       " '__module__',\n",
       " '__ne__',\n",
       " '__new__',\n",
       " '__reduce__',\n",
       " '__reduce_ex__',\n",
       " '__repr__',\n",
       " '__setattr__',\n",
       " '__sizeof__',\n",
       " '__slotnames__',\n",
       " '__str__',\n",
       " '__subclasshook__',\n",
       " '__weakref__',\n",
       " '_filtered',\n",
       " '_props',\n",
       " '_repr_png_',\n",
       " '_repr_svg_',\n",
       " 'change_mass_info',\n",
       " 'charge',\n",
       " 'collision_energy',\n",
       " 'collision_gas',\n",
       " 'column',\n",
       " 'composite_score',\n",
       " 'copy',\n",
       " 'cosine_score',\n",
       " 'estimated_ri',\n",
       " 'estimated_ri_error',\n",
       " 'ev',\n",
       " 'evenly_space',\n",
       " 'exact_mass',\n",
       " 'experimental_ri',\n",
       " 'experimental_ri_data',\n",
       " 'experimental_ri_error',\n",
       " 'filter',\n",
       " 'filtered',\n",
       " 'formula',\n",
       " 'from_arrays',\n",
       " 'from_arrow',\n",
       " 'from_mol',\n",
       " 'get_float_prop',\n",
       " 'get_int_prop',\n",
       " 'get_prop',\n",
       " 'get_string_prop',\n",
       " 'id',\n",
       " 'identity',\n",
       " 'inchi_key',\n",
       " 'insource_voltage',\n",
       " 'instrument',\n",
       " 'instrument_type',\n",
       " 'intersect',\n",
       " 'ion_mode',\n",
       " 'ionization',\n",
       " 'mask',\n",
       " 'merge',\n",
       " 'name',\n",
       " 'nce',\n",
       " 'norm',\n",
       " 'num_ions',\n",
       " 'parent_filter',\n",
       " 'plot',\n",
       " 'precursor',\n",
       " 'precursor_class',\n",
       " 'precursor_mass_info',\n",
       " 'precursor_type',\n",
       " 'product_class',\n",
       " 'product_mass_info',\n",
       " 'products',\n",
       " 'props',\n",
       " 'retention_time',\n",
       " 'sample_inlet',\n",
       " 'search_spectra',\n",
       " 'shift_mz',\n",
       " 'single_match',\n",
       " 'spectrum_type',\n",
       " 'stdnp',\n",
       " 'stdnp_data',\n",
       " 'stdnp_error',\n",
       " 'stdpolar',\n",
       " 'stdpolar_data',\n",
       " 'stdpolar_error',\n",
       " 'synonyms',\n",
       " 'to_msp',\n",
       " 'total_intensity',\n",
       " 'vial_id',\n",
       " 'weighted_intensity',\n",
       " 'windowed_filter']"
      ]
     },
     "execution_count": 5,
     "metadata": {},
     "output_type": "execute_result"
    }
   ],
   "source": [
    "dir(s)"
   ]
  },
  {
   "cell_type": "code",
   "execution_count": 6,
   "id": "03123799",
   "metadata": {},
   "outputs": [
    {
     "data": {
      "text/plain": [
       "['id',\n",
       " 'charge',\n",
       " 'ev',\n",
       " 'instrument',\n",
       " 'instrument_type',\n",
       " 'ion_mode',\n",
       " 'ionization',\n",
       " 'name',\n",
       " 'nce',\n",
       " 'intensity',\n",
       " 'product_massinfo',\n",
       " 'mz',\n",
       " 'precursor_intensity',\n",
       " 'precursor_massinfo',\n",
       " 'precursor_mz',\n",
       " 'spectrum_fp',\n",
       " 'spectrum_fp_count',\n",
       " 'spectrum_interval_fp',\n",
       " 'spectrum_interval_fp_count',\n",
       " 'aromatic_rings',\n",
       " 'collision_energy',\n",
       " 'collision_gas',\n",
       " 'column',\n",
       " 'ecfp4',\n",
       " 'ecfp4_count',\n",
       " 'estimated_ri',\n",
       " 'estimated_ri_error',\n",
       " 'exact_mass',\n",
       " 'exact_mw',\n",
       " 'experimental_ri',\n",
       " 'experimental_ri_data',\n",
       " 'experimental_ri_error',\n",
       " 'formula',\n",
       " 'has_2d',\n",
       " 'has_conformer',\n",
       " 'has_tms',\n",
       " 'hba',\n",
       " 'hbd',\n",
       " 'inchi_key',\n",
       " 'inchi_key_orig',\n",
       " 'insource_voltage',\n",
       " 'isomeric_smiles',\n",
       " 'mol',\n",
       " 'num_atoms',\n",
       " 'num_undef_double',\n",
       " 'num_undef_stereo',\n",
       " 'rotatable_bonds',\n",
       " 'sample_inlet',\n",
       " 'set',\n",
       " 'smiles',\n",
       " 'stdnp',\n",
       " 'stdnp_data',\n",
       " 'stdnp_error',\n",
       " 'stdpolar',\n",
       " 'stdpolar_data',\n",
       " 'stdpolar_error',\n",
       " 'synonyms',\n",
       " 'tpsa',\n",
       " 'vial_id']"
      ]
     },
     "execution_count": 6,
     "metadata": {},
     "output_type": "execute_result"
    }
   ],
   "source": [
    "table.column_names"
   ]
  },
  {
   "cell_type": "code",
   "execution_count": 17,
   "id": "b036d05a",
   "metadata": {},
   "outputs": [
    {
     "data": {
      "text/html": [
       "<div>\n",
       "<style scoped>\n",
       "    .dataframe tbody tr th:only-of-type {\n",
       "        vertical-align: middle;\n",
       "    }\n",
       "\n",
       "    .dataframe tbody tr th {\n",
       "        vertical-align: top;\n",
       "    }\n",
       "\n",
       "    .dataframe thead th {\n",
       "        text-align: right;\n",
       "    }\n",
       "</style>\n",
       "<table border=\"1\" class=\"dataframe\">\n",
       "  <thead>\n",
       "    <tr style=\"text-align: right;\">\n",
       "      <th></th>\n",
       "      <th>id</th>\n",
       "      <th>name</th>\n",
       "      <th>precursor_mz</th>\n",
       "    </tr>\n",
       "  </thead>\n",
       "  <tbody>\n",
       "    <tr>\n",
       "      <th>0</th>\n",
       "      <td>1035166</td>\n",
       "      <td>1',3'-Bis[1,2-dilinoleoyl-sn-glycero-3-phospho...</td>\n",
       "      <td>1467.0061</td>\n",
       "    </tr>\n",
       "    <tr>\n",
       "      <th>1</th>\n",
       "      <td>1035167</td>\n",
       "      <td>1',3'-Bis[1,2-dilinoleoyl-sn-glycero-3-phospho...</td>\n",
       "      <td>1467.0061</td>\n",
       "    </tr>\n",
       "    <tr>\n",
       "      <th>2</th>\n",
       "      <td>1035168</td>\n",
       "      <td>1',3'-Bis[1,2-dilinoleoyl-sn-glycero-3-phospho...</td>\n",
       "      <td>1467.0061</td>\n",
       "    </tr>\n",
       "    <tr>\n",
       "      <th>3</th>\n",
       "      <td>1035169</td>\n",
       "      <td>1',3'-Bis[1,2-dilinoleoyl-sn-glycero-3-phospho...</td>\n",
       "      <td>1467.0061</td>\n",
       "    </tr>\n",
       "    <tr>\n",
       "      <th>4</th>\n",
       "      <td>1035170</td>\n",
       "      <td>1',3'-Bis[1,2-dilinoleoyl-sn-glycero-3-phospho...</td>\n",
       "      <td>1467.0061</td>\n",
       "    </tr>\n",
       "  </tbody>\n",
       "</table>\n",
       "</div>"
      ],
      "text/plain": [
       "        id                                               name  precursor_mz\n",
       "0  1035166  1',3'-Bis[1,2-dilinoleoyl-sn-glycero-3-phospho...     1467.0061\n",
       "1  1035167  1',3'-Bis[1,2-dilinoleoyl-sn-glycero-3-phospho...     1467.0061\n",
       "2  1035168  1',3'-Bis[1,2-dilinoleoyl-sn-glycero-3-phospho...     1467.0061\n",
       "3  1035169  1',3'-Bis[1,2-dilinoleoyl-sn-glycero-3-phospho...     1467.0061\n",
       "4  1035170  1',3'-Bis[1,2-dilinoleoyl-sn-glycero-3-phospho...     1467.0061"
      ]
     },
     "execution_count": 17,
     "metadata": {},
     "output_type": "execute_result"
    }
   ],
   "source": [
    "table.select(['id','name','precursor_mz']).to_pandas()"
   ]
  },
  {
   "cell_type": "code",
   "execution_count": 8,
   "id": "742c6895",
   "metadata": {},
   "outputs": [],
   "source": [
    "from massspec.utils.tables import row_view\n",
    "row = row_view(table, 3)"
   ]
  },
  {
   "cell_type": "code",
   "execution_count": 10,
   "id": "c0ea8bfc",
   "metadata": {},
   "outputs": [
    {
     "data": {
      "text/plain": [
       "10.0"
      ]
     },
     "execution_count": 10,
     "metadata": {},
     "output_type": "execute_result"
    }
   ],
   "source": [
    "row.precursor_massinfo().tolerance()"
   ]
  },
  {
   "cell_type": "code",
   "execution_count": 32,
   "id": "dca15903",
   "metadata": {},
   "outputs": [
    {
     "data": {
      "text/plain": [
       "['__class__',\n",
       " '__delattr__',\n",
       " '__dict__',\n",
       " '__dir__',\n",
       " '__doc__',\n",
       " '__eq__',\n",
       " '__format__',\n",
       " '__ge__',\n",
       " '__getattribute__',\n",
       " '__gt__',\n",
       " '__hash__',\n",
       " '__init__',\n",
       " '__init_subclass__',\n",
       " '__le__',\n",
       " '__lt__',\n",
       " '__module__',\n",
       " '__ne__',\n",
       " '__new__',\n",
       " '__reduce__',\n",
       " '__reduce_ex__',\n",
       " '__repr__',\n",
       " '__setattr__',\n",
       " '__sizeof__',\n",
       " '__str__',\n",
       " '__subclasshook__',\n",
       " '__weakref__',\n",
       " 'evenly_spaced',\n",
       " 'get',\n",
       " 'mass_type',\n",
       " 'neutral_loss',\n",
       " 'neutral_loss_charge',\n",
       " 'struct',\n",
       " 'tolerance',\n",
       " 'tolerance_type']"
      ]
     },
     "execution_count": 32,
     "metadata": {},
     "output_type": "execute_result"
    }
   ],
   "source": [
    "dir(row.product_massinfo())"
   ]
  },
  {
   "cell_type": "code",
   "execution_count": 34,
   "id": "298cf879",
   "metadata": {},
   "outputs": [
    {
     "data": {
      "text/plain": [
       "<bound method struct_view.<locals>.add_accessor_fn.<locals>.fn_scalar of <massspec.utils.tables.struct_view.<locals>.struct_accessor object at 0x7f0946820c40>>"
      ]
     },
     "execution_count": 34,
     "metadata": {},
     "output_type": "execute_result"
    }
   ],
   "source": [
    "row.product_massinfo().get('tolerance')"
   ]
  },
  {
   "cell_type": "code",
   "execution_count": 11,
   "id": "327a9cd8",
   "metadata": {},
   "outputs": [
    {
     "data": {
      "text/plain": [
       "160"
      ]
     },
     "execution_count": 11,
     "metadata": {},
     "output_type": "execute_result"
    }
   ],
   "source": [
    "table = create_dataset(cols=[int],rows=20)\n",
    "table.nbytes"
   ]
  },
  {
   "cell_type": "code",
   "execution_count": 17,
   "id": "6f0730c8",
   "metadata": {},
   "outputs": [
    {
     "data": {
      "text/plain": [
       "604"
      ]
     },
     "execution_count": 17,
     "metadata": {},
     "output_type": "execute_result"
    }
   ],
   "source": [
    "col = pa.array([\"Why is my car still dirty?\"] * table.num_rows)\n",
    "#col = pa.array([\"Why is my car still dirty?\"] * table.num_rows).dictionary_encode()\n",
    "col.nbytes"
   ]
  },
  {
   "cell_type": "code",
   "execution_count": 18,
   "id": "c673dc4a",
   "metadata": {},
   "outputs": [
    {
     "data": {
      "text/plain": [
       "<pyarrow.lib.StructArray object at 0x7fb52f6d3820>\n",
       "-- is_valid: all not null\n",
       "-- child 0 type: string\n",
       "  [\n",
       "    \"Why is my car still dirty?\"\n",
       "  ]\n",
       "-- child 1 type: int64\n",
       "  [\n",
       "    20\n",
       "  ]"
      ]
     },
     "execution_count": 18,
     "metadata": {},
     "output_type": "execute_result"
    }
   ],
   "source": [
    "col.value_counts()"
   ]
  },
  {
   "cell_type": "code",
   "execution_count": 19,
   "id": "b66744b5",
   "metadata": {},
   "outputs": [
    {
     "data": {
      "text/plain": [
       "<pyarrow.lib.StringArray object at 0x7fb52f689760>\n",
       "[\n",
       "  \"Why is my car still dirty?\",\n",
       "  \"Why is my car still dirty?\",\n",
       "  \"Why is my car still dirty?\",\n",
       "  \"Why is my car still dirty?\",\n",
       "  \"Why is my car still dirty?\",\n",
       "  \"Why is my car still dirty?\",\n",
       "  \"Why is my car still dirty?\",\n",
       "  \"Why is my car still dirty?\",\n",
       "  \"Why is my car still dirty?\",\n",
       "  \"Why is my car still dirty?\",\n",
       "  \"Why is my car still dirty?\",\n",
       "  \"Why is my car still dirty?\",\n",
       "  \"Why is my car still dirty?\",\n",
       "  \"Why is my car still dirty?\",\n",
       "  \"Why is my car still dirty?\",\n",
       "  \"Why is my car still dirty?\",\n",
       "  \"Why is my car still dirty?\",\n",
       "  \"Why is my car still dirty?\",\n",
       "  \"Why is my car still dirty?\",\n",
       "  \"Why is my car still dirty?\"\n",
       "]"
      ]
     },
     "execution_count": 19,
     "metadata": {},
     "output_type": "execute_result"
    }
   ],
   "source": [
    "col"
   ]
  },
  {
   "cell_type": "code",
   "execution_count": 20,
   "id": "a2810d0a",
   "metadata": {},
   "outputs": [
    {
     "ename": "AttributeError",
     "evalue": "'pyarrow.lib.StringArray' object has no attribute 'get_total_buffer_size'",
     "output_type": "error",
     "traceback": [
      "\u001b[0;31m---------------------------------------------------------------------------\u001b[0m",
      "\u001b[0;31mAttributeError\u001b[0m                            Traceback (most recent call last)",
      "Input \u001b[0;32mIn [20]\u001b[0m, in \u001b[0;36m<module>\u001b[0;34m\u001b[0m\n\u001b[0;32m----> 1\u001b[0m \u001b[43mcol\u001b[49m\u001b[38;5;241;43m.\u001b[39;49m\u001b[43mget_total_buffer_size\u001b[49m()\n",
      "\u001b[0;31mAttributeError\u001b[0m: 'pyarrow.lib.StringArray' object has no attribute 'get_total_buffer_size'"
     ]
    }
   ],
   "source": [
    "col.get_total_buffer_size()"
   ]
  },
  {
   "cell_type": "code",
   "execution_count": null,
   "id": "b86ab81e",
   "metadata": {},
   "outputs": [],
   "source": []
  }
 ],
 "metadata": {
  "kernelspec": {
   "display_name": "Python 3.9.10 ('base')",
   "language": "python",
   "name": "python3"
  },
  "language_info": {
   "codemirror_mode": {
    "name": "ipython",
    "version": 3
   },
   "file_extension": ".py",
   "mimetype": "text/x-python",
   "name": "python",
   "nbconvert_exporter": "python",
   "pygments_lexer": "ipython3",
   "version": "3.9.10"
  },
  "vscode": {
   "interpreter": {
    "hash": "11d150ef1a59d6ee6bd3538ad9ed751649d8a614c736b8deec7e36a34a38bbb5"
   }
  }
 },
 "nbformat": 4,
 "nbformat_minor": 5
}
